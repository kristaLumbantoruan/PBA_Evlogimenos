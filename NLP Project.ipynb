{
  "nbformat": 4,
  "nbformat_minor": 0,
  "metadata": {
    "colab": {
      "name": "Sentiment Analysis Hotel Based on Review with Comparing Naive Bayes and SVM.ipynb",
      "provenance": [],
      "collapsed_sections": []
    },
    "kernelspec": {
      "display_name": "Python 3",
      "name": "python3"
    },
    "widgets": {
      "application/vnd.jupyter.widget-state+json": {
        "04f7b3aa8e784ef8be54f6ae4fc99179": {
          "model_module": "@jupyter-widgets/controls",
          "model_name": "HBoxModel",
          "state": {
            "_view_name": "HBoxView",
            "_dom_classes": [],
            "_model_name": "HBoxModel",
            "_view_module": "@jupyter-widgets/controls",
            "_model_module_version": "1.5.0",
            "_view_count": null,
            "_view_module_version": "1.5.0",
            "box_style": "",
            "layout": "IPY_MODEL_a8d5f55d71e64510a44afc58c087671c",
            "_model_module": "@jupyter-widgets/controls",
            "children": [
              "IPY_MODEL_d23fc1f532f8442593bee93a5dfc3dfd",
              "IPY_MODEL_54a363c66caf424682ef2082e9b6c1f9"
            ]
          }
        },
        "a8d5f55d71e64510a44afc58c087671c": {
          "model_module": "@jupyter-widgets/base",
          "model_name": "LayoutModel",
          "state": {
            "_view_name": "LayoutView",
            "grid_template_rows": null,
            "right": null,
            "justify_content": null,
            "_view_module": "@jupyter-widgets/base",
            "overflow": null,
            "_model_module_version": "1.2.0",
            "_view_count": null,
            "flex_flow": null,
            "width": null,
            "min_width": null,
            "border": null,
            "align_items": null,
            "bottom": null,
            "_model_module": "@jupyter-widgets/base",
            "top": null,
            "grid_column": null,
            "overflow_y": null,
            "overflow_x": null,
            "grid_auto_flow": null,
            "grid_area": null,
            "grid_template_columns": null,
            "flex": null,
            "_model_name": "LayoutModel",
            "justify_items": null,
            "grid_row": null,
            "max_height": null,
            "align_content": null,
            "visibility": null,
            "align_self": null,
            "height": null,
            "min_height": null,
            "padding": null,
            "grid_auto_rows": null,
            "grid_gap": null,
            "max_width": null,
            "order": null,
            "_view_module_version": "1.2.0",
            "grid_template_areas": null,
            "object_position": null,
            "object_fit": null,
            "grid_auto_columns": null,
            "margin": null,
            "display": null,
            "left": null
          }
        },
        "d23fc1f532f8442593bee93a5dfc3dfd": {
          "model_module": "@jupyter-widgets/controls",
          "model_name": "FloatProgressModel",
          "state": {
            "_view_name": "ProgressView",
            "style": "IPY_MODEL_f168177b721a4c0c927c5957b022eb1c",
            "_dom_classes": [],
            "description": "",
            "_model_name": "FloatProgressModel",
            "bar_style": "info",
            "max": 1,
            "_view_module": "@jupyter-widgets/controls",
            "_model_module_version": "1.5.0",
            "value": 0,
            "_view_count": null,
            "_view_module_version": "1.5.0",
            "orientation": "horizontal",
            "min": 0,
            "description_tooltip": null,
            "_model_module": "@jupyter-widgets/controls",
            "layout": "IPY_MODEL_01d7d0bc78a64436abf2a5d4becbe8b7"
          }
        },
        "54a363c66caf424682ef2082e9b6c1f9": {
          "model_module": "@jupyter-widgets/controls",
          "model_name": "HTMLModel",
          "state": {
            "_view_name": "HTMLView",
            "style": "IPY_MODEL_933a933617094563a75a7eebedcadfad",
            "_dom_classes": [],
            "description": "",
            "_model_name": "HTMLModel",
            "placeholder": "​",
            "_view_module": "@jupyter-widgets/controls",
            "_model_module_version": "1.5.0",
            "value": " 0/? [00:00&lt;?, ?it/s]",
            "_view_count": null,
            "_view_module_version": "1.5.0",
            "description_tooltip": null,
            "_model_module": "@jupyter-widgets/controls",
            "layout": "IPY_MODEL_7ebf80c8af7d4291beb51d2a3c869122"
          }
        },
        "f168177b721a4c0c927c5957b022eb1c": {
          "model_module": "@jupyter-widgets/controls",
          "model_name": "ProgressStyleModel",
          "state": {
            "_view_name": "StyleView",
            "_model_name": "ProgressStyleModel",
            "description_width": "initial",
            "_view_module": "@jupyter-widgets/base",
            "_model_module_version": "1.5.0",
            "_view_count": null,
            "_view_module_version": "1.2.0",
            "bar_color": null,
            "_model_module": "@jupyter-widgets/controls"
          }
        },
        "01d7d0bc78a64436abf2a5d4becbe8b7": {
          "model_module": "@jupyter-widgets/base",
          "model_name": "LayoutModel",
          "state": {
            "_view_name": "LayoutView",
            "grid_template_rows": null,
            "right": null,
            "justify_content": null,
            "_view_module": "@jupyter-widgets/base",
            "overflow": null,
            "_model_module_version": "1.2.0",
            "_view_count": null,
            "flex_flow": null,
            "width": null,
            "min_width": null,
            "border": null,
            "align_items": null,
            "bottom": null,
            "_model_module": "@jupyter-widgets/base",
            "top": null,
            "grid_column": null,
            "overflow_y": null,
            "overflow_x": null,
            "grid_auto_flow": null,
            "grid_area": null,
            "grid_template_columns": null,
            "flex": null,
            "_model_name": "LayoutModel",
            "justify_items": null,
            "grid_row": null,
            "max_height": null,
            "align_content": null,
            "visibility": null,
            "align_self": null,
            "height": null,
            "min_height": null,
            "padding": null,
            "grid_auto_rows": null,
            "grid_gap": null,
            "max_width": null,
            "order": null,
            "_view_module_version": "1.2.0",
            "grid_template_areas": null,
            "object_position": null,
            "object_fit": null,
            "grid_auto_columns": null,
            "margin": null,
            "display": null,
            "left": null
          }
        },
        "933a933617094563a75a7eebedcadfad": {
          "model_module": "@jupyter-widgets/controls",
          "model_name": "DescriptionStyleModel",
          "state": {
            "_view_name": "StyleView",
            "_model_name": "DescriptionStyleModel",
            "description_width": "",
            "_view_module": "@jupyter-widgets/base",
            "_model_module_version": "1.5.0",
            "_view_count": null,
            "_view_module_version": "1.2.0",
            "_model_module": "@jupyter-widgets/controls"
          }
        },
        "7ebf80c8af7d4291beb51d2a3c869122": {
          "model_module": "@jupyter-widgets/base",
          "model_name": "LayoutModel",
          "state": {
            "_view_name": "LayoutView",
            "grid_template_rows": null,
            "right": null,
            "justify_content": null,
            "_view_module": "@jupyter-widgets/base",
            "overflow": null,
            "_model_module_version": "1.2.0",
            "_view_count": null,
            "flex_flow": null,
            "width": null,
            "min_width": null,
            "border": null,
            "align_items": null,
            "bottom": null,
            "_model_module": "@jupyter-widgets/base",
            "top": null,
            "grid_column": null,
            "overflow_y": null,
            "overflow_x": null,
            "grid_auto_flow": null,
            "grid_area": null,
            "grid_template_columns": null,
            "flex": null,
            "_model_name": "LayoutModel",
            "justify_items": null,
            "grid_row": null,
            "max_height": null,
            "align_content": null,
            "visibility": null,
            "align_self": null,
            "height": null,
            "min_height": null,
            "padding": null,
            "grid_auto_rows": null,
            "grid_gap": null,
            "max_width": null,
            "order": null,
            "_view_module_version": "1.2.0",
            "grid_template_areas": null,
            "object_position": null,
            "object_fit": null,
            "grid_auto_columns": null,
            "margin": null,
            "display": null,
            "left": null
          }
        }
      }
    }
  },
  "cells": [
    {
      "cell_type": "markdown",
      "metadata": {
        "id": "OEu3JsYqb3la"
      },
      "source": [
        "#NLP - Sentiment Analysis Hotel based on Review with Comparing Naive Bayes and SVM\n"
      ]
    },
    {
      "cell_type": "code",
      "metadata": {
        "id": "GrOJLhACCWlc",
        "colab": {
          "base_uri": "https://localhost:8080/",
          "height": 82,
          "referenced_widgets": [
            "04f7b3aa8e784ef8be54f6ae4fc99179",
            "a8d5f55d71e64510a44afc58c087671c",
            "d23fc1f532f8442593bee93a5dfc3dfd",
            "54a363c66caf424682ef2082e9b6c1f9",
            "f168177b721a4c0c927c5957b022eb1c",
            "01d7d0bc78a64436abf2a5d4becbe8b7",
            "933a933617094563a75a7eebedcadfad",
            "7ebf80c8af7d4291beb51d2a3c869122"
          ]
        },
        "outputId": "a3853cce-37d0-47b8-f645-6ebc87b9e6b2"
      },
      "source": [
        "#import library\n",
        "\n",
        "import numpy as np\n",
        "#import pandas\n",
        "import pandas as pd\n",
        "import seaborn as sns\n",
        "from pylab import rcParams\n",
        "import string\n",
        "import re\n",
        "import matplotlib.pyplot as plt\n",
        "import math\n",
        "from sklearn.model_selection import train_test_split\n",
        "from collections import Counter, defaultdict\n",
        "from bs4 import BeautifulSoup\n",
        "from sklearn.metrics import accuracy_score\n",
        "from nltk.tokenize import WordPunctTokenizer\n",
        "from nltk.tokenize import RegexpTokenizer\n",
        "from sklearn.metrics import classification_report, confusion_matrix\n",
        "#import Natural Language Toolkit\n",
        "import nltk\n",
        "from nltk.stem import PorterStemmer\n",
        "from nltk.stem import WordNetLemmatizer\n",
        "from nltk.corpus import stopwords\n",
        "import os\n",
        "from sklearn.feature_extraction.text import CountVectorizer\n",
        "from sklearn.linear_model import LogisticRegression\n",
        "from sklearn.feature_extraction.text import TfidfVectorizer\n",
        "import time\n",
        "from sklearn import svm\n",
        "from sklearn.metrics import classification_report\n",
        "from sklearn import naive_bayes\n",
        "from sklearn.metrics import roc_auc_score\n",
        "from tqdm import tqdm, tqdm_notebook\n",
        "tqdm_notebook().pandas()"
      ],
      "execution_count": 1,
      "outputs": [
        {
          "output_type": "stream",
          "text": [
            "/usr/local/lib/python3.6/dist-packages/ipykernel_launcher.py:34: TqdmDeprecationWarning: This function will be removed in tqdm==5.0.0\n",
            "Please use `tqdm.notebook.tqdm` instead of `tqdm.tqdm_notebook`\n"
          ],
          "name": "stderr"
        },
        {
          "output_type": "display_data",
          "data": {
            "application/vnd.jupyter.widget-view+json": {
              "model_id": "04f7b3aa8e784ef8be54f6ae4fc99179",
              "version_minor": 0,
              "version_major": 2
            },
            "text/plain": [
              "HBox(children=(FloatProgress(value=1.0, bar_style='info', max=1.0), HTML(value='')))"
            ]
          },
          "metadata": {
            "tags": []
          }
        }
      ]
    },
    {
      "cell_type": "markdown",
      "metadata": {
        "id": "igl8kKNMbxRD"
      },
      "source": [
        "#Data Facts and Import"
      ]
    },
    {
      "cell_type": "code",
      "metadata": {
        "id": "XU2MVzvpYM44"
      },
      "source": [
        "get_ipython().run_line_magic('matplotlib', 'inline')"
      ],
      "execution_count": 2,
      "outputs": []
    },
    {
      "cell_type": "code",
      "metadata": {
        "id": "I3pQ7ZrUYQKH"
      },
      "source": [
        "sns.set(style='whitegrid', palette='muted', font_scale=1.5)"
      ],
      "execution_count": 3,
      "outputs": []
    },
    {
      "cell_type": "code",
      "metadata": {
        "id": "nWqEMABqYTE7"
      },
      "source": [
        "\n",
        "rcParams['figure.figsize'] = 10, 10"
      ],
      "execution_count": 4,
      "outputs": []
    },
    {
      "cell_type": "code",
      "metadata": {
        "id": "9kfAzyvYYV2a"
      },
      "source": [
        "RANDOM_SEED = 42\n",
        "np.random.seed(RANDOM_SEED)"
      ],
      "execution_count": 5,
      "outputs": []
    },
    {
      "cell_type": "code",
      "metadata": {
        "id": "GaEk78dOYaHH"
      },
      "source": [
        "#import data\n",
        "corpus = pd.read_csv(\"/content/drive/MyDrive/PROYEK/Proyek PBA/7282_1.csv\")"
      ],
      "execution_count": 6,
      "outputs": []
    },
    {
      "cell_type": "code",
      "metadata": {
        "colab": {
          "base_uri": "https://localhost:8080/"
        },
        "id": "p96xWhv4cUO9",
        "outputId": "227598b3-7aea-45a0-fd10-b0bbd46b5bae"
      },
      "source": [
        "#Check the shape (number of columns and rows) in the dataset\n",
        "corpus.shape"
      ],
      "execution_count": 7,
      "outputs": [
        {
          "output_type": "execute_result",
          "data": {
            "text/plain": [
              "(35912, 19)"
            ]
          },
          "metadata": {
            "tags": []
          },
          "execution_count": 7
        }
      ]
    },
    {
      "cell_type": "code",
      "metadata": {
        "colab": {
          "base_uri": "https://localhost:8080/"
        },
        "id": "Okzxun_NTsTv",
        "outputId": "e748c177-c3cf-441f-f05f-5407000d7ecf"
      },
      "source": [
        "print('Panjang Corpus : ',len(corpus))"
      ],
      "execution_count": 8,
      "outputs": [
        {
          "output_type": "stream",
          "text": [
            "Panjang Corpus :  35912\n"
          ],
          "name": "stdout"
        }
      ]
    },
    {
      "cell_type": "code",
      "metadata": {
        "colab": {
          "base_uri": "https://localhost:8080/",
          "height": 910
        },
        "id": "rQt3EUyBYg7L",
        "outputId": "179bca4e-62d4-4bfd-9424-e807d7c39bca"
      },
      "source": [
        "#Show data\n",
        "corpus"
      ],
      "execution_count": 9,
      "outputs": [
        {
          "output_type": "execute_result",
          "data": {
            "text/html": [
              "<div>\n",
              "<style scoped>\n",
              "    .dataframe tbody tr th:only-of-type {\n",
              "        vertical-align: middle;\n",
              "    }\n",
              "\n",
              "    .dataframe tbody tr th {\n",
              "        vertical-align: top;\n",
              "    }\n",
              "\n",
              "    .dataframe thead th {\n",
              "        text-align: right;\n",
              "    }\n",
              "</style>\n",
              "<table border=\"1\" class=\"dataframe\">\n",
              "  <thead>\n",
              "    <tr style=\"text-align: right;\">\n",
              "      <th></th>\n",
              "      <th>address</th>\n",
              "      <th>categories</th>\n",
              "      <th>city</th>\n",
              "      <th>country</th>\n",
              "      <th>latitude</th>\n",
              "      <th>longitude</th>\n",
              "      <th>name</th>\n",
              "      <th>postalCode</th>\n",
              "      <th>province</th>\n",
              "      <th>reviews_date</th>\n",
              "      <th>reviews_dateAdded</th>\n",
              "      <th>reviews_doRecommend</th>\n",
              "      <th>reviews_id</th>\n",
              "      <th>reviews_rating</th>\n",
              "      <th>reviews_text</th>\n",
              "      <th>reviews_title</th>\n",
              "      <th>reviews_userCity</th>\n",
              "      <th>reviews_username</th>\n",
              "      <th>reviews_userProvince</th>\n",
              "    </tr>\n",
              "  </thead>\n",
              "  <tbody>\n",
              "    <tr>\n",
              "      <th>0</th>\n",
              "      <td>Riviera San Nicol 11/a</td>\n",
              "      <td>Hotels</td>\n",
              "      <td>Mableton</td>\n",
              "      <td>US</td>\n",
              "      <td>45.421611</td>\n",
              "      <td>12.376187</td>\n",
              "      <td>Hotel Russo Palace</td>\n",
              "      <td>30126</td>\n",
              "      <td>GA</td>\n",
              "      <td>2013-09-22T00:00:00Z</td>\n",
              "      <td>2016-10-24T00:00:25Z</td>\n",
              "      <td>NaN</td>\n",
              "      <td>NaN</td>\n",
              "      <td>4.0</td>\n",
              "      <td>Pleasant 10 min walk along the sea front to th...</td>\n",
              "      <td>Good location away from the crouds</td>\n",
              "      <td>NaN</td>\n",
              "      <td>Russ (kent)</td>\n",
              "      <td>NaN</td>\n",
              "    </tr>\n",
              "    <tr>\n",
              "      <th>1</th>\n",
              "      <td>Riviera San Nicol 11/a</td>\n",
              "      <td>Hotels</td>\n",
              "      <td>Mableton</td>\n",
              "      <td>US</td>\n",
              "      <td>45.421611</td>\n",
              "      <td>12.376187</td>\n",
              "      <td>Hotel Russo Palace</td>\n",
              "      <td>30126</td>\n",
              "      <td>GA</td>\n",
              "      <td>2015-04-03T00:00:00Z</td>\n",
              "      <td>2016-10-24T00:00:25Z</td>\n",
              "      <td>NaN</td>\n",
              "      <td>NaN</td>\n",
              "      <td>5.0</td>\n",
              "      <td>Really lovely hotel. Stayed on the very top fl...</td>\n",
              "      <td>Great hotel with Jacuzzi bath!</td>\n",
              "      <td>NaN</td>\n",
              "      <td>A Traveler</td>\n",
              "      <td>NaN</td>\n",
              "    </tr>\n",
              "    <tr>\n",
              "      <th>2</th>\n",
              "      <td>Riviera San Nicol 11/a</td>\n",
              "      <td>Hotels</td>\n",
              "      <td>Mableton</td>\n",
              "      <td>US</td>\n",
              "      <td>45.421611</td>\n",
              "      <td>12.376187</td>\n",
              "      <td>Hotel Russo Palace</td>\n",
              "      <td>30126</td>\n",
              "      <td>GA</td>\n",
              "      <td>2014-05-13T00:00:00Z</td>\n",
              "      <td>2016-10-24T00:00:25Z</td>\n",
              "      <td>NaN</td>\n",
              "      <td>NaN</td>\n",
              "      <td>5.0</td>\n",
              "      <td>Ett mycket bra hotell. Det som drog ner betyge...</td>\n",
              "      <td>Lugnt l��ge</td>\n",
              "      <td>NaN</td>\n",
              "      <td>Maud</td>\n",
              "      <td>NaN</td>\n",
              "    </tr>\n",
              "    <tr>\n",
              "      <th>3</th>\n",
              "      <td>Riviera San Nicol 11/a</td>\n",
              "      <td>Hotels</td>\n",
              "      <td>Mableton</td>\n",
              "      <td>US</td>\n",
              "      <td>45.421611</td>\n",
              "      <td>12.376187</td>\n",
              "      <td>Hotel Russo Palace</td>\n",
              "      <td>30126</td>\n",
              "      <td>GA</td>\n",
              "      <td>2013-10-27T00:00:00Z</td>\n",
              "      <td>2016-10-24T00:00:25Z</td>\n",
              "      <td>NaN</td>\n",
              "      <td>NaN</td>\n",
              "      <td>5.0</td>\n",
              "      <td>We stayed here for four nights in October. The...</td>\n",
              "      <td>Good location on the Lido.</td>\n",
              "      <td>NaN</td>\n",
              "      <td>Julie</td>\n",
              "      <td>NaN</td>\n",
              "    </tr>\n",
              "    <tr>\n",
              "      <th>4</th>\n",
              "      <td>Riviera San Nicol 11/a</td>\n",
              "      <td>Hotels</td>\n",
              "      <td>Mableton</td>\n",
              "      <td>US</td>\n",
              "      <td>45.421611</td>\n",
              "      <td>12.376187</td>\n",
              "      <td>Hotel Russo Palace</td>\n",
              "      <td>30126</td>\n",
              "      <td>GA</td>\n",
              "      <td>2015-03-05T00:00:00Z</td>\n",
              "      <td>2016-10-24T00:00:25Z</td>\n",
              "      <td>NaN</td>\n",
              "      <td>NaN</td>\n",
              "      <td>5.0</td>\n",
              "      <td>We stayed here for four nights in October. The...</td>\n",
              "      <td>������ ���������������</td>\n",
              "      <td>NaN</td>\n",
              "      <td>sungchul</td>\n",
              "      <td>NaN</td>\n",
              "    </tr>\n",
              "    <tr>\n",
              "      <th>...</th>\n",
              "      <td>...</td>\n",
              "      <td>...</td>\n",
              "      <td>...</td>\n",
              "      <td>...</td>\n",
              "      <td>...</td>\n",
              "      <td>...</td>\n",
              "      <td>...</td>\n",
              "      <td>...</td>\n",
              "      <td>...</td>\n",
              "      <td>...</td>\n",
              "      <td>...</td>\n",
              "      <td>...</td>\n",
              "      <td>...</td>\n",
              "      <td>...</td>\n",
              "      <td>...</td>\n",
              "      <td>...</td>\n",
              "      <td>...</td>\n",
              "      <td>...</td>\n",
              "      <td>...</td>\n",
              "    </tr>\n",
              "    <tr>\n",
              "      <th>35907</th>\n",
              "      <td>1088 Powdermill Rd</td>\n",
              "      <td>Cabins,Resorts &amp; Vacation Cottages,Wedding Cha...</td>\n",
              "      <td>Gatlinburg</td>\n",
              "      <td>US</td>\n",
              "      <td>35.754868</td>\n",
              "      <td>-83.457295</td>\n",
              "      <td>Elk Springs Resort</td>\n",
              "      <td>37738</td>\n",
              "      <td>TN</td>\n",
              "      <td>2012-03-20T00:00:00Z</td>\n",
              "      <td>2016-06-23T16:50:58Z</td>\n",
              "      <td>NaN</td>\n",
              "      <td>NaN</td>\n",
              "      <td>5.0</td>\n",
              "      <td>Best of the Best!!!! My family and I stayed in...</td>\n",
              "      <td>Amazing time (both times!!)</td>\n",
              "      <td>Charlotte</td>\n",
              "      <td>Chelsa K.</td>\n",
              "      <td>NC</td>\n",
              "    </tr>\n",
              "    <tr>\n",
              "      <th>35908</th>\n",
              "      <td>1088 Powdermill Rd</td>\n",
              "      <td>Cabins,Resorts &amp; Vacation Cottages,Wedding Cha...</td>\n",
              "      <td>Gatlinburg</td>\n",
              "      <td>US</td>\n",
              "      <td>35.754868</td>\n",
              "      <td>-83.457295</td>\n",
              "      <td>Elk Springs Resort</td>\n",
              "      <td>37738</td>\n",
              "      <td>TN</td>\n",
              "      <td>2012-03-12T00:00:00Z</td>\n",
              "      <td>2016-06-23T16:50:58Z</td>\n",
              "      <td>NaN</td>\n",
              "      <td>NaN</td>\n",
              "      <td>5.0</td>\n",
              "      <td>Amazing Vacation in Beautiful Cabin We stayed ...</td>\n",
              "      <td>Amazing time (both times!!)</td>\n",
              "      <td>Charlotte</td>\n",
              "      <td>Heather D.</td>\n",
              "      <td>NC</td>\n",
              "    </tr>\n",
              "    <tr>\n",
              "      <th>35909</th>\n",
              "      <td>1088 Powdermill Rd</td>\n",
              "      <td>Cabins,Resorts &amp; Vacation Cottages,Wedding Cha...</td>\n",
              "      <td>Gatlinburg</td>\n",
              "      <td>US</td>\n",
              "      <td>35.754868</td>\n",
              "      <td>-83.457295</td>\n",
              "      <td>Elk Springs Resort</td>\n",
              "      <td>37738</td>\n",
              "      <td>TN</td>\n",
              "      <td>2015-11-03T00:00:00Z</td>\n",
              "      <td>2016-06-23T16:50:58Z</td>\n",
              "      <td>NaN</td>\n",
              "      <td>NaN</td>\n",
              "      <td>5.0</td>\n",
              "      <td>My husband and I stayed at Tree Tops which is ...</td>\n",
              "      <td>Amazing time (both times!!)</td>\n",
              "      <td>Charlotte</td>\n",
              "      <td>Carol W.</td>\n",
              "      <td>NC</td>\n",
              "    </tr>\n",
              "    <tr>\n",
              "      <th>35910</th>\n",
              "      <td>3747 29th St S E</td>\n",
              "      <td>Hotels-Apartment,Corporate Lodging,Hotels,Lodging</td>\n",
              "      <td>Grand Rapids</td>\n",
              "      <td>US</td>\n",
              "      <td>42.909480</td>\n",
              "      <td>-85.573590</td>\n",
              "      <td>Extended Stay America Grand Rapids - Kentwood</td>\n",
              "      <td>49512</td>\n",
              "      <td>MI</td>\n",
              "      <td>NaN</td>\n",
              "      <td>2015-12-01T19:40:54Z</td>\n",
              "      <td>NaN</td>\n",
              "      <td>NaN</td>\n",
              "      <td>0.0</td>\n",
              "      <td>to share your opinion of this businesswith YP ...</td>\n",
              "      <td>NaN</td>\n",
              "      <td>NaN</td>\n",
              "      <td>write a review</td>\n",
              "      <td>NaN</td>\n",
              "    </tr>\n",
              "    <tr>\n",
              "      <th>35911</th>\n",
              "      <td>3747 29th St S E</td>\n",
              "      <td>Hotels-Apartment,Corporate Lodging,Hotels,Lodging</td>\n",
              "      <td>Grand Rapids</td>\n",
              "      <td>US</td>\n",
              "      <td>42.909480</td>\n",
              "      <td>-85.573590</td>\n",
              "      <td>Extended Stay America Grand Rapids - Kentwood</td>\n",
              "      <td>49512</td>\n",
              "      <td>MI</td>\n",
              "      <td>NaN</td>\n",
              "      <td>2015-12-01T19:40:54Z</td>\n",
              "      <td>NaN</td>\n",
              "      <td>NaN</td>\n",
              "      <td>0.0</td>\n",
              "      <td>xxxxxxxxxxxxxxxxxxxxxxxxxxxxxxxxxxxxxxxxxx</td>\n",
              "      <td>NaN</td>\n",
              "      <td>NaN</td>\n",
              "      <td>xxxxxxxxxxxxxx</td>\n",
              "      <td>NaN</td>\n",
              "    </tr>\n",
              "  </tbody>\n",
              "</table>\n",
              "<p>35912 rows × 19 columns</p>\n",
              "</div>"
            ],
            "text/plain": [
              "                      address  ... reviews_userProvince\n",
              "0      Riviera San Nicol 11/a  ...                  NaN\n",
              "1      Riviera San Nicol 11/a  ...                  NaN\n",
              "2      Riviera San Nicol 11/a  ...                  NaN\n",
              "3      Riviera San Nicol 11/a  ...                  NaN\n",
              "4      Riviera San Nicol 11/a  ...                  NaN\n",
              "...                       ...  ...                  ...\n",
              "35907      1088 Powdermill Rd  ...                   NC\n",
              "35908      1088 Powdermill Rd  ...                   NC\n",
              "35909      1088 Powdermill Rd  ...                   NC\n",
              "35910        3747 29th St S E  ...                  NaN\n",
              "35911        3747 29th St S E  ...                  NaN\n",
              "\n",
              "[35912 rows x 19 columns]"
            ]
          },
          "metadata": {
            "tags": []
          },
          "execution_count": 9
        }
      ]
    },
    {
      "cell_type": "code",
      "metadata": {
        "colab": {
          "base_uri": "https://localhost:8080/",
          "height": 467
        },
        "id": "fUGyVpqLftK7",
        "outputId": "94afa017-4531-4fbd-f584-cac8cdec42ce"
      },
      "source": [
        "#Show 5 random of rows\n",
        "corpus.sample(5)"
      ],
      "execution_count": 10,
      "outputs": [
        {
          "output_type": "execute_result",
          "data": {
            "text/html": [
              "<div>\n",
              "<style scoped>\n",
              "    .dataframe tbody tr th:only-of-type {\n",
              "        vertical-align: middle;\n",
              "    }\n",
              "\n",
              "    .dataframe tbody tr th {\n",
              "        vertical-align: top;\n",
              "    }\n",
              "\n",
              "    .dataframe thead th {\n",
              "        text-align: right;\n",
              "    }\n",
              "</style>\n",
              "<table border=\"1\" class=\"dataframe\">\n",
              "  <thead>\n",
              "    <tr style=\"text-align: right;\">\n",
              "      <th></th>\n",
              "      <th>address</th>\n",
              "      <th>categories</th>\n",
              "      <th>city</th>\n",
              "      <th>country</th>\n",
              "      <th>latitude</th>\n",
              "      <th>longitude</th>\n",
              "      <th>name</th>\n",
              "      <th>postalCode</th>\n",
              "      <th>province</th>\n",
              "      <th>reviews_date</th>\n",
              "      <th>reviews_dateAdded</th>\n",
              "      <th>reviews_doRecommend</th>\n",
              "      <th>reviews_id</th>\n",
              "      <th>reviews_rating</th>\n",
              "      <th>reviews_text</th>\n",
              "      <th>reviews_title</th>\n",
              "      <th>reviews_userCity</th>\n",
              "      <th>reviews_username</th>\n",
              "      <th>reviews_userProvince</th>\n",
              "    </tr>\n",
              "  </thead>\n",
              "  <tbody>\n",
              "    <tr>\n",
              "      <th>11107</th>\n",
              "      <td>301 Reserve Ave</td>\n",
              "      <td>Luxury Hotels,Restaurants,Hotels &amp; Motels,Lodg...</td>\n",
              "      <td>Roanoke</td>\n",
              "      <td>US</td>\n",
              "      <td>37.256149</td>\n",
              "      <td>-79.947005</td>\n",
              "      <td>Cambria Hotel &amp; Suites</td>\n",
              "      <td>24016</td>\n",
              "      <td>VA</td>\n",
              "      <td>2015-10-26T00:00:00Z</td>\n",
              "      <td>2016-10-13T13:22:03Z</td>\n",
              "      <td>NaN</td>\n",
              "      <td>NaN</td>\n",
              "      <td>5.0</td>\n",
              "      <td>This upscale Choice property was perfect for o...</td>\n",
              "      <td>Base for Roanoke visit</td>\n",
              "      <td>Tucson</td>\n",
              "      <td>Paul G</td>\n",
              "      <td>AZ</td>\n",
              "    </tr>\n",
              "    <tr>\n",
              "      <th>29089</th>\n",
              "      <td>355 Santana Row</td>\n",
              "      <td>Hotels,Hotel, Bar, and Hotel Bar</td>\n",
              "      <td>San Jose</td>\n",
              "      <td>US</td>\n",
              "      <td>37.320980</td>\n",
              "      <td>-121.947900</td>\n",
              "      <td>Hotel Valencia Santana Row</td>\n",
              "      <td>95128</td>\n",
              "      <td>CA</td>\n",
              "      <td>2015-12-26T00:00:00Z</td>\n",
              "      <td>2016-11-17T15:13:00Z</td>\n",
              "      <td>NaN</td>\n",
              "      <td>NaN</td>\n",
              "      <td>3.0</td>\n",
              "      <td>I've stayed two nights for a business trip at ...</td>\n",
              "      <td>Good location, large rooms, but old bathroom</td>\n",
              "      <td>The Netherlands</td>\n",
              "      <td>Joris L</td>\n",
              "      <td>MI</td>\n",
              "    </tr>\n",
              "    <tr>\n",
              "      <th>15961</th>\n",
              "      <td>2120 Claude Bailey Pkwy</td>\n",
              "      <td>Travel &amp; Transport,Hotels &amp; Motels</td>\n",
              "      <td>Princeton</td>\n",
              "      <td>US</td>\n",
              "      <td>41.368016</td>\n",
              "      <td>-89.456966</td>\n",
              "      <td>Americinn Lodge Suites Princeton</td>\n",
              "      <td>61356</td>\n",
              "      <td>IL</td>\n",
              "      <td>2016-03-21T00:00:00Z</td>\n",
              "      <td>2017-01-08T18:34:34Z</td>\n",
              "      <td>NaN</td>\n",
              "      <td>NaN</td>\n",
              "      <td>1.0</td>\n",
              "      <td>From the warm greeting at check-in to the serv...</td>\n",
              "      <td>overall Very satisfied</td>\n",
              "      <td>Lewistown</td>\n",
              "      <td>Kenneth N</td>\n",
              "      <td>NaN</td>\n",
              "    </tr>\n",
              "    <tr>\n",
              "      <th>13555</th>\n",
              "      <td>19 Sombrero Blvd</td>\n",
              "      <td>Hotels</td>\n",
              "      <td>Marathon</td>\n",
              "      <td>US</td>\n",
              "      <td>24.711823</td>\n",
              "      <td>-81.080550</td>\n",
              "      <td>Sombrero Resort and Marina</td>\n",
              "      <td>33050</td>\n",
              "      <td>Grassy Key</td>\n",
              "      <td>2016-01-23T00:00:00Z</td>\n",
              "      <td>2016-11-05T19:13:20Z</td>\n",
              "      <td>NaN</td>\n",
              "      <td>NaN</td>\n",
              "      <td>2.0</td>\n",
              "      <td>Hotel is old. This might be section due to be ...</td>\n",
              "      <td>Avoid in current condition!</td>\n",
              "      <td>Boca Raton</td>\n",
              "      <td>H.Chris</td>\n",
              "      <td>FL</td>\n",
              "    </tr>\n",
              "    <tr>\n",
              "      <th>9008</th>\n",
              "      <td>2512 W Lincolnway</td>\n",
              "      <td>Hotels</td>\n",
              "      <td>Cheyenne</td>\n",
              "      <td>US</td>\n",
              "      <td>41.119150</td>\n",
              "      <td>-104.849490</td>\n",
              "      <td>Americas Best Value Inn</td>\n",
              "      <td>82001</td>\n",
              "      <td>WY</td>\n",
              "      <td>2016-07-24T00:00:00Z</td>\n",
              "      <td>2016-11-21T23:27:41Z</td>\n",
              "      <td>NaN</td>\n",
              "      <td>NaN</td>\n",
              "      <td>3.0</td>\n",
              "      <td>Not the nicest motel in the world, but it was ...</td>\n",
              "      <td>Good value for the money</td>\n",
              "      <td>NaN</td>\n",
              "      <td>A Traveler</td>\n",
              "      <td>NaN</td>\n",
              "    </tr>\n",
              "  </tbody>\n",
              "</table>\n",
              "</div>"
            ],
            "text/plain": [
              "                       address  ... reviews_userProvince\n",
              "11107          301 Reserve Ave  ...                   AZ\n",
              "29089          355 Santana Row  ...                   MI\n",
              "15961  2120 Claude Bailey Pkwy  ...                  NaN\n",
              "13555         19 Sombrero Blvd  ...                   FL\n",
              "9008         2512 W Lincolnway  ...                  NaN\n",
              "\n",
              "[5 rows x 19 columns]"
            ]
          },
          "metadata": {
            "tags": []
          },
          "execution_count": 10
        }
      ]
    },
    {
      "cell_type": "code",
      "metadata": {
        "colab": {
          "base_uri": "https://localhost:8080/"
        },
        "id": "iJNSiz_6c3JR",
        "outputId": "8bbdb97c-4d1f-49de-805c-8a14a2244427"
      },
      "source": [
        "corpus.info()"
      ],
      "execution_count": 11,
      "outputs": [
        {
          "output_type": "stream",
          "text": [
            "<class 'pandas.core.frame.DataFrame'>\n",
            "RangeIndex: 35912 entries, 0 to 35911\n",
            "Data columns (total 19 columns):\n",
            " #   Column                Non-Null Count  Dtype  \n",
            "---  ------                --------------  -----  \n",
            " 0   address               35912 non-null  object \n",
            " 1   categories            35912 non-null  object \n",
            " 2   city                  35912 non-null  object \n",
            " 3   country               35912 non-null  object \n",
            " 4   latitude              35826 non-null  float64\n",
            " 5   longitude             35826 non-null  float64\n",
            " 6   name                  35912 non-null  object \n",
            " 7   postalCode            35857 non-null  object \n",
            " 8   province              35912 non-null  object \n",
            " 9   reviews_date          35653 non-null  object \n",
            " 10  reviews_dateAdded     35912 non-null  object \n",
            " 11  reviews_doRecommend   0 non-null      float64\n",
            " 12  reviews_id            0 non-null      float64\n",
            " 13  reviews_rating        35050 non-null  float64\n",
            " 14  reviews_text          35890 non-null  object \n",
            " 15  reviews_title         34290 non-null  object \n",
            " 16  reviews_userCity      16263 non-null  object \n",
            " 17  reviews_username      35869 non-null  object \n",
            " 18  reviews_userProvince  17518 non-null  object \n",
            "dtypes: float64(5), object(14)\n",
            "memory usage: 5.2+ MB\n"
          ],
          "name": "stdout"
        }
      ]
    },
    {
      "cell_type": "code",
      "metadata": {
        "colab": {
          "base_uri": "https://localhost:8080/",
          "height": 287
        },
        "id": "VbBvgXaNc-Fi",
        "outputId": "2af6fd0d-8dde-427f-bd10-441b98673c0b"
      },
      "source": [
        "#display descriptive statistics\n",
        "corpus.describe()"
      ],
      "execution_count": 12,
      "outputs": [
        {
          "output_type": "execute_result",
          "data": {
            "text/html": [
              "<div>\n",
              "<style scoped>\n",
              "    .dataframe tbody tr th:only-of-type {\n",
              "        vertical-align: middle;\n",
              "    }\n",
              "\n",
              "    .dataframe tbody tr th {\n",
              "        vertical-align: top;\n",
              "    }\n",
              "\n",
              "    .dataframe thead th {\n",
              "        text-align: right;\n",
              "    }\n",
              "</style>\n",
              "<table border=\"1\" class=\"dataframe\">\n",
              "  <thead>\n",
              "    <tr style=\"text-align: right;\">\n",
              "      <th></th>\n",
              "      <th>latitude</th>\n",
              "      <th>longitude</th>\n",
              "      <th>reviews_doRecommend</th>\n",
              "      <th>reviews_id</th>\n",
              "      <th>reviews_rating</th>\n",
              "    </tr>\n",
              "  </thead>\n",
              "  <tbody>\n",
              "    <tr>\n",
              "      <th>count</th>\n",
              "      <td>35826.000000</td>\n",
              "      <td>35826.000000</td>\n",
              "      <td>0.0</td>\n",
              "      <td>0.0</td>\n",
              "      <td>35050.000000</td>\n",
              "    </tr>\n",
              "    <tr>\n",
              "      <th>mean</th>\n",
              "      <td>37.285008</td>\n",
              "      <td>-85.725758</td>\n",
              "      <td>NaN</td>\n",
              "      <td>NaN</td>\n",
              "      <td>3.776431</td>\n",
              "    </tr>\n",
              "    <tr>\n",
              "      <th>std</th>\n",
              "      <td>6.996544</td>\n",
              "      <td>33.062263</td>\n",
              "      <td>NaN</td>\n",
              "      <td>NaN</td>\n",
              "      <td>1.416195</td>\n",
              "    </tr>\n",
              "    <tr>\n",
              "      <th>min</th>\n",
              "      <td>-25.436750</td>\n",
              "      <td>-166.559040</td>\n",
              "      <td>NaN</td>\n",
              "      <td>NaN</td>\n",
              "      <td>0.000000</td>\n",
              "    </tr>\n",
              "    <tr>\n",
              "      <th>25%</th>\n",
              "      <td>33.827340</td>\n",
              "      <td>-104.868200</td>\n",
              "      <td>NaN</td>\n",
              "      <td>NaN</td>\n",
              "      <td>3.000000</td>\n",
              "    </tr>\n",
              "    <tr>\n",
              "      <th>50%</th>\n",
              "      <td>37.936026</td>\n",
              "      <td>-86.822972</td>\n",
              "      <td>NaN</td>\n",
              "      <td>NaN</td>\n",
              "      <td>4.000000</td>\n",
              "    </tr>\n",
              "    <tr>\n",
              "      <th>75%</th>\n",
              "      <td>41.672491</td>\n",
              "      <td>-77.044550</td>\n",
              "      <td>NaN</td>\n",
              "      <td>NaN</td>\n",
              "      <td>5.000000</td>\n",
              "    </tr>\n",
              "    <tr>\n",
              "      <th>max</th>\n",
              "      <td>63.877674</td>\n",
              "      <td>115.164407</td>\n",
              "      <td>NaN</td>\n",
              "      <td>NaN</td>\n",
              "      <td>10.000000</td>\n",
              "    </tr>\n",
              "  </tbody>\n",
              "</table>\n",
              "</div>"
            ],
            "text/plain": [
              "           latitude     longitude  ...  reviews_id  reviews_rating\n",
              "count  35826.000000  35826.000000  ...         0.0    35050.000000\n",
              "mean      37.285008    -85.725758  ...         NaN        3.776431\n",
              "std        6.996544     33.062263  ...         NaN        1.416195\n",
              "min      -25.436750   -166.559040  ...         NaN        0.000000\n",
              "25%       33.827340   -104.868200  ...         NaN        3.000000\n",
              "50%       37.936026    -86.822972  ...         NaN        4.000000\n",
              "75%       41.672491    -77.044550  ...         NaN        5.000000\n",
              "max       63.877674    115.164407  ...         NaN       10.000000\n",
              "\n",
              "[8 rows x 5 columns]"
            ]
          },
          "metadata": {
            "tags": []
          },
          "execution_count": 12
        }
      ]
    },
    {
      "cell_type": "code",
      "metadata": {
        "colab": {
          "base_uri": "https://localhost:8080/"
        },
        "id": "Mri3IEHw_4yn",
        "outputId": "1d905b50-03ae-48ea-f38c-ca91588b9f1b"
      },
      "source": [
        "print('Mean of hotel reviews: ', round(corpus['reviews_rating'].mean()))"
      ],
      "execution_count": 13,
      "outputs": [
        {
          "output_type": "stream",
          "text": [
            "Mean of hotel reviews:  4\n"
          ],
          "name": "stdout"
        }
      ]
    },
    {
      "cell_type": "markdown",
      "metadata": {
        "id": "4AbFwCtpdHyv"
      },
      "source": [
        "#Exploratory Data Analysis"
      ]
    },
    {
      "cell_type": "markdown",
      "metadata": {
        "id": "9d28gg6UY_DA"
      },
      "source": [
        "Column Handling"
      ]
    },
    {
      "cell_type": "code",
      "metadata": {
        "colab": {
          "base_uri": "https://localhost:8080/"
        },
        "id": "nfAZ1rrNE-ZJ",
        "outputId": "7ceff401-29d3-4657-8f1c-cc85a7d89c89"
      },
      "source": [
        "#Check for missing values in the dataset\n",
        "corpus.isnull().sum(axis=0)"
      ],
      "execution_count": 14,
      "outputs": [
        {
          "output_type": "execute_result",
          "data": {
            "text/plain": [
              "address                     0\n",
              "categories                  0\n",
              "city                        0\n",
              "country                     0\n",
              "latitude                   86\n",
              "longitude                  86\n",
              "name                        0\n",
              "postalCode                 55\n",
              "province                    0\n",
              "reviews_date              259\n",
              "reviews_dateAdded           0\n",
              "reviews_doRecommend     35912\n",
              "reviews_id              35912\n",
              "reviews_rating            862\n",
              "reviews_text               22\n",
              "reviews_title            1622\n",
              "reviews_userCity        19649\n",
              "reviews_username           43\n",
              "reviews_userProvince    18394\n",
              "dtype: int64"
            ]
          },
          "metadata": {
            "tags": []
          },
          "execution_count": 14
        }
      ]
    },
    {
      "cell_type": "code",
      "metadata": {
        "colab": {
          "base_uri": "https://localhost:8080/",
          "height": 184
        },
        "id": "7S6fDuxXdGoN",
        "outputId": "99cadbd6-2314-4316-f3d4-ce27e6e02bc1"
      },
      "source": [
        "#Checking Missing value in the dataset and printing the percentage for missing value for each column\n",
        "count = corpus.isnull().sum().sort_values(ascending=False)\n",
        "percentage = (corpus.isnull().sum()/corpus.isnull().count()).sort_values(ascending=False)\n",
        "missing_data = pd.concat([count, percentage], axis=1,\n",
        "keys=['Count', 'Percentage'])\n",
        "\n",
        "print('Count and percentage of missing value for the columns:')\n",
        "missing_data['Percentage']=missing_data['Percentage'].apply(lambda x: x*100)\n",
        "missing_data.loc[missing_data['Percentage'] > 10][:10]\n"
      ],
      "execution_count": 15,
      "outputs": [
        {
          "output_type": "stream",
          "text": [
            "Count and percentage of missing value for the columns:\n"
          ],
          "name": "stdout"
        },
        {
          "output_type": "execute_result",
          "data": {
            "text/html": [
              "<div>\n",
              "<style scoped>\n",
              "    .dataframe tbody tr th:only-of-type {\n",
              "        vertical-align: middle;\n",
              "    }\n",
              "\n",
              "    .dataframe tbody tr th {\n",
              "        vertical-align: top;\n",
              "    }\n",
              "\n",
              "    .dataframe thead th {\n",
              "        text-align: right;\n",
              "    }\n",
              "</style>\n",
              "<table border=\"1\" class=\"dataframe\">\n",
              "  <thead>\n",
              "    <tr style=\"text-align: right;\">\n",
              "      <th></th>\n",
              "      <th>Count</th>\n",
              "      <th>Percentage</th>\n",
              "    </tr>\n",
              "  </thead>\n",
              "  <tbody>\n",
              "    <tr>\n",
              "      <th>reviews_id</th>\n",
              "      <td>35912</td>\n",
              "      <td>100.000000</td>\n",
              "    </tr>\n",
              "    <tr>\n",
              "      <th>reviews_doRecommend</th>\n",
              "      <td>35912</td>\n",
              "      <td>100.000000</td>\n",
              "    </tr>\n",
              "    <tr>\n",
              "      <th>reviews_userCity</th>\n",
              "      <td>19649</td>\n",
              "      <td>54.714302</td>\n",
              "    </tr>\n",
              "    <tr>\n",
              "      <th>reviews_userProvince</th>\n",
              "      <td>18394</td>\n",
              "      <td>51.219648</td>\n",
              "    </tr>\n",
              "  </tbody>\n",
              "</table>\n",
              "</div>"
            ],
            "text/plain": [
              "                      Count  Percentage\n",
              "reviews_id            35912  100.000000\n",
              "reviews_doRecommend   35912  100.000000\n",
              "reviews_userCity      19649   54.714302\n",
              "reviews_userProvince  18394   51.219648"
            ]
          },
          "metadata": {
            "tags": []
          },
          "execution_count": 15
        }
      ]
    },
    {
      "cell_type": "markdown",
      "metadata": {
        "id": "UXrOejMP0lQP"
      },
      "source": [
        "#Feature Engineering"
      ]
    },
    {
      "cell_type": "code",
      "metadata": {
        "id": "YOCD2_3r0ohF"
      },
      "source": [
        "#feature engineering, choose reviews_rating = 4 as neutal rating and set it = 0\r\n",
        "corpus.loc[(corpus ['reviews_rating'] == 4)] = np.nan\r\n",
        "reviews_rating = corpus['reviews_rating']\r\n",
        "reviews_rating.fillna(value=0, inplace =True)"
      ],
      "execution_count": 16,
      "outputs": []
    },
    {
      "cell_type": "code",
      "metadata": {
        "id": "MFoWJyW70sHW"
      },
      "source": [
        "#delete features that are not needed in data\r\n",
        "corpus.drop(['latitude','longitude','reviews_doRecommend', 'reviews_dateAdded', 'reviews_date', 'province', 'postalCode','reviews_userProvince', 'reviews_id', 'reviews_userCity'],axis=1,inplace=True)"
      ],
      "execution_count": 17,
      "outputs": []
    },
    {
      "cell_type": "code",
      "metadata": {
        "id": "lnNfj2UX0ty-"
      },
      "source": [
        "# feature engineering by create rating implicit and explicit\r\n",
        "ratings_explicit= corpus[corpus['reviews_rating'] != 0]\r\n",
        "ratings_implicit= corpus[corpus['reviews_rating'] == 0]"
      ],
      "execution_count": 18,
      "outputs": []
    },
    {
      "cell_type": "code",
      "metadata": {
        "id": "pQmy_Yg80xTA"
      },
      "source": [
        "# set corpus as dataframe of ratings_explicit\r\n",
        "corpus = ratings_explicit"
      ],
      "execution_count": 19,
      "outputs": []
    },
    {
      "cell_type": "code",
      "metadata": {
        "colab": {
          "base_uri": "https://localhost:8080/"
        },
        "id": "qZ8hBSFO04gX",
        "outputId": "fbaeaf81-30d4-4111-f721-1836ee5c977b"
      },
      "source": [
        "for i in range(0,len(corpus)-1):\r\n",
        "    if type(corpus.iloc[i]['reviews_text']) != str:\r\n",
        "        corpus.iloc[i]['reviews_text'] = str(corpus.iloc[i]['reviews_text'])"
      ],
      "execution_count": 20,
      "outputs": [
        {
          "output_type": "stream",
          "text": [
            "/usr/local/lib/python3.6/dist-packages/ipykernel_launcher.py:3: SettingWithCopyWarning: \n",
            "A value is trying to be set on a copy of a slice from a DataFrame\n",
            "\n",
            "See the caveats in the documentation: https://pandas.pydata.org/pandas-docs/stable/user_guide/indexing.html#returning-a-view-versus-a-copy\n",
            "  This is separate from the ipykernel package so we can avoid doing imports until\n"
          ],
          "name": "stderr"
        }
      ]
    },
    {
      "cell_type": "code",
      "metadata": {
        "colab": {
          "base_uri": "https://localhost:8080/"
        },
        "id": "nlK2PleBWIlm",
        "outputId": "d6f2a771-147b-4d31-beeb-c11490232aaf"
      },
      "source": [
        "for i in range(0,len(corpus)-1):\n",
        "    if type(corpus.iloc[i]['reviews_text']) != str:\n",
        "        corpus.iloc[i]['reviews_text'] = str(corpus.iloc[i]['reviews_text'])"
      ],
      "execution_count": 21,
      "outputs": [
        {
          "output_type": "stream",
          "text": [
            "/usr/local/lib/python3.6/dist-packages/ipykernel_launcher.py:3: SettingWithCopyWarning: \n",
            "A value is trying to be set on a copy of a slice from a DataFrame\n",
            "\n",
            "See the caveats in the documentation: https://pandas.pydata.org/pandas-docs/stable/user_guide/indexing.html#returning-a-view-versus-a-copy\n",
            "  This is separate from the ipykernel package so we can avoid doing imports until\n"
          ],
          "name": "stderr"
        }
      ]
    },
    {
      "cell_type": "code",
      "metadata": {
        "id": "riOocqvsY5q6",
        "colab": {
          "base_uri": "https://localhost:8080/"
        },
        "outputId": "93b192ee-b277-4e3a-df0e-63ab69206a06"
      },
      "source": [
        "for i in range(0,len(corpus)-1):\n",
        "    if type(corpus.iloc[i]['reviews_text']) != str:\n",
        "        corpus.iloc[i]['reviews_text'] = str(corpus.iloc[i]['reviews_text'])"
      ],
      "execution_count": 22,
      "outputs": [
        {
          "output_type": "stream",
          "text": [
            "/usr/local/lib/python3.6/dist-packages/ipykernel_launcher.py:3: SettingWithCopyWarning: \n",
            "A value is trying to be set on a copy of a slice from a DataFrame\n",
            "\n",
            "See the caveats in the documentation: https://pandas.pydata.org/pandas-docs/stable/user_guide/indexing.html#returning-a-view-versus-a-copy\n",
            "  This is separate from the ipykernel package so we can avoid doing imports until\n"
          ],
          "name": "stderr"
        }
      ]
    },
    {
      "cell_type": "code",
      "metadata": {
        "id": "cD7BNiWrZQBy",
        "colab": {
          "base_uri": "https://localhost:8080/",
          "height": 381
        },
        "outputId": "f2f21818-ce59-4bea-cadf-9d2d350b994a"
      },
      "source": [
        "#labeling data\n",
        "def sentiment(n):\n",
        "    return 'positive' if n >= 5 else 'negative'\n",
        "corpus['response'] = corpus['reviews_rating'].apply(sentiment)\n",
        "corpus.head()"
      ],
      "execution_count": 23,
      "outputs": [
        {
          "output_type": "stream",
          "text": [
            "/usr/local/lib/python3.6/dist-packages/ipykernel_launcher.py:4: SettingWithCopyWarning: \n",
            "A value is trying to be set on a copy of a slice from a DataFrame.\n",
            "Try using .loc[row_indexer,col_indexer] = value instead\n",
            "\n",
            "See the caveats in the documentation: https://pandas.pydata.org/pandas-docs/stable/user_guide/indexing.html#returning-a-view-versus-a-copy\n",
            "  after removing the cwd from sys.path.\n"
          ],
          "name": "stderr"
        },
        {
          "output_type": "execute_result",
          "data": {
            "text/html": [
              "<div>\n",
              "<style scoped>\n",
              "    .dataframe tbody tr th:only-of-type {\n",
              "        vertical-align: middle;\n",
              "    }\n",
              "\n",
              "    .dataframe tbody tr th {\n",
              "        vertical-align: top;\n",
              "    }\n",
              "\n",
              "    .dataframe thead th {\n",
              "        text-align: right;\n",
              "    }\n",
              "</style>\n",
              "<table border=\"1\" class=\"dataframe\">\n",
              "  <thead>\n",
              "    <tr style=\"text-align: right;\">\n",
              "      <th></th>\n",
              "      <th>address</th>\n",
              "      <th>categories</th>\n",
              "      <th>city</th>\n",
              "      <th>country</th>\n",
              "      <th>name</th>\n",
              "      <th>reviews_rating</th>\n",
              "      <th>reviews_text</th>\n",
              "      <th>reviews_title</th>\n",
              "      <th>reviews_username</th>\n",
              "      <th>response</th>\n",
              "    </tr>\n",
              "  </thead>\n",
              "  <tbody>\n",
              "    <tr>\n",
              "      <th>1</th>\n",
              "      <td>Riviera San Nicol 11/a</td>\n",
              "      <td>Hotels</td>\n",
              "      <td>Mableton</td>\n",
              "      <td>US</td>\n",
              "      <td>Hotel Russo Palace</td>\n",
              "      <td>5.0</td>\n",
              "      <td>Really lovely hotel. Stayed on the very top fl...</td>\n",
              "      <td>Great hotel with Jacuzzi bath!</td>\n",
              "      <td>A Traveler</td>\n",
              "      <td>positive</td>\n",
              "    </tr>\n",
              "    <tr>\n",
              "      <th>2</th>\n",
              "      <td>Riviera San Nicol 11/a</td>\n",
              "      <td>Hotels</td>\n",
              "      <td>Mableton</td>\n",
              "      <td>US</td>\n",
              "      <td>Hotel Russo Palace</td>\n",
              "      <td>5.0</td>\n",
              "      <td>Ett mycket bra hotell. Det som drog ner betyge...</td>\n",
              "      <td>Lugnt l��ge</td>\n",
              "      <td>Maud</td>\n",
              "      <td>positive</td>\n",
              "    </tr>\n",
              "    <tr>\n",
              "      <th>3</th>\n",
              "      <td>Riviera San Nicol 11/a</td>\n",
              "      <td>Hotels</td>\n",
              "      <td>Mableton</td>\n",
              "      <td>US</td>\n",
              "      <td>Hotel Russo Palace</td>\n",
              "      <td>5.0</td>\n",
              "      <td>We stayed here for four nights in October. The...</td>\n",
              "      <td>Good location on the Lido.</td>\n",
              "      <td>Julie</td>\n",
              "      <td>positive</td>\n",
              "    </tr>\n",
              "    <tr>\n",
              "      <th>4</th>\n",
              "      <td>Riviera San Nicol 11/a</td>\n",
              "      <td>Hotels</td>\n",
              "      <td>Mableton</td>\n",
              "      <td>US</td>\n",
              "      <td>Hotel Russo Palace</td>\n",
              "      <td>5.0</td>\n",
              "      <td>We stayed here for four nights in October. The...</td>\n",
              "      <td>������ ���������������</td>\n",
              "      <td>sungchul</td>\n",
              "      <td>positive</td>\n",
              "    </tr>\n",
              "    <tr>\n",
              "      <th>5</th>\n",
              "      <td>Riviera San Nicol 11/a</td>\n",
              "      <td>Hotels</td>\n",
              "      <td>Mableton</td>\n",
              "      <td>US</td>\n",
              "      <td>Hotel Russo Palace</td>\n",
              "      <td>5.0</td>\n",
              "      <td>We loved staying on the island of Lido! You ne...</td>\n",
              "      <td>Very nice hotel</td>\n",
              "      <td>A Traveler</td>\n",
              "      <td>positive</td>\n",
              "    </tr>\n",
              "  </tbody>\n",
              "</table>\n",
              "</div>"
            ],
            "text/plain": [
              "                  address categories  ... reviews_username  response\n",
              "1  Riviera San Nicol 11/a     Hotels  ...       A Traveler  positive\n",
              "2  Riviera San Nicol 11/a     Hotels  ...             Maud  positive\n",
              "3  Riviera San Nicol 11/a     Hotels  ...            Julie  positive\n",
              "4  Riviera San Nicol 11/a     Hotels  ...         sungchul  positive\n",
              "5  Riviera San Nicol 11/a     Hotels  ...       A Traveler  positive\n",
              "\n",
              "[5 rows x 10 columns]"
            ]
          },
          "metadata": {
            "tags": []
          },
          "execution_count": 23
        }
      ]
    },
    {
      "cell_type": "code",
      "metadata": {
        "id": "-8hgCyXwZof6",
        "colab": {
          "base_uri": "https://localhost:8080/",
          "height": 531
        },
        "outputId": "a3e27e42-2669-40d6-8908-85d8ffa1a7e4"
      },
      "source": [
        "corpus.sample(10)"
      ],
      "execution_count": 24,
      "outputs": [
        {
          "output_type": "execute_result",
          "data": {
            "text/html": [
              "<div>\n",
              "<style scoped>\n",
              "    .dataframe tbody tr th:only-of-type {\n",
              "        vertical-align: middle;\n",
              "    }\n",
              "\n",
              "    .dataframe tbody tr th {\n",
              "        vertical-align: top;\n",
              "    }\n",
              "\n",
              "    .dataframe thead th {\n",
              "        text-align: right;\n",
              "    }\n",
              "</style>\n",
              "<table border=\"1\" class=\"dataframe\">\n",
              "  <thead>\n",
              "    <tr style=\"text-align: right;\">\n",
              "      <th></th>\n",
              "      <th>address</th>\n",
              "      <th>categories</th>\n",
              "      <th>city</th>\n",
              "      <th>country</th>\n",
              "      <th>name</th>\n",
              "      <th>reviews_rating</th>\n",
              "      <th>reviews_text</th>\n",
              "      <th>reviews_title</th>\n",
              "      <th>reviews_username</th>\n",
              "      <th>response</th>\n",
              "    </tr>\n",
              "  </thead>\n",
              "  <tbody>\n",
              "    <tr>\n",
              "      <th>33473</th>\n",
              "      <td>3243 S Ridge Dr S W</td>\n",
              "      <td>Hotels,Hotel</td>\n",
              "      <td>Cedar Rapids</td>\n",
              "      <td>US</td>\n",
              "      <td>Red Roof Inn Cedar Rapids</td>\n",
              "      <td>2.0</td>\n",
              "      <td>It was pretty funny. They have a laminated pap...</td>\n",
              "      <td>Under Construction!</td>\n",
              "      <td>A Traveler</td>\n",
              "      <td>negative</td>\n",
              "    </tr>\n",
              "    <tr>\n",
              "      <th>6000</th>\n",
              "      <td>3 5920 Kuhio Hwy</td>\n",
              "      <td>Hotels</td>\n",
              "      <td>Kapaa</td>\n",
              "      <td>US</td>\n",
              "      <td>Hilton Garden Inn Kauai Wailua Bay</td>\n",
              "      <td>3.0</td>\n",
              "      <td>We had A/C issues at 3:30 am and it woke us up...</td>\n",
              "      <td>Please Keep Away Until Construction is Completed.</td>\n",
              "      <td>A Traveler</td>\n",
              "      <td>negative</td>\n",
              "    </tr>\n",
              "    <tr>\n",
              "      <th>30956</th>\n",
              "      <td>12015 Harbor Blvd</td>\n",
              "      <td>Hotels</td>\n",
              "      <td>Garden Grove</td>\n",
              "      <td>US</td>\n",
              "      <td>Anaheim Marriott Suites</td>\n",
              "      <td>5.0</td>\n",
              "      <td>My biggest take away was that the staff was ve...</td>\n",
              "      <td>Great Hospitality</td>\n",
              "      <td>Jerry L</td>\n",
              "      <td>positive</td>\n",
              "    </tr>\n",
              "    <tr>\n",
              "      <th>22657</th>\n",
              "      <td>E 5 Karayolu (yanyol) No 20</td>\n",
              "      <td>Hotels</td>\n",
              "      <td>Englewood</td>\n",
              "      <td>US</td>\n",
              "      <td>Radisson Blu Conference and Airport Hotel</td>\n",
              "      <td>1.0</td>\n",
              "      <td>Everything was poor....during stay and after t...</td>\n",
              "      <td>POOR IN ALL RESPECT</td>\n",
              "      <td>A Traveler</td>\n",
              "      <td>negative</td>\n",
              "    </tr>\n",
              "    <tr>\n",
              "      <th>3344</th>\n",
              "      <td>1287 Highway 78 W</td>\n",
              "      <td>Hotels,Motels,Hotel &amp; Motel Consultants,Lodging</td>\n",
              "      <td>Jasper</td>\n",
              "      <td>US</td>\n",
              "      <td>Super 8</td>\n",
              "      <td>1.0</td>\n",
              "      <td>House keeping very bad job have photos,vldo, b...</td>\n",
              "      <td>Has not been that good</td>\n",
              "      <td>6byronb</td>\n",
              "      <td>negative</td>\n",
              "    </tr>\n",
              "    <tr>\n",
              "      <th>24723</th>\n",
              "      <td>3320 Mesa Rd</td>\n",
              "      <td>Golf Courses - Private,Hotels,Resorts</td>\n",
              "      <td>Colorado Springs</td>\n",
              "      <td>US</td>\n",
              "      <td>Garden of The Gods Club &amp; Resort</td>\n",
              "      <td>5.0</td>\n",
              "      <td>Everything I ever imagined. Simply wonderful. ...</td>\n",
              "      <td>Incredible Views/Sensational Rooms/Superb Spa</td>\n",
              "      <td>pjhooray</td>\n",
              "      <td>positive</td>\n",
              "    </tr>\n",
              "    <tr>\n",
              "      <th>26031</th>\n",
              "      <td>11900 N W Plaza Cir</td>\n",
              "      <td>Hotels</td>\n",
              "      <td>Kansas City</td>\n",
              "      <td>US</td>\n",
              "      <td>Super 8 Kansas City Airport</td>\n",
              "      <td>3.0</td>\n",
              "      <td>Great stay</td>\n",
              "      <td>Overall decent place</td>\n",
              "      <td>james</td>\n",
              "      <td>negative</td>\n",
              "    </tr>\n",
              "    <tr>\n",
              "      <th>4111</th>\n",
              "      <td>13600 N W 2nd St</td>\n",
              "      <td>Hotels</td>\n",
              "      <td>Fort Lauderdale</td>\n",
              "      <td>US</td>\n",
              "      <td>La Quinta Inn and Suites Sunrise</td>\n",
              "      <td>3.0</td>\n",
              "      <td>We had dead ants in the room. Told the front d...</td>\n",
              "      <td>Ok</td>\n",
              "      <td>Kathleen</td>\n",
              "      <td>negative</td>\n",
              "    </tr>\n",
              "    <tr>\n",
              "      <th>27354</th>\n",
              "      <td>4934 N W Loop 410</td>\n",
              "      <td>Hotels</td>\n",
              "      <td>San Antonio</td>\n",
              "      <td>US</td>\n",
              "      <td>Fiesta Inn and Suites</td>\n",
              "      <td>1.0</td>\n",
              "      <td>Unclean, no air conditioning, dirty bathroom, ...</td>\n",
              "      <td>Horrible stay!</td>\n",
              "      <td>Ronnie</td>\n",
              "      <td>negative</td>\n",
              "    </tr>\n",
              "    <tr>\n",
              "      <th>17135</th>\n",
              "      <td>400 E International Speedway Blvd</td>\n",
              "      <td>Hotels</td>\n",
              "      <td>Deland</td>\n",
              "      <td>US</td>\n",
              "      <td>Comfort Inn Deland - Near University</td>\n",
              "      <td>5.0</td>\n",
              "      <td>They were redoing the pool and the paving the ...</td>\n",
              "      <td>Nice stay</td>\n",
              "      <td>Jennifer</td>\n",
              "      <td>positive</td>\n",
              "    </tr>\n",
              "  </tbody>\n",
              "</table>\n",
              "</div>"
            ],
            "text/plain": [
              "                                 address  ...  response\n",
              "33473                3243 S Ridge Dr S W  ...  negative\n",
              "6000                    3 5920 Kuhio Hwy  ...  negative\n",
              "30956                  12015 Harbor Blvd  ...  positive\n",
              "22657        E 5 Karayolu (yanyol) No 20  ...  negative\n",
              "3344                   1287 Highway 78 W  ...  negative\n",
              "24723                       3320 Mesa Rd  ...  positive\n",
              "26031                11900 N W Plaza Cir  ...  negative\n",
              "4111                    13600 N W 2nd St  ...  negative\n",
              "27354                  4934 N W Loop 410  ...  negative\n",
              "17135  400 E International Speedway Blvd  ...  positive\n",
              "\n",
              "[10 rows x 10 columns]"
            ]
          },
          "metadata": {
            "tags": []
          },
          "execution_count": 24
        }
      ]
    },
    {
      "cell_type": "code",
      "metadata": {
        "id": "sop8DHturmvK",
        "colab": {
          "base_uri": "https://localhost:8080/",
          "height": 407
        },
        "outputId": "974d05ab-4787-4181-9b94-9966d56bf9fc"
      },
      "source": [
        "corpus[['reviews_text','reviews_rating','response']]"
      ],
      "execution_count": 25,
      "outputs": [
        {
          "output_type": "execute_result",
          "data": {
            "text/html": [
              "<div>\n",
              "<style scoped>\n",
              "    .dataframe tbody tr th:only-of-type {\n",
              "        vertical-align: middle;\n",
              "    }\n",
              "\n",
              "    .dataframe tbody tr th {\n",
              "        vertical-align: top;\n",
              "    }\n",
              "\n",
              "    .dataframe thead th {\n",
              "        text-align: right;\n",
              "    }\n",
              "</style>\n",
              "<table border=\"1\" class=\"dataframe\">\n",
              "  <thead>\n",
              "    <tr style=\"text-align: right;\">\n",
              "      <th></th>\n",
              "      <th>reviews_text</th>\n",
              "      <th>reviews_rating</th>\n",
              "      <th>response</th>\n",
              "    </tr>\n",
              "  </thead>\n",
              "  <tbody>\n",
              "    <tr>\n",
              "      <th>1</th>\n",
              "      <td>Really lovely hotel. Stayed on the very top fl...</td>\n",
              "      <td>5.0</td>\n",
              "      <td>positive</td>\n",
              "    </tr>\n",
              "    <tr>\n",
              "      <th>2</th>\n",
              "      <td>Ett mycket bra hotell. Det som drog ner betyge...</td>\n",
              "      <td>5.0</td>\n",
              "      <td>positive</td>\n",
              "    </tr>\n",
              "    <tr>\n",
              "      <th>3</th>\n",
              "      <td>We stayed here for four nights in October. The...</td>\n",
              "      <td>5.0</td>\n",
              "      <td>positive</td>\n",
              "    </tr>\n",
              "    <tr>\n",
              "      <th>4</th>\n",
              "      <td>We stayed here for four nights in October. The...</td>\n",
              "      <td>5.0</td>\n",
              "      <td>positive</td>\n",
              "    </tr>\n",
              "    <tr>\n",
              "      <th>5</th>\n",
              "      <td>We loved staying on the island of Lido! You ne...</td>\n",
              "      <td>5.0</td>\n",
              "      <td>positive</td>\n",
              "    </tr>\n",
              "    <tr>\n",
              "      <th>...</th>\n",
              "      <td>...</td>\n",
              "      <td>...</td>\n",
              "      <td>...</td>\n",
              "    </tr>\n",
              "    <tr>\n",
              "      <th>35905</th>\n",
              "      <td>We truly enjoyed staying at the Elk Springs re...</td>\n",
              "      <td>5.0</td>\n",
              "      <td>positive</td>\n",
              "    </tr>\n",
              "    <tr>\n",
              "      <th>35906</th>\n",
              "      <td>We were here for a 2nd time the last weekend o...</td>\n",
              "      <td>5.0</td>\n",
              "      <td>positive</td>\n",
              "    </tr>\n",
              "    <tr>\n",
              "      <th>35907</th>\n",
              "      <td>Best of the Best!!!! My family and I stayed in...</td>\n",
              "      <td>5.0</td>\n",
              "      <td>positive</td>\n",
              "    </tr>\n",
              "    <tr>\n",
              "      <th>35908</th>\n",
              "      <td>Amazing Vacation in Beautiful Cabin We stayed ...</td>\n",
              "      <td>5.0</td>\n",
              "      <td>positive</td>\n",
              "    </tr>\n",
              "    <tr>\n",
              "      <th>35909</th>\n",
              "      <td>My husband and I stayed at Tree Tops which is ...</td>\n",
              "      <td>5.0</td>\n",
              "      <td>positive</td>\n",
              "    </tr>\n",
              "  </tbody>\n",
              "</table>\n",
              "<p>24958 rows × 3 columns</p>\n",
              "</div>"
            ],
            "text/plain": [
              "                                            reviews_text  ...  response\n",
              "1      Really lovely hotel. Stayed on the very top fl...  ...  positive\n",
              "2      Ett mycket bra hotell. Det som drog ner betyge...  ...  positive\n",
              "3      We stayed here for four nights in October. The...  ...  positive\n",
              "4      We stayed here for four nights in October. The...  ...  positive\n",
              "5      We loved staying on the island of Lido! You ne...  ...  positive\n",
              "...                                                  ...  ...       ...\n",
              "35905  We truly enjoyed staying at the Elk Springs re...  ...  positive\n",
              "35906  We were here for a 2nd time the last weekend o...  ...  positive\n",
              "35907  Best of the Best!!!! My family and I stayed in...  ...  positive\n",
              "35908  Amazing Vacation in Beautiful Cabin We stayed ...  ...  positive\n",
              "35909  My husband and I stayed at Tree Tops which is ...  ...  positive\n",
              "\n",
              "[24958 rows x 3 columns]"
            ]
          },
          "metadata": {
            "tags": []
          },
          "execution_count": 25
        }
      ]
    },
    {
      "cell_type": "code",
      "metadata": {
        "id": "FqzCOXZtBiTQ",
        "colab": {
          "base_uri": "https://localhost:8080/"
        },
        "outputId": "bbd61b92-199a-441e-a69c-6a1c5a935644"
      },
      "source": [
        "review_positif = len([x for x in corpus['response'] if x == 'positive'])\n",
        "review_negatif = len([x for x in corpus['response'] if x == 'negative'])\n",
        "print('Positive Reviews : ',review_positif)\n",
        "print('Negative Reviews : ',review_negatif)"
      ],
      "execution_count": 26,
      "outputs": [
        {
          "output_type": "stream",
          "text": [
            "Positive Reviews :  13028\n",
            "Negative Reviews :  11930\n"
          ],
          "name": "stdout"
        }
      ]
    },
    {
      "cell_type": "code",
      "metadata": {
        "id": "XqlQ0QtGCr9S",
        "colab": {
          "base_uri": "https://localhost:8080/",
          "height": 622
        },
        "outputId": "dd0e0d13-e844-4e24-9292-e2e59dde4bc3"
      },
      "source": [
        "#show the sentiment distribution\n",
        "f = sns.countplot(x='response', data=corpus)\n",
        "f.set_title(\"Sentiment Distribution\")\n",
        "f.set_xticklabels(['Positive', 'Negative'])\n",
        "plt.xlabel(\"\");"
      ],
      "execution_count": 27,
      "outputs": [
        {
          "output_type": "display_data",
          "data": {
            "image/png": "[encoded data removed]",
            "text/plain": [
              "<Figure size 720x720 with 1 Axes>"
            ]
          },
          "metadata": {
            "tags": []
          }
        }
      ]
    },
    {
      "cell_type": "code",
      "metadata": {
        "id": "UKhb9Hm8-bxx",
        "colab": {
          "base_uri": "https://localhost:8080/",
          "height": 611
        },
        "outputId": "6aae9a2a-aa32-4f0b-bf67-f2998155b01c"
      },
      "source": [
        "corpus['bins'] = pd.cut(corpus['reviews_rating'], bins=[-1,4,5], labels=['Negative (0-3)','Positive (4-5)'], right=True)\r\n",
        "\r\n",
        "bin_percent = pd.DataFrame(corpus['bins'].value_counts(normalize=True) * 100)\r\n",
        "ax = bin_percent.plot.pie(y='bins', autopct='%1.1f%%')\r\n",
        "ax.set_title('Positive and Negative distribution in the data')"
      ],
      "execution_count": 43,
      "outputs": [
        {
          "output_type": "execute_result",
          "data": {
            "text/plain": [
              "Text(0.5, 1.0, 'Positive and Negative distribution in the data')"
            ]
          },
          "metadata": {
            "tags": []
          },
          "execution_count": 43
        },
        {
          "output_type": "display_data",
          "data": {
            "image/png": "[encoded data removed]",
            "text/plain": [
              "<Figure size 720x720 with 1 Axes>"
            ]
          },
          "metadata": {
            "tags": []
          }
        }
      ]
    },
    {
      "cell_type": "markdown",
      "metadata": {
        "id": "5WSr2C75uGr7"
      },
      "source": [
        "Text Cleaning"
      ]
    },
    {
      "cell_type": "code",
      "metadata": {
        "id": "7lwfl4yHGmPE"
      },
      "source": [
        "#Regular Expression method to search for matching texts\n",
        "word_tokenize = WordPunctTokenizer()\n",
        "review_handle = r'@[A-Za-z0-9_]+'                         # remove review handle (@username)\n",
        "url_handle = r'http[^ ]+'                                  # remove website URLs that start with 'https?://'\n",
        "combined_handle = r'|'.join((review_handle, url_handle))  # join\n",
        "www_handle = r'www.[^ ]+'                                  # remove website URLs that start with 'www.'\n",
        "punctuation_handle = r'\\W+'"
      ],
      "execution_count": 44,
      "outputs": []
    },
    {
      "cell_type": "code",
      "metadata": {
        "id": "jbQZhzFx6vEL",
        "colab": {
          "base_uri": "https://localhost:8080/",
          "height": 407
        },
        "outputId": "69278ec7-e3aa-47af-a387-28d8df7427d2"
      },
      "source": [
        "corpus[['reviews_text','reviews_rating','response']]"
      ],
      "execution_count": 45,
      "outputs": [
        {
          "output_type": "execute_result",
          "data": {
            "text/html": [
              "<div>\n",
              "<style scoped>\n",
              "    .dataframe tbody tr th:only-of-type {\n",
              "        vertical-align: middle;\n",
              "    }\n",
              "\n",
              "    .dataframe tbody tr th {\n",
              "        vertical-align: top;\n",
              "    }\n",
              "\n",
              "    .dataframe thead th {\n",
              "        text-align: right;\n",
              "    }\n",
              "</style>\n",
              "<table border=\"1\" class=\"dataframe\">\n",
              "  <thead>\n",
              "    <tr style=\"text-align: right;\">\n",
              "      <th></th>\n",
              "      <th>reviews_text</th>\n",
              "      <th>reviews_rating</th>\n",
              "      <th>response</th>\n",
              "    </tr>\n",
              "  </thead>\n",
              "  <tbody>\n",
              "    <tr>\n",
              "      <th>1</th>\n",
              "      <td>Really lovely hotel. Stayed on the very top fl...</td>\n",
              "      <td>5.0</td>\n",
              "      <td>positive</td>\n",
              "    </tr>\n",
              "    <tr>\n",
              "      <th>2</th>\n",
              "      <td>Ett mycket bra hotell. Det som drog ner betyge...</td>\n",
              "      <td>5.0</td>\n",
              "      <td>positive</td>\n",
              "    </tr>\n",
              "    <tr>\n",
              "      <th>3</th>\n",
              "      <td>We stayed here for four nights in October. The...</td>\n",
              "      <td>5.0</td>\n",
              "      <td>positive</td>\n",
              "    </tr>\n",
              "    <tr>\n",
              "      <th>4</th>\n",
              "      <td>We stayed here for four nights in October. The...</td>\n",
              "      <td>5.0</td>\n",
              "      <td>positive</td>\n",
              "    </tr>\n",
              "    <tr>\n",
              "      <th>5</th>\n",
              "      <td>We loved staying on the island of Lido! You ne...</td>\n",
              "      <td>5.0</td>\n",
              "      <td>positive</td>\n",
              "    </tr>\n",
              "    <tr>\n",
              "      <th>...</th>\n",
              "      <td>...</td>\n",
              "      <td>...</td>\n",
              "      <td>...</td>\n",
              "    </tr>\n",
              "    <tr>\n",
              "      <th>35905</th>\n",
              "      <td>We truly enjoyed staying at the Elk Springs re...</td>\n",
              "      <td>5.0</td>\n",
              "      <td>positive</td>\n",
              "    </tr>\n",
              "    <tr>\n",
              "      <th>35906</th>\n",
              "      <td>We were here for a 2nd time the last weekend o...</td>\n",
              "      <td>5.0</td>\n",
              "      <td>positive</td>\n",
              "    </tr>\n",
              "    <tr>\n",
              "      <th>35907</th>\n",
              "      <td>Best of the Best!!!! My family and I stayed in...</td>\n",
              "      <td>5.0</td>\n",
              "      <td>positive</td>\n",
              "    </tr>\n",
              "    <tr>\n",
              "      <th>35908</th>\n",
              "      <td>Amazing Vacation in Beautiful Cabin We stayed ...</td>\n",
              "      <td>5.0</td>\n",
              "      <td>positive</td>\n",
              "    </tr>\n",
              "    <tr>\n",
              "      <th>35909</th>\n",
              "      <td>My husband and I stayed at Tree Tops which is ...</td>\n",
              "      <td>5.0</td>\n",
              "      <td>positive</td>\n",
              "    </tr>\n",
              "  </tbody>\n",
              "</table>\n",
              "<p>24958 rows × 3 columns</p>\n",
              "</div>"
            ],
            "text/plain": [
              "                                            reviews_text  ...  response\n",
              "1      Really lovely hotel. Stayed on the very top fl...  ...  positive\n",
              "2      Ett mycket bra hotell. Det som drog ner betyge...  ...  positive\n",
              "3      We stayed here for four nights in October. The...  ...  positive\n",
              "4      We stayed here for four nights in October. The...  ...  positive\n",
              "5      We loved staying on the island of Lido! You ne...  ...  positive\n",
              "...                                                  ...  ...       ...\n",
              "35905  We truly enjoyed staying at the Elk Springs re...  ...  positive\n",
              "35906  We were here for a 2nd time the last weekend o...  ...  positive\n",
              "35907  Best of the Best!!!! My family and I stayed in...  ...  positive\n",
              "35908  Amazing Vacation in Beautiful Cabin We stayed ...  ...  positive\n",
              "35909  My husband and I stayed at Tree Tops which is ...  ...  positive\n",
              "\n",
              "[24958 rows x 3 columns]"
            ]
          },
          "metadata": {
            "tags": []
          },
          "execution_count": 45
        }
      ]
    },
    {
      "cell_type": "code",
      "metadata": {
        "id": "zRQV9grn7H1q"
      },
      "source": [
        "corpus = corpus[corpus.response.isin(['negative', 'positive'])]"
      ],
      "execution_count": 46,
      "outputs": []
    },
    {
      "cell_type": "code",
      "metadata": {
        "id": "YfF_oI28wSAh",
        "colab": {
          "base_uri": "https://localhost:8080/",
          "height": 589
        },
        "outputId": "0d918673-cd0e-4386-e4d5-e1ba358f80e8"
      },
      "source": [
        "# wordcloud function\r\n",
        "\r\n",
        "from wordcloud import WordCloud\r\n",
        "import matplotlib.pyplot as plt\r\n",
        "\r\n",
        "def show_wordcloud(data, title = None):\r\n",
        "    wordcloud = WordCloud(\r\n",
        "        background_color = 'white',\r\n",
        "        max_words = 200,\r\n",
        "        max_font_size = 40, \r\n",
        "        scale = 3,\r\n",
        "        random_state = 42\r\n",
        "    ).generate(str(data))\r\n",
        "\r\n",
        "    fig = plt.figure(1, figsize = (20, 20))\r\n",
        "    plt.axis('off')\r\n",
        "    if title: \r\n",
        "        fig.suptitle(title, fontsize = 20)\r\n",
        "        fig.subplots_adjust(top = 2.3)\r\n",
        "\r\n",
        "    plt.imshow(wordcloud)\r\n",
        "    plt.show()\r\n",
        "    \r\n",
        "# print wordcloud\r\n",
        "show_wordcloud(corpus[\"reviews_text\"])"
      ],
      "execution_count": 47,
      "outputs": [
        {
          "output_type": "display_data",
          "data": {
            "image/png": "[encoded data removed]",
            "text/plain": [
              "<Figure size 1440x1440 with 1 Axes>"
            ]
          },
          "metadata": {
            "tags": []
          }
        }
      ]
    },
    {
      "cell_type": "code",
      "metadata": {
        "id": "EJ4ZZOP_padJ"
      },
      "source": [
        "#import text file of stop words, stop words are the most common words in a language that adds no semantics meaning to a sentence\n",
        "stopwords = set(pd.read_csv('/content/drive/MyDrive/PROYEK/Proyek PBA/stop-word-list.txt', sep='\\n', header=0).stopword)"
      ],
      "execution_count": 48,
      "outputs": []
    },
    {
      "cell_type": "code",
      "metadata": {
        "id": "aAEJ9GKSvOjD"
      },
      "source": [
        "#define a function called process_text to process the text using the methods listed\n",
        "# case folding\n",
        "# remove punctuation\n",
        "# stopword removal\n",
        "# remove review handle (@username)\n",
        "# remove website URLs that start with 'https?://'\n",
        "# remove website URLs that start with 'www.'\n",
        "# tokenization\n",
        "\n",
        "def process_text(text):\n",
        "    soup = BeautifulSoup(text, 'lxml')\n",
        "    souped = soup.get_text()\n",
        "\n",
        "    try:\n",
        "        text = souped.decode(\"utf-8-sig\").replace(u\"\\ufffd\", \"?\")\n",
        "    except:\n",
        "        text = souped\n",
        "\n",
        "    cleaned_text = re.sub(punctuation_handle, \" \",(re.sub(www_handle, '', re.sub(combined_handle, '', text)).lower()))\n",
        "    cleaned_text = ' '.join([word for word in cleaned_text.split() if word not in stopwords])\n",
        "\n",
        "    return (\" \".join([word for word in word_tokenize.tokenize(cleaned_text) if len(word) > 1])).strip()"
      ],
      "execution_count": 49,
      "outputs": []
    },
    {
      "cell_type": "code",
      "metadata": {
        "id": "C7EbhHmiz1Ue",
        "colab": {
          "base_uri": "https://localhost:8080/",
          "height": 52
        },
        "outputId": "e1f68fa1-5327-4153-9767-360f91dd899f"
      },
      "source": [
        "#test the above text cleaning method\n",
        "example_text = \"Stayed with parents, wife twin toddlers in two triple rooms. The hotel is easy to reach and the rooms were well placed well furnished. The best feature was extremely friendly helpful staff, particularly Ms. Annalucia Ms. Anna who were always ready to listen help out with big smiles. The breakfasts were very good, with good spread and the guests were made welcome to sit and eat at leisure (more important when you are with toddlers!) Would surely go back to Venice would happily stay again at Russo Palace.\"\n",
        "\n",
        "process_text(example_text)"
      ],
      "execution_count": 50,
      "outputs": [
        {
          "output_type": "execute_result",
          "data": {
            "application/vnd.google.colaboratory.intrinsic+json": {
              "type": "string"
            },
            "text/plain": [
              "'stayed parents wife twin toddlers triple rooms hotel easy reach rooms placed furnished best feature extremely friendly helpful staff particularly ms annalucia ms anna ready listen help big smiles breakfasts good good spread guests welcome sit eat leisure important toddlers surely venice happily stay russo palace'"
            ]
          },
          "metadata": {
            "tags": []
          },
          "execution_count": 50
        }
      ]
    },
    {
      "cell_type": "code",
      "metadata": {
        "id": "f_5xovew_VtT"
      },
      "source": [
        "stop_words = set(pd.read_csv('/content/drive/MyDrive/PROYEK/Proyek PBA/stop-word-list.txt', sep='\\n', header=0).stopword)\r\n",
        "lemmatizer = WordNetLemmatizer()\r\n",
        "\r\n",
        "def clean_text(text):\r\n",
        "    text = text.lower()\r\n",
        "    return re.sub(r'[^a-z]',' ',text)\r\n",
        "\r\n",
        "def lemmatize(tokens):\r\n",
        "    tokens = list(map(lemmatizer.lemmatize, tokens))\r\n",
        "    lemmatized_tokens = list(map(lambda x: lemmatizer.lemmatize(x, 'v'), tokens))\r\n",
        "    return ' '.join(list(filter(lambda x: not x in stop_words, lemmatized_tokens)))\r\n",
        "\r\n",
        "def preprocess(text):\r\n",
        "    text = clean_text(text)\r\n",
        "    tokens = word_tokenize(text)\r\n",
        "    return lemmatize(tokens)"
      ],
      "execution_count": 51,
      "outputs": []
    },
    {
      "cell_type": "code",
      "metadata": {
        "id": "Ob2i9LgrCBri"
      },
      "source": [
        "corpus = corpus.loc[:,['reviews_rating','reviews_text']]\r\n",
        "corpus.to_csv('cleaned.csv',sep='|',index=False)\r\n",
        "!cp cleaned.csv ./drive/My\\ Drive/data\r\n",
        "!rm cleaned.csv"
      ],
      "execution_count": 60,
      "outputs": []
    },
    {
      "cell_type": "markdown",
      "metadata": {
        "id": "3FJh89p4O4Yo"
      },
      "source": [
        "#Classifier using Naive Bayes"
      ]
    },
    {
      "cell_type": "markdown",
      "metadata": {
        "id": "08jBW-7yPMoT"
      },
      "source": [
        ""
      ]
    }
  ]
}