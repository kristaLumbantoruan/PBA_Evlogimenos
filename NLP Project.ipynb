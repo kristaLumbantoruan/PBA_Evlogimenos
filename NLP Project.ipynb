{
  "nbformat": 4,
  "nbformat_minor": 0,
  "metadata": {
    "colab": {
      "name": "Sentiment Analysis Hotel Based on Review with Comparing Naive Bayes and SVM.ipynb",
      "provenance": [],
      "collapsed_sections": []
    },
    "kernelspec": {
      "display_name": "Python 3",
      "name": "python3"
    }
  },
  "cells": [
    {
      "cell_type": "markdown",
      "metadata": {
        "id": "OEu3JsYqb3la"
      },
      "source": [
        "#NLP - Sentiment Analysis Hotel based on Review with Comparing Naive Bayes and SVM\n"
      ]
    },
    {
      "cell_type": "code",
      "metadata": {
        "id": "GrOJLhACCWlc"
      },
      "source": [
        "#import library\n",
        "\n",
        "import numpy as np\n",
        "#import pandas\n",
        "import pandas as pd\n",
        "import seaborn as sns\n",
        "from pylab import rcParams\n",
        "import string\n",
        "import re\n",
        "import matplotlib.pyplot as plt\n",
        "import math\n",
        "from sklearn.model_selection import train_test_split\n",
        "from collections import Counter, defaultdict\n",
        "from bs4 import BeautifulSoup\n",
        "from sklearn.metrics import accuracy_score\n",
        "from nltk.tokenize import WordPunctTokenizer\n",
        "from nltk.tokenize import RegexpTokenizer\n",
        "from sklearn.metrics import classification_report, confusion_matrix\n",
        "#import Natural Language Toolkit\n",
        "import nltk\n",
        "from nltk.stem import PorterStemmer\n",
        "from nltk.stem import WordNetLemmatizer\n",
        "from nltk.corpus import stopwords\n",
        "import os\n",
        "from sklearn.feature_extraction.text import CountVectorizer\n",
        "from sklearn.linear_model import LogisticRegression\n",
        "from sklearn.feature_extraction.text import TfidfVectorizer\n",
        "import time\n",
        "from sklearn import svm\n",
        "from sklearn.metrics import classification_report\n",
        "from sklearn import naive_bayes\n",
        "from sklearn.metrics import roc_auc_score"
      ],
      "execution_count": 1,
      "outputs": []
    },
    {
      "cell_type": "markdown",
      "metadata": {
        "id": "igl8kKNMbxRD"
      },
      "source": [
        "#Data Facts and Import"
      ]
    },
    {
      "cell_type": "code",
      "metadata": {
        "id": "XU2MVzvpYM44"
      },
      "source": [
        "get_ipython().run_line_magic('matplotlib', 'inline')"
      ],
      "execution_count": 2,
      "outputs": []
    },
    {
      "cell_type": "code",
      "metadata": {
        "id": "I3pQ7ZrUYQKH"
      },
      "source": [
        "sns.set(style='whitegrid', palette='muted', font_scale=1.5)"
      ],
      "execution_count": 3,
      "outputs": []
    },
    {
      "cell_type": "code",
      "metadata": {
        "id": "nWqEMABqYTE7"
      },
      "source": [
        "\n",
        "rcParams['figure.figsize'] = 10, 10"
      ],
      "execution_count": 4,
      "outputs": []
    },
    {
      "cell_type": "code",
      "metadata": {
        "id": "9kfAzyvYYV2a"
      },
      "source": [
        "RANDOM_SEED = 42\n",
        "np.random.seed(RANDOM_SEED)"
      ],
      "execution_count": 5,
      "outputs": []
    },
    {
      "cell_type": "code",
      "metadata": {
        "id": "GaEk78dOYaHH"
      },
      "source": [
        "#import data\n",
        "corpus = pd.read_csv(\"/content/drive/MyDrive/PROYEK/Proyek PBA/7282_1.csv\")"
      ],
      "execution_count": 6,
      "outputs": []
    },
    {
      "cell_type": "code",
      "metadata": {
        "colab": {
          "base_uri": "https://localhost:8080/"
        },
        "id": "p96xWhv4cUO9",
        "outputId": "889cb393-fcef-4a6a-fd42-f42076cec4bb"
      },
      "source": [
        "#Check the shape (number of columns and rows) in the dataset\n",
        "corpus.shape"
      ],
      "execution_count": 7,
      "outputs": [
        {
          "output_type": "execute_result",
          "data": {
            "text/plain": [
              "(35912, 19)"
            ]
          },
          "metadata": {
            "tags": []
          },
          "execution_count": 7
        }
      ]
    },
    {
      "cell_type": "code",
      "metadata": {
        "colab": {
          "base_uri": "https://localhost:8080/"
        },
        "id": "Okzxun_NTsTv",
        "outputId": "b784c501-e351-4173-af46-50456c525b81"
      },
      "source": [
        "print('Panjang Corpus : ',len(corpus))"
      ],
      "execution_count": 8,
      "outputs": [
        {
          "output_type": "stream",
          "text": [
            "Panjang Corpus :  35912\n"
          ],
          "name": "stdout"
        }
      ]
    },
    {
      "cell_type": "code",
      "metadata": {
        "colab": {
          "base_uri": "https://localhost:8080/",
          "height": 910
        },
        "id": "rQt3EUyBYg7L",
        "outputId": "903550a9-ff95-41b3-f9c5-97bc72312c20"
      },
      "source": [
        "#Show data\n",
        "corpus"
      ],
      "execution_count": 9,
      "outputs": [
        {
          "output_type": "execute_result",
          "data": {
            "text/html": [
              "<div>\n",
              "<style scoped>\n",
              "    .dataframe tbody tr th:only-of-type {\n",
              "        vertical-align: middle;\n",
              "    }\n",
              "\n",
              "    .dataframe tbody tr th {\n",
              "        vertical-align: top;\n",
              "    }\n",
              "\n",
              "    .dataframe thead th {\n",
              "        text-align: right;\n",
              "    }\n",
              "</style>\n",
              "<table border=\"1\" class=\"dataframe\">\n",
              "  <thead>\n",
              "    <tr style=\"text-align: right;\">\n",
              "      <th></th>\n",
              "      <th>address</th>\n",
              "      <th>categories</th>\n",
              "      <th>city</th>\n",
              "      <th>country</th>\n",
              "      <th>latitude</th>\n",
              "      <th>longitude</th>\n",
              "      <th>name</th>\n",
              "      <th>postalCode</th>\n",
              "      <th>province</th>\n",
              "      <th>reviews_date</th>\n",
              "      <th>reviews_dateAdded</th>\n",
              "      <th>reviews_doRecommend</th>\n",
              "      <th>reviews_id</th>\n",
              "      <th>reviews_rating</th>\n",
              "      <th>reviews_text</th>\n",
              "      <th>reviews_title</th>\n",
              "      <th>reviews_userCity</th>\n",
              "      <th>reviews_username</th>\n",
              "      <th>reviews_userProvince</th>\n",
              "    </tr>\n",
              "  </thead>\n",
              "  <tbody>\n",
              "    <tr>\n",
              "      <th>0</th>\n",
              "      <td>Riviera San Nicol 11/a</td>\n",
              "      <td>Hotels</td>\n",
              "      <td>Mableton</td>\n",
              "      <td>US</td>\n",
              "      <td>45.421611</td>\n",
              "      <td>12.376187</td>\n",
              "      <td>Hotel Russo Palace</td>\n",
              "      <td>30126</td>\n",
              "      <td>GA</td>\n",
              "      <td>2013-09-22T00:00:00Z</td>\n",
              "      <td>2016-10-24T00:00:25Z</td>\n",
              "      <td>NaN</td>\n",
              "      <td>NaN</td>\n",
              "      <td>4.0</td>\n",
              "      <td>Pleasant 10 min walk along the sea front to th...</td>\n",
              "      <td>Good location away from the crouds</td>\n",
              "      <td>NaN</td>\n",
              "      <td>Russ (kent)</td>\n",
              "      <td>NaN</td>\n",
              "    </tr>\n",
              "    <tr>\n",
              "      <th>1</th>\n",
              "      <td>Riviera San Nicol 11/a</td>\n",
              "      <td>Hotels</td>\n",
              "      <td>Mableton</td>\n",
              "      <td>US</td>\n",
              "      <td>45.421611</td>\n",
              "      <td>12.376187</td>\n",
              "      <td>Hotel Russo Palace</td>\n",
              "      <td>30126</td>\n",
              "      <td>GA</td>\n",
              "      <td>2015-04-03T00:00:00Z</td>\n",
              "      <td>2016-10-24T00:00:25Z</td>\n",
              "      <td>NaN</td>\n",
              "      <td>NaN</td>\n",
              "      <td>5.0</td>\n",
              "      <td>Really lovely hotel. Stayed on the very top fl...</td>\n",
              "      <td>Great hotel with Jacuzzi bath!</td>\n",
              "      <td>NaN</td>\n",
              "      <td>A Traveler</td>\n",
              "      <td>NaN</td>\n",
              "    </tr>\n",
              "    <tr>\n",
              "      <th>2</th>\n",
              "      <td>Riviera San Nicol 11/a</td>\n",
              "      <td>Hotels</td>\n",
              "      <td>Mableton</td>\n",
              "      <td>US</td>\n",
              "      <td>45.421611</td>\n",
              "      <td>12.376187</td>\n",
              "      <td>Hotel Russo Palace</td>\n",
              "      <td>30126</td>\n",
              "      <td>GA</td>\n",
              "      <td>2014-05-13T00:00:00Z</td>\n",
              "      <td>2016-10-24T00:00:25Z</td>\n",
              "      <td>NaN</td>\n",
              "      <td>NaN</td>\n",
              "      <td>5.0</td>\n",
              "      <td>Ett mycket bra hotell. Det som drog ner betyge...</td>\n",
              "      <td>Lugnt l��ge</td>\n",
              "      <td>NaN</td>\n",
              "      <td>Maud</td>\n",
              "      <td>NaN</td>\n",
              "    </tr>\n",
              "    <tr>\n",
              "      <th>3</th>\n",
              "      <td>Riviera San Nicol 11/a</td>\n",
              "      <td>Hotels</td>\n",
              "      <td>Mableton</td>\n",
              "      <td>US</td>\n",
              "      <td>45.421611</td>\n",
              "      <td>12.376187</td>\n",
              "      <td>Hotel Russo Palace</td>\n",
              "      <td>30126</td>\n",
              "      <td>GA</td>\n",
              "      <td>2013-10-27T00:00:00Z</td>\n",
              "      <td>2016-10-24T00:00:25Z</td>\n",
              "      <td>NaN</td>\n",
              "      <td>NaN</td>\n",
              "      <td>5.0</td>\n",
              "      <td>We stayed here for four nights in October. The...</td>\n",
              "      <td>Good location on the Lido.</td>\n",
              "      <td>NaN</td>\n",
              "      <td>Julie</td>\n",
              "      <td>NaN</td>\n",
              "    </tr>\n",
              "    <tr>\n",
              "      <th>4</th>\n",
              "      <td>Riviera San Nicol 11/a</td>\n",
              "      <td>Hotels</td>\n",
              "      <td>Mableton</td>\n",
              "      <td>US</td>\n",
              "      <td>45.421611</td>\n",
              "      <td>12.376187</td>\n",
              "      <td>Hotel Russo Palace</td>\n",
              "      <td>30126</td>\n",
              "      <td>GA</td>\n",
              "      <td>2015-03-05T00:00:00Z</td>\n",
              "      <td>2016-10-24T00:00:25Z</td>\n",
              "      <td>NaN</td>\n",
              "      <td>NaN</td>\n",
              "      <td>5.0</td>\n",
              "      <td>We stayed here for four nights in October. The...</td>\n",
              "      <td>������ ���������������</td>\n",
              "      <td>NaN</td>\n",
              "      <td>sungchul</td>\n",
              "      <td>NaN</td>\n",
              "    </tr>\n",
              "    <tr>\n",
              "      <th>...</th>\n",
              "      <td>...</td>\n",
              "      <td>...</td>\n",
              "      <td>...</td>\n",
              "      <td>...</td>\n",
              "      <td>...</td>\n",
              "      <td>...</td>\n",
              "      <td>...</td>\n",
              "      <td>...</td>\n",
              "      <td>...</td>\n",
              "      <td>...</td>\n",
              "      <td>...</td>\n",
              "      <td>...</td>\n",
              "      <td>...</td>\n",
              "      <td>...</td>\n",
              "      <td>...</td>\n",
              "      <td>...</td>\n",
              "      <td>...</td>\n",
              "      <td>...</td>\n",
              "      <td>...</td>\n",
              "    </tr>\n",
              "    <tr>\n",
              "      <th>35907</th>\n",
              "      <td>1088 Powdermill Rd</td>\n",
              "      <td>Cabins,Resorts &amp; Vacation Cottages,Wedding Cha...</td>\n",
              "      <td>Gatlinburg</td>\n",
              "      <td>US</td>\n",
              "      <td>35.754868</td>\n",
              "      <td>-83.457295</td>\n",
              "      <td>Elk Springs Resort</td>\n",
              "      <td>37738</td>\n",
              "      <td>TN</td>\n",
              "      <td>2012-03-20T00:00:00Z</td>\n",
              "      <td>2016-06-23T16:50:58Z</td>\n",
              "      <td>NaN</td>\n",
              "      <td>NaN</td>\n",
              "      <td>5.0</td>\n",
              "      <td>Best of the Best!!!! My family and I stayed in...</td>\n",
              "      <td>Amazing time (both times!!)</td>\n",
              "      <td>Charlotte</td>\n",
              "      <td>Chelsa K.</td>\n",
              "      <td>NC</td>\n",
              "    </tr>\n",
              "    <tr>\n",
              "      <th>35908</th>\n",
              "      <td>1088 Powdermill Rd</td>\n",
              "      <td>Cabins,Resorts &amp; Vacation Cottages,Wedding Cha...</td>\n",
              "      <td>Gatlinburg</td>\n",
              "      <td>US</td>\n",
              "      <td>35.754868</td>\n",
              "      <td>-83.457295</td>\n",
              "      <td>Elk Springs Resort</td>\n",
              "      <td>37738</td>\n",
              "      <td>TN</td>\n",
              "      <td>2012-03-12T00:00:00Z</td>\n",
              "      <td>2016-06-23T16:50:58Z</td>\n",
              "      <td>NaN</td>\n",
              "      <td>NaN</td>\n",
              "      <td>5.0</td>\n",
              "      <td>Amazing Vacation in Beautiful Cabin We stayed ...</td>\n",
              "      <td>Amazing time (both times!!)</td>\n",
              "      <td>Charlotte</td>\n",
              "      <td>Heather D.</td>\n",
              "      <td>NC</td>\n",
              "    </tr>\n",
              "    <tr>\n",
              "      <th>35909</th>\n",
              "      <td>1088 Powdermill Rd</td>\n",
              "      <td>Cabins,Resorts &amp; Vacation Cottages,Wedding Cha...</td>\n",
              "      <td>Gatlinburg</td>\n",
              "      <td>US</td>\n",
              "      <td>35.754868</td>\n",
              "      <td>-83.457295</td>\n",
              "      <td>Elk Springs Resort</td>\n",
              "      <td>37738</td>\n",
              "      <td>TN</td>\n",
              "      <td>2015-11-03T00:00:00Z</td>\n",
              "      <td>2016-06-23T16:50:58Z</td>\n",
              "      <td>NaN</td>\n",
              "      <td>NaN</td>\n",
              "      <td>5.0</td>\n",
              "      <td>My husband and I stayed at Tree Tops which is ...</td>\n",
              "      <td>Amazing time (both times!!)</td>\n",
              "      <td>Charlotte</td>\n",
              "      <td>Carol W.</td>\n",
              "      <td>NC</td>\n",
              "    </tr>\n",
              "    <tr>\n",
              "      <th>35910</th>\n",
              "      <td>3747 29th St S E</td>\n",
              "      <td>Hotels-Apartment,Corporate Lodging,Hotels,Lodging</td>\n",
              "      <td>Grand Rapids</td>\n",
              "      <td>US</td>\n",
              "      <td>42.909480</td>\n",
              "      <td>-85.573590</td>\n",
              "      <td>Extended Stay America Grand Rapids - Kentwood</td>\n",
              "      <td>49512</td>\n",
              "      <td>MI</td>\n",
              "      <td>NaN</td>\n",
              "      <td>2015-12-01T19:40:54Z</td>\n",
              "      <td>NaN</td>\n",
              "      <td>NaN</td>\n",
              "      <td>0.0</td>\n",
              "      <td>to share your opinion of this businesswith YP ...</td>\n",
              "      <td>NaN</td>\n",
              "      <td>NaN</td>\n",
              "      <td>write a review</td>\n",
              "      <td>NaN</td>\n",
              "    </tr>\n",
              "    <tr>\n",
              "      <th>35911</th>\n",
              "      <td>3747 29th St S E</td>\n",
              "      <td>Hotels-Apartment,Corporate Lodging,Hotels,Lodging</td>\n",
              "      <td>Grand Rapids</td>\n",
              "      <td>US</td>\n",
              "      <td>42.909480</td>\n",
              "      <td>-85.573590</td>\n",
              "      <td>Extended Stay America Grand Rapids - Kentwood</td>\n",
              "      <td>49512</td>\n",
              "      <td>MI</td>\n",
              "      <td>NaN</td>\n",
              "      <td>2015-12-01T19:40:54Z</td>\n",
              "      <td>NaN</td>\n",
              "      <td>NaN</td>\n",
              "      <td>0.0</td>\n",
              "      <td>xxxxxxxxxxxxxxxxxxxxxxxxxxxxxxxxxxxxxxxxxx</td>\n",
              "      <td>NaN</td>\n",
              "      <td>NaN</td>\n",
              "      <td>xxxxxxxxxxxxxx</td>\n",
              "      <td>NaN</td>\n",
              "    </tr>\n",
              "  </tbody>\n",
              "</table>\n",
              "<p>35912 rows × 19 columns</p>\n",
              "</div>"
            ],
            "text/plain": [
              "                      address  ... reviews_userProvince\n",
              "0      Riviera San Nicol 11/a  ...                  NaN\n",
              "1      Riviera San Nicol 11/a  ...                  NaN\n",
              "2      Riviera San Nicol 11/a  ...                  NaN\n",
              "3      Riviera San Nicol 11/a  ...                  NaN\n",
              "4      Riviera San Nicol 11/a  ...                  NaN\n",
              "...                       ...  ...                  ...\n",
              "35907      1088 Powdermill Rd  ...                   NC\n",
              "35908      1088 Powdermill Rd  ...                   NC\n",
              "35909      1088 Powdermill Rd  ...                   NC\n",
              "35910        3747 29th St S E  ...                  NaN\n",
              "35911        3747 29th St S E  ...                  NaN\n",
              "\n",
              "[35912 rows x 19 columns]"
            ]
          },
          "metadata": {
            "tags": []
          },
          "execution_count": 9
        }
      ]
    },
    {
      "cell_type": "code",
      "metadata": {
        "colab": {
          "base_uri": "https://localhost:8080/",
          "height": 467
        },
        "id": "fUGyVpqLftK7",
        "outputId": "54ab3290-12ce-4f8e-9a84-f2fda9f19d68"
      },
      "source": [
        "#Show 5 sample data\n",
        "corpus.sample(5)"
      ],
      "execution_count": 10,
      "outputs": [
        {
          "output_type": "execute_result",
          "data": {
            "text/html": [
              "<div>\n",
              "<style scoped>\n",
              "    .dataframe tbody tr th:only-of-type {\n",
              "        vertical-align: middle;\n",
              "    }\n",
              "\n",
              "    .dataframe tbody tr th {\n",
              "        vertical-align: top;\n",
              "    }\n",
              "\n",
              "    .dataframe thead th {\n",
              "        text-align: right;\n",
              "    }\n",
              "</style>\n",
              "<table border=\"1\" class=\"dataframe\">\n",
              "  <thead>\n",
              "    <tr style=\"text-align: right;\">\n",
              "      <th></th>\n",
              "      <th>address</th>\n",
              "      <th>categories</th>\n",
              "      <th>city</th>\n",
              "      <th>country</th>\n",
              "      <th>latitude</th>\n",
              "      <th>longitude</th>\n",
              "      <th>name</th>\n",
              "      <th>postalCode</th>\n",
              "      <th>province</th>\n",
              "      <th>reviews_date</th>\n",
              "      <th>reviews_dateAdded</th>\n",
              "      <th>reviews_doRecommend</th>\n",
              "      <th>reviews_id</th>\n",
              "      <th>reviews_rating</th>\n",
              "      <th>reviews_text</th>\n",
              "      <th>reviews_title</th>\n",
              "      <th>reviews_userCity</th>\n",
              "      <th>reviews_username</th>\n",
              "      <th>reviews_userProvince</th>\n",
              "    </tr>\n",
              "  </thead>\n",
              "  <tbody>\n",
              "    <tr>\n",
              "      <th>11107</th>\n",
              "      <td>301 Reserve Ave</td>\n",
              "      <td>Luxury Hotels,Restaurants,Hotels &amp; Motels,Lodg...</td>\n",
              "      <td>Roanoke</td>\n",
              "      <td>US</td>\n",
              "      <td>37.256149</td>\n",
              "      <td>-79.947005</td>\n",
              "      <td>Cambria Hotel &amp; Suites</td>\n",
              "      <td>24016</td>\n",
              "      <td>VA</td>\n",
              "      <td>2015-10-26T00:00:00Z</td>\n",
              "      <td>2016-10-13T13:22:03Z</td>\n",
              "      <td>NaN</td>\n",
              "      <td>NaN</td>\n",
              "      <td>5.0</td>\n",
              "      <td>This upscale Choice property was perfect for o...</td>\n",
              "      <td>Base for Roanoke visit</td>\n",
              "      <td>Tucson</td>\n",
              "      <td>Paul G</td>\n",
              "      <td>AZ</td>\n",
              "    </tr>\n",
              "    <tr>\n",
              "      <th>29089</th>\n",
              "      <td>355 Santana Row</td>\n",
              "      <td>Hotels,Hotel, Bar, and Hotel Bar</td>\n",
              "      <td>San Jose</td>\n",
              "      <td>US</td>\n",
              "      <td>37.320980</td>\n",
              "      <td>-121.947900</td>\n",
              "      <td>Hotel Valencia Santana Row</td>\n",
              "      <td>95128</td>\n",
              "      <td>CA</td>\n",
              "      <td>2015-12-26T00:00:00Z</td>\n",
              "      <td>2016-11-17T15:13:00Z</td>\n",
              "      <td>NaN</td>\n",
              "      <td>NaN</td>\n",
              "      <td>3.0</td>\n",
              "      <td>I've stayed two nights for a business trip at ...</td>\n",
              "      <td>Good location, large rooms, but old bathroom</td>\n",
              "      <td>The Netherlands</td>\n",
              "      <td>Joris L</td>\n",
              "      <td>MI</td>\n",
              "    </tr>\n",
              "    <tr>\n",
              "      <th>15961</th>\n",
              "      <td>2120 Claude Bailey Pkwy</td>\n",
              "      <td>Travel &amp; Transport,Hotels &amp; Motels</td>\n",
              "      <td>Princeton</td>\n",
              "      <td>US</td>\n",
              "      <td>41.368016</td>\n",
              "      <td>-89.456966</td>\n",
              "      <td>Americinn Lodge Suites Princeton</td>\n",
              "      <td>61356</td>\n",
              "      <td>IL</td>\n",
              "      <td>2016-03-21T00:00:00Z</td>\n",
              "      <td>2017-01-08T18:34:34Z</td>\n",
              "      <td>NaN</td>\n",
              "      <td>NaN</td>\n",
              "      <td>1.0</td>\n",
              "      <td>From the warm greeting at check-in to the serv...</td>\n",
              "      <td>overall Very satisfied</td>\n",
              "      <td>Lewistown</td>\n",
              "      <td>Kenneth N</td>\n",
              "      <td>NaN</td>\n",
              "    </tr>\n",
              "    <tr>\n",
              "      <th>13555</th>\n",
              "      <td>19 Sombrero Blvd</td>\n",
              "      <td>Hotels</td>\n",
              "      <td>Marathon</td>\n",
              "      <td>US</td>\n",
              "      <td>24.711823</td>\n",
              "      <td>-81.080550</td>\n",
              "      <td>Sombrero Resort and Marina</td>\n",
              "      <td>33050</td>\n",
              "      <td>Grassy Key</td>\n",
              "      <td>2016-01-23T00:00:00Z</td>\n",
              "      <td>2016-11-05T19:13:20Z</td>\n",
              "      <td>NaN</td>\n",
              "      <td>NaN</td>\n",
              "      <td>2.0</td>\n",
              "      <td>Hotel is old. This might be section due to be ...</td>\n",
              "      <td>Avoid in current condition!</td>\n",
              "      <td>Boca Raton</td>\n",
              "      <td>H.Chris</td>\n",
              "      <td>FL</td>\n",
              "    </tr>\n",
              "    <tr>\n",
              "      <th>9008</th>\n",
              "      <td>2512 W Lincolnway</td>\n",
              "      <td>Hotels</td>\n",
              "      <td>Cheyenne</td>\n",
              "      <td>US</td>\n",
              "      <td>41.119150</td>\n",
              "      <td>-104.849490</td>\n",
              "      <td>Americas Best Value Inn</td>\n",
              "      <td>82001</td>\n",
              "      <td>WY</td>\n",
              "      <td>2016-07-24T00:00:00Z</td>\n",
              "      <td>2016-11-21T23:27:41Z</td>\n",
              "      <td>NaN</td>\n",
              "      <td>NaN</td>\n",
              "      <td>3.0</td>\n",
              "      <td>Not the nicest motel in the world, but it was ...</td>\n",
              "      <td>Good value for the money</td>\n",
              "      <td>NaN</td>\n",
              "      <td>A Traveler</td>\n",
              "      <td>NaN</td>\n",
              "    </tr>\n",
              "  </tbody>\n",
              "</table>\n",
              "</div>"
            ],
            "text/plain": [
              "                       address  ... reviews_userProvince\n",
              "11107          301 Reserve Ave  ...                   AZ\n",
              "29089          355 Santana Row  ...                   MI\n",
              "15961  2120 Claude Bailey Pkwy  ...                  NaN\n",
              "13555         19 Sombrero Blvd  ...                   FL\n",
              "9008         2512 W Lincolnway  ...                  NaN\n",
              "\n",
              "[5 rows x 19 columns]"
            ]
          },
          "metadata": {
            "tags": []
          },
          "execution_count": 10
        }
      ]
    },
    {
      "cell_type": "code",
      "metadata": {
        "colab": {
          "base_uri": "https://localhost:8080/"
        },
        "id": "iJNSiz_6c3JR",
        "outputId": "56bf6996-125b-4126-cf43-f79c602cc4a8"
      },
      "source": [
        "corpus.info()"
      ],
      "execution_count": 11,
      "outputs": [
        {
          "output_type": "stream",
          "text": [
            "<class 'pandas.core.frame.DataFrame'>\n",
            "RangeIndex: 35912 entries, 0 to 35911\n",
            "Data columns (total 19 columns):\n",
            " #   Column                Non-Null Count  Dtype  \n",
            "---  ------                --------------  -----  \n",
            " 0   address               35912 non-null  object \n",
            " 1   categories            35912 non-null  object \n",
            " 2   city                  35912 non-null  object \n",
            " 3   country               35912 non-null  object \n",
            " 4   latitude              35826 non-null  float64\n",
            " 5   longitude             35826 non-null  float64\n",
            " 6   name                  35912 non-null  object \n",
            " 7   postalCode            35857 non-null  object \n",
            " 8   province              35912 non-null  object \n",
            " 9   reviews_date          35653 non-null  object \n",
            " 10  reviews_dateAdded     35912 non-null  object \n",
            " 11  reviews_doRecommend   0 non-null      float64\n",
            " 12  reviews_id            0 non-null      float64\n",
            " 13  reviews_rating        35050 non-null  float64\n",
            " 14  reviews_text          35890 non-null  object \n",
            " 15  reviews_title         34290 non-null  object \n",
            " 16  reviews_userCity      16263 non-null  object \n",
            " 17  reviews_username      35869 non-null  object \n",
            " 18  reviews_userProvince  17518 non-null  object \n",
            "dtypes: float64(5), object(14)\n",
            "memory usage: 5.2+ MB\n"
          ],
          "name": "stdout"
        }
      ]
    },
    {
      "cell_type": "code",
      "metadata": {
        "colab": {
          "base_uri": "https://localhost:8080/",
          "height": 287
        },
        "id": "VbBvgXaNc-Fi",
        "outputId": "5e8e8685-8f29-43a5-916c-8651ea545daa"
      },
      "source": [
        "#display descriptive statistics\n",
        "corpus.describe()"
      ],
      "execution_count": 12,
      "outputs": [
        {
          "output_type": "execute_result",
          "data": {
            "text/html": [
              "<div>\n",
              "<style scoped>\n",
              "    .dataframe tbody tr th:only-of-type {\n",
              "        vertical-align: middle;\n",
              "    }\n",
              "\n",
              "    .dataframe tbody tr th {\n",
              "        vertical-align: top;\n",
              "    }\n",
              "\n",
              "    .dataframe thead th {\n",
              "        text-align: right;\n",
              "    }\n",
              "</style>\n",
              "<table border=\"1\" class=\"dataframe\">\n",
              "  <thead>\n",
              "    <tr style=\"text-align: right;\">\n",
              "      <th></th>\n",
              "      <th>latitude</th>\n",
              "      <th>longitude</th>\n",
              "      <th>reviews_doRecommend</th>\n",
              "      <th>reviews_id</th>\n",
              "      <th>reviews_rating</th>\n",
              "    </tr>\n",
              "  </thead>\n",
              "  <tbody>\n",
              "    <tr>\n",
              "      <th>count</th>\n",
              "      <td>35826.000000</td>\n",
              "      <td>35826.000000</td>\n",
              "      <td>0.0</td>\n",
              "      <td>0.0</td>\n",
              "      <td>35050.000000</td>\n",
              "    </tr>\n",
              "    <tr>\n",
              "      <th>mean</th>\n",
              "      <td>37.285008</td>\n",
              "      <td>-85.725758</td>\n",
              "      <td>NaN</td>\n",
              "      <td>NaN</td>\n",
              "      <td>3.776431</td>\n",
              "    </tr>\n",
              "    <tr>\n",
              "      <th>std</th>\n",
              "      <td>6.996544</td>\n",
              "      <td>33.062263</td>\n",
              "      <td>NaN</td>\n",
              "      <td>NaN</td>\n",
              "      <td>1.416195</td>\n",
              "    </tr>\n",
              "    <tr>\n",
              "      <th>min</th>\n",
              "      <td>-25.436750</td>\n",
              "      <td>-166.559040</td>\n",
              "      <td>NaN</td>\n",
              "      <td>NaN</td>\n",
              "      <td>0.000000</td>\n",
              "    </tr>\n",
              "    <tr>\n",
              "      <th>25%</th>\n",
              "      <td>33.827340</td>\n",
              "      <td>-104.868200</td>\n",
              "      <td>NaN</td>\n",
              "      <td>NaN</td>\n",
              "      <td>3.000000</td>\n",
              "    </tr>\n",
              "    <tr>\n",
              "      <th>50%</th>\n",
              "      <td>37.936026</td>\n",
              "      <td>-86.822972</td>\n",
              "      <td>NaN</td>\n",
              "      <td>NaN</td>\n",
              "      <td>4.000000</td>\n",
              "    </tr>\n",
              "    <tr>\n",
              "      <th>75%</th>\n",
              "      <td>41.672491</td>\n",
              "      <td>-77.044550</td>\n",
              "      <td>NaN</td>\n",
              "      <td>NaN</td>\n",
              "      <td>5.000000</td>\n",
              "    </tr>\n",
              "    <tr>\n",
              "      <th>max</th>\n",
              "      <td>63.877674</td>\n",
              "      <td>115.164407</td>\n",
              "      <td>NaN</td>\n",
              "      <td>NaN</td>\n",
              "      <td>10.000000</td>\n",
              "    </tr>\n",
              "  </tbody>\n",
              "</table>\n",
              "</div>"
            ],
            "text/plain": [
              "           latitude     longitude  ...  reviews_id  reviews_rating\n",
              "count  35826.000000  35826.000000  ...         0.0    35050.000000\n",
              "mean      37.285008    -85.725758  ...         NaN        3.776431\n",
              "std        6.996544     33.062263  ...         NaN        1.416195\n",
              "min      -25.436750   -166.559040  ...         NaN        0.000000\n",
              "25%       33.827340   -104.868200  ...         NaN        3.000000\n",
              "50%       37.936026    -86.822972  ...         NaN        4.000000\n",
              "75%       41.672491    -77.044550  ...         NaN        5.000000\n",
              "max       63.877674    115.164407  ...         NaN       10.000000\n",
              "\n",
              "[8 rows x 5 columns]"
            ]
          },
          "metadata": {
            "tags": []
          },
          "execution_count": 12
        }
      ]
    },
    {
      "cell_type": "code",
      "metadata": {
        "colab": {
          "base_uri": "https://localhost:8080/"
        },
        "id": "Mri3IEHw_4yn",
        "outputId": "9056c8e4-5e6c-4c2d-9ebc-9983543c336c"
      },
      "source": [
        "print('Mean of hotel reviews: ', round(corpus['reviews_rating'].mean()))"
      ],
      "execution_count": 13,
      "outputs": [
        {
          "output_type": "stream",
          "text": [
            "Mean of hotel reviews:  4\n"
          ],
          "name": "stdout"
        }
      ]
    },
    {
      "cell_type": "markdown",
      "metadata": {
        "id": "4AbFwCtpdHyv"
      },
      "source": [
        "#Exploratory Data Analysis"
      ]
    },
    {
      "cell_type": "markdown",
      "metadata": {
        "id": "9d28gg6UY_DA"
      },
      "source": [
        "Column Handling"
      ]
    },
    {
      "cell_type": "code",
      "metadata": {
        "colab": {
          "base_uri": "https://localhost:8080/"
        },
        "id": "nfAZ1rrNE-ZJ",
        "outputId": "9d53245d-3aba-4a4d-ba64-fd08f3a81a7e"
      },
      "source": [
        "#Check for missing values in the dataset\n",
        "corpus.isnull().sum(axis=0)"
      ],
      "execution_count": 14,
      "outputs": [
        {
          "output_type": "execute_result",
          "data": {
            "text/plain": [
              "address                     0\n",
              "categories                  0\n",
              "city                        0\n",
              "country                     0\n",
              "latitude                   86\n",
              "longitude                  86\n",
              "name                        0\n",
              "postalCode                 55\n",
              "province                    0\n",
              "reviews_date              259\n",
              "reviews_dateAdded           0\n",
              "reviews_doRecommend     35912\n",
              "reviews_id              35912\n",
              "reviews_rating            862\n",
              "reviews_text               22\n",
              "reviews_title            1622\n",
              "reviews_userCity        19649\n",
              "reviews_username           43\n",
              "reviews_userProvince    18394\n",
              "dtype: int64"
            ]
          },
          "metadata": {
            "tags": []
          },
          "execution_count": 14
        }
      ]
    },
    {
      "cell_type": "code",
      "metadata": {
        "colab": {
          "base_uri": "https://localhost:8080/",
          "height": 184
        },
        "id": "7S6fDuxXdGoN",
        "outputId": "50ed2d08-3744-4225-f844-0d13876a5ec7"
      },
      "source": [
        "#Checking Missing value in the dataset and printing the percentage for missing value for each column\n",
        "count = corpus.isnull().sum().sort_values(ascending=False)\n",
        "percentage = (corpus.isnull().sum()/corpus.isnull().count()).sort_values(ascending=False)\n",
        "missing_data = pd.concat([count, percentage], axis=1,\n",
        "keys=['Count', 'Percentage'])\n",
        "\n",
        "print('Count and percentage of missing value for the columns:')\n",
        "missing_data['Percentage']=missing_data['Percentage'].apply(lambda x: x*100)\n",
        "missing_data.loc[missing_data['Percentage'] > 10][:10]\n"
      ],
      "execution_count": 15,
      "outputs": [
        {
          "output_type": "stream",
          "text": [
            "Count and percentage of missing value for the columns:\n"
          ],
          "name": "stdout"
        },
        {
          "output_type": "execute_result",
          "data": {
            "text/html": [
              "<div>\n",
              "<style scoped>\n",
              "    .dataframe tbody tr th:only-of-type {\n",
              "        vertical-align: middle;\n",
              "    }\n",
              "\n",
              "    .dataframe tbody tr th {\n",
              "        vertical-align: top;\n",
              "    }\n",
              "\n",
              "    .dataframe thead th {\n",
              "        text-align: right;\n",
              "    }\n",
              "</style>\n",
              "<table border=\"1\" class=\"dataframe\">\n",
              "  <thead>\n",
              "    <tr style=\"text-align: right;\">\n",
              "      <th></th>\n",
              "      <th>Count</th>\n",
              "      <th>Percentage</th>\n",
              "    </tr>\n",
              "  </thead>\n",
              "  <tbody>\n",
              "    <tr>\n",
              "      <th>reviews_id</th>\n",
              "      <td>35912</td>\n",
              "      <td>100.000000</td>\n",
              "    </tr>\n",
              "    <tr>\n",
              "      <th>reviews_doRecommend</th>\n",
              "      <td>35912</td>\n",
              "      <td>100.000000</td>\n",
              "    </tr>\n",
              "    <tr>\n",
              "      <th>reviews_userCity</th>\n",
              "      <td>19649</td>\n",
              "      <td>54.714302</td>\n",
              "    </tr>\n",
              "    <tr>\n",
              "      <th>reviews_userProvince</th>\n",
              "      <td>18394</td>\n",
              "      <td>51.219648</td>\n",
              "    </tr>\n",
              "  </tbody>\n",
              "</table>\n",
              "</div>"
            ],
            "text/plain": [
              "                      Count  Percentage\n",
              "reviews_id            35912  100.000000\n",
              "reviews_doRecommend   35912  100.000000\n",
              "reviews_userCity      19649   54.714302\n",
              "reviews_userProvince  18394   51.219648"
            ]
          },
          "metadata": {
            "tags": []
          },
          "execution_count": 15
        }
      ]
    },
    {
      "cell_type": "code",
      "metadata": {
        "colab": {
          "base_uri": "https://localhost:8080/"
        },
        "id": "nlK2PleBWIlm",
        "outputId": "eb9206f2-e832-45ea-ac52-28c2aa71e14f"
      },
      "source": [
        "for i in range(0,len(corpus)-1):\n",
        "    if type(corpus.iloc[i]['reviews_text']) != str:\n",
        "        corpus.iloc[i]['reviews_text'] = str(corpus.iloc[i]['reviews_text'])"
      ],
      "execution_count": 16,
      "outputs": [
        {
          "output_type": "stream",
          "text": [
            "/usr/local/lib/python3.6/dist-packages/ipykernel_launcher.py:3: SettingWithCopyWarning: \n",
            "A value is trying to be set on a copy of a slice from a DataFrame\n",
            "\n",
            "See the caveats in the documentation: https://pandas.pydata.org/pandas-docs/stable/user_guide/indexing.html#returning-a-view-versus-a-copy\n",
            "  This is separate from the ipykernel package so we can avoid doing imports until\n"
          ],
          "name": "stderr"
        }
      ]
    },
    {
      "cell_type": "code",
      "metadata": {
        "colab": {
          "base_uri": "https://localhost:8080/",
          "height": 467
        },
        "id": "riOocqvsY5q6",
        "outputId": "050aef8c-06d5-4639-9437-4a726eb4b110"
      },
      "source": [
        "corpus = corpus[corpus['reviews_rating'] != 3]\n",
        "corpus.head()"
      ],
      "execution_count": 17,
      "outputs": [
        {
          "output_type": "execute_result",
          "data": {
            "text/html": [
              "<div>\n",
              "<style scoped>\n",
              "    .dataframe tbody tr th:only-of-type {\n",
              "        vertical-align: middle;\n",
              "    }\n",
              "\n",
              "    .dataframe tbody tr th {\n",
              "        vertical-align: top;\n",
              "    }\n",
              "\n",
              "    .dataframe thead th {\n",
              "        text-align: right;\n",
              "    }\n",
              "</style>\n",
              "<table border=\"1\" class=\"dataframe\">\n",
              "  <thead>\n",
              "    <tr style=\"text-align: right;\">\n",
              "      <th></th>\n",
              "      <th>address</th>\n",
              "      <th>categories</th>\n",
              "      <th>city</th>\n",
              "      <th>country</th>\n",
              "      <th>latitude</th>\n",
              "      <th>longitude</th>\n",
              "      <th>name</th>\n",
              "      <th>postalCode</th>\n",
              "      <th>province</th>\n",
              "      <th>reviews_date</th>\n",
              "      <th>reviews_dateAdded</th>\n",
              "      <th>reviews_doRecommend</th>\n",
              "      <th>reviews_id</th>\n",
              "      <th>reviews_rating</th>\n",
              "      <th>reviews_text</th>\n",
              "      <th>reviews_title</th>\n",
              "      <th>reviews_userCity</th>\n",
              "      <th>reviews_username</th>\n",
              "      <th>reviews_userProvince</th>\n",
              "    </tr>\n",
              "  </thead>\n",
              "  <tbody>\n",
              "    <tr>\n",
              "      <th>0</th>\n",
              "      <td>Riviera San Nicol 11/a</td>\n",
              "      <td>Hotels</td>\n",
              "      <td>Mableton</td>\n",
              "      <td>US</td>\n",
              "      <td>45.421611</td>\n",
              "      <td>12.376187</td>\n",
              "      <td>Hotel Russo Palace</td>\n",
              "      <td>30126</td>\n",
              "      <td>GA</td>\n",
              "      <td>2013-09-22T00:00:00Z</td>\n",
              "      <td>2016-10-24T00:00:25Z</td>\n",
              "      <td>NaN</td>\n",
              "      <td>NaN</td>\n",
              "      <td>4.0</td>\n",
              "      <td>Pleasant 10 min walk along the sea front to th...</td>\n",
              "      <td>Good location away from the crouds</td>\n",
              "      <td>NaN</td>\n",
              "      <td>Russ (kent)</td>\n",
              "      <td>NaN</td>\n",
              "    </tr>\n",
              "    <tr>\n",
              "      <th>1</th>\n",
              "      <td>Riviera San Nicol 11/a</td>\n",
              "      <td>Hotels</td>\n",
              "      <td>Mableton</td>\n",
              "      <td>US</td>\n",
              "      <td>45.421611</td>\n",
              "      <td>12.376187</td>\n",
              "      <td>Hotel Russo Palace</td>\n",
              "      <td>30126</td>\n",
              "      <td>GA</td>\n",
              "      <td>2015-04-03T00:00:00Z</td>\n",
              "      <td>2016-10-24T00:00:25Z</td>\n",
              "      <td>NaN</td>\n",
              "      <td>NaN</td>\n",
              "      <td>5.0</td>\n",
              "      <td>Really lovely hotel. Stayed on the very top fl...</td>\n",
              "      <td>Great hotel with Jacuzzi bath!</td>\n",
              "      <td>NaN</td>\n",
              "      <td>A Traveler</td>\n",
              "      <td>NaN</td>\n",
              "    </tr>\n",
              "    <tr>\n",
              "      <th>2</th>\n",
              "      <td>Riviera San Nicol 11/a</td>\n",
              "      <td>Hotels</td>\n",
              "      <td>Mableton</td>\n",
              "      <td>US</td>\n",
              "      <td>45.421611</td>\n",
              "      <td>12.376187</td>\n",
              "      <td>Hotel Russo Palace</td>\n",
              "      <td>30126</td>\n",
              "      <td>GA</td>\n",
              "      <td>2014-05-13T00:00:00Z</td>\n",
              "      <td>2016-10-24T00:00:25Z</td>\n",
              "      <td>NaN</td>\n",
              "      <td>NaN</td>\n",
              "      <td>5.0</td>\n",
              "      <td>Ett mycket bra hotell. Det som drog ner betyge...</td>\n",
              "      <td>Lugnt l��ge</td>\n",
              "      <td>NaN</td>\n",
              "      <td>Maud</td>\n",
              "      <td>NaN</td>\n",
              "    </tr>\n",
              "    <tr>\n",
              "      <th>3</th>\n",
              "      <td>Riviera San Nicol 11/a</td>\n",
              "      <td>Hotels</td>\n",
              "      <td>Mableton</td>\n",
              "      <td>US</td>\n",
              "      <td>45.421611</td>\n",
              "      <td>12.376187</td>\n",
              "      <td>Hotel Russo Palace</td>\n",
              "      <td>30126</td>\n",
              "      <td>GA</td>\n",
              "      <td>2013-10-27T00:00:00Z</td>\n",
              "      <td>2016-10-24T00:00:25Z</td>\n",
              "      <td>NaN</td>\n",
              "      <td>NaN</td>\n",
              "      <td>5.0</td>\n",
              "      <td>We stayed here for four nights in October. The...</td>\n",
              "      <td>Good location on the Lido.</td>\n",
              "      <td>NaN</td>\n",
              "      <td>Julie</td>\n",
              "      <td>NaN</td>\n",
              "    </tr>\n",
              "    <tr>\n",
              "      <th>4</th>\n",
              "      <td>Riviera San Nicol 11/a</td>\n",
              "      <td>Hotels</td>\n",
              "      <td>Mableton</td>\n",
              "      <td>US</td>\n",
              "      <td>45.421611</td>\n",
              "      <td>12.376187</td>\n",
              "      <td>Hotel Russo Palace</td>\n",
              "      <td>30126</td>\n",
              "      <td>GA</td>\n",
              "      <td>2015-03-05T00:00:00Z</td>\n",
              "      <td>2016-10-24T00:00:25Z</td>\n",
              "      <td>NaN</td>\n",
              "      <td>NaN</td>\n",
              "      <td>5.0</td>\n",
              "      <td>We stayed here for four nights in October. The...</td>\n",
              "      <td>������ ���������������</td>\n",
              "      <td>NaN</td>\n",
              "      <td>sungchul</td>\n",
              "      <td>NaN</td>\n",
              "    </tr>\n",
              "  </tbody>\n",
              "</table>\n",
              "</div>"
            ],
            "text/plain": [
              "                  address categories  ... reviews_username reviews_userProvince\n",
              "0  Riviera San Nicol 11/a     Hotels  ...      Russ (kent)                  NaN\n",
              "1  Riviera San Nicol 11/a     Hotels  ...       A Traveler                  NaN\n",
              "2  Riviera San Nicol 11/a     Hotels  ...             Maud                  NaN\n",
              "3  Riviera San Nicol 11/a     Hotels  ...            Julie                  NaN\n",
              "4  Riviera San Nicol 11/a     Hotels  ...         sungchul                  NaN\n",
              "\n",
              "[5 rows x 19 columns]"
            ]
          },
          "metadata": {
            "tags": []
          },
          "execution_count": 17
        }
      ]
    },
    {
      "cell_type": "code",
      "metadata": {
        "colab": {
          "base_uri": "https://localhost:8080/",
          "height": 567
        },
        "id": "cD7BNiWrZQBy",
        "outputId": "e7f12953-b9d3-4aeb-fef0-c5b8b407911c"
      },
      "source": [
        "#labeling data\n",
        "def sentiment(n):\n",
        "    return 'positive' if n >= 4 else 'negative'\n",
        "corpus['response'] = corpus['reviews_rating'].apply(sentiment)\n",
        "corpus.head()"
      ],
      "execution_count": 18,
      "outputs": [
        {
          "output_type": "stream",
          "text": [
            "/usr/local/lib/python3.6/dist-packages/ipykernel_launcher.py:4: SettingWithCopyWarning: \n",
            "A value is trying to be set on a copy of a slice from a DataFrame.\n",
            "Try using .loc[row_indexer,col_indexer] = value instead\n",
            "\n",
            "See the caveats in the documentation: https://pandas.pydata.org/pandas-docs/stable/user_guide/indexing.html#returning-a-view-versus-a-copy\n",
            "  after removing the cwd from sys.path.\n"
          ],
          "name": "stderr"
        },
        {
          "output_type": "execute_result",
          "data": {
            "text/html": [
              "<div>\n",
              "<style scoped>\n",
              "    .dataframe tbody tr th:only-of-type {\n",
              "        vertical-align: middle;\n",
              "    }\n",
              "\n",
              "    .dataframe tbody tr th {\n",
              "        vertical-align: top;\n",
              "    }\n",
              "\n",
              "    .dataframe thead th {\n",
              "        text-align: right;\n",
              "    }\n",
              "</style>\n",
              "<table border=\"1\" class=\"dataframe\">\n",
              "  <thead>\n",
              "    <tr style=\"text-align: right;\">\n",
              "      <th></th>\n",
              "      <th>address</th>\n",
              "      <th>categories</th>\n",
              "      <th>city</th>\n",
              "      <th>country</th>\n",
              "      <th>latitude</th>\n",
              "      <th>longitude</th>\n",
              "      <th>name</th>\n",
              "      <th>postalCode</th>\n",
              "      <th>province</th>\n",
              "      <th>reviews_date</th>\n",
              "      <th>reviews_dateAdded</th>\n",
              "      <th>reviews_doRecommend</th>\n",
              "      <th>reviews_id</th>\n",
              "      <th>reviews_rating</th>\n",
              "      <th>reviews_text</th>\n",
              "      <th>reviews_title</th>\n",
              "      <th>reviews_userCity</th>\n",
              "      <th>reviews_username</th>\n",
              "      <th>reviews_userProvince</th>\n",
              "      <th>response</th>\n",
              "    </tr>\n",
              "  </thead>\n",
              "  <tbody>\n",
              "    <tr>\n",
              "      <th>0</th>\n",
              "      <td>Riviera San Nicol 11/a</td>\n",
              "      <td>Hotels</td>\n",
              "      <td>Mableton</td>\n",
              "      <td>US</td>\n",
              "      <td>45.421611</td>\n",
              "      <td>12.376187</td>\n",
              "      <td>Hotel Russo Palace</td>\n",
              "      <td>30126</td>\n",
              "      <td>GA</td>\n",
              "      <td>2013-09-22T00:00:00Z</td>\n",
              "      <td>2016-10-24T00:00:25Z</td>\n",
              "      <td>NaN</td>\n",
              "      <td>NaN</td>\n",
              "      <td>4.0</td>\n",
              "      <td>Pleasant 10 min walk along the sea front to th...</td>\n",
              "      <td>Good location away from the crouds</td>\n",
              "      <td>NaN</td>\n",
              "      <td>Russ (kent)</td>\n",
              "      <td>NaN</td>\n",
              "      <td>positive</td>\n",
              "    </tr>\n",
              "    <tr>\n",
              "      <th>1</th>\n",
              "      <td>Riviera San Nicol 11/a</td>\n",
              "      <td>Hotels</td>\n",
              "      <td>Mableton</td>\n",
              "      <td>US</td>\n",
              "      <td>45.421611</td>\n",
              "      <td>12.376187</td>\n",
              "      <td>Hotel Russo Palace</td>\n",
              "      <td>30126</td>\n",
              "      <td>GA</td>\n",
              "      <td>2015-04-03T00:00:00Z</td>\n",
              "      <td>2016-10-24T00:00:25Z</td>\n",
              "      <td>NaN</td>\n",
              "      <td>NaN</td>\n",
              "      <td>5.0</td>\n",
              "      <td>Really lovely hotel. Stayed on the very top fl...</td>\n",
              "      <td>Great hotel with Jacuzzi bath!</td>\n",
              "      <td>NaN</td>\n",
              "      <td>A Traveler</td>\n",
              "      <td>NaN</td>\n",
              "      <td>positive</td>\n",
              "    </tr>\n",
              "    <tr>\n",
              "      <th>2</th>\n",
              "      <td>Riviera San Nicol 11/a</td>\n",
              "      <td>Hotels</td>\n",
              "      <td>Mableton</td>\n",
              "      <td>US</td>\n",
              "      <td>45.421611</td>\n",
              "      <td>12.376187</td>\n",
              "      <td>Hotel Russo Palace</td>\n",
              "      <td>30126</td>\n",
              "      <td>GA</td>\n",
              "      <td>2014-05-13T00:00:00Z</td>\n",
              "      <td>2016-10-24T00:00:25Z</td>\n",
              "      <td>NaN</td>\n",
              "      <td>NaN</td>\n",
              "      <td>5.0</td>\n",
              "      <td>Ett mycket bra hotell. Det som drog ner betyge...</td>\n",
              "      <td>Lugnt l��ge</td>\n",
              "      <td>NaN</td>\n",
              "      <td>Maud</td>\n",
              "      <td>NaN</td>\n",
              "      <td>positive</td>\n",
              "    </tr>\n",
              "    <tr>\n",
              "      <th>3</th>\n",
              "      <td>Riviera San Nicol 11/a</td>\n",
              "      <td>Hotels</td>\n",
              "      <td>Mableton</td>\n",
              "      <td>US</td>\n",
              "      <td>45.421611</td>\n",
              "      <td>12.376187</td>\n",
              "      <td>Hotel Russo Palace</td>\n",
              "      <td>30126</td>\n",
              "      <td>GA</td>\n",
              "      <td>2013-10-27T00:00:00Z</td>\n",
              "      <td>2016-10-24T00:00:25Z</td>\n",
              "      <td>NaN</td>\n",
              "      <td>NaN</td>\n",
              "      <td>5.0</td>\n",
              "      <td>We stayed here for four nights in October. The...</td>\n",
              "      <td>Good location on the Lido.</td>\n",
              "      <td>NaN</td>\n",
              "      <td>Julie</td>\n",
              "      <td>NaN</td>\n",
              "      <td>positive</td>\n",
              "    </tr>\n",
              "    <tr>\n",
              "      <th>4</th>\n",
              "      <td>Riviera San Nicol 11/a</td>\n",
              "      <td>Hotels</td>\n",
              "      <td>Mableton</td>\n",
              "      <td>US</td>\n",
              "      <td>45.421611</td>\n",
              "      <td>12.376187</td>\n",
              "      <td>Hotel Russo Palace</td>\n",
              "      <td>30126</td>\n",
              "      <td>GA</td>\n",
              "      <td>2015-03-05T00:00:00Z</td>\n",
              "      <td>2016-10-24T00:00:25Z</td>\n",
              "      <td>NaN</td>\n",
              "      <td>NaN</td>\n",
              "      <td>5.0</td>\n",
              "      <td>We stayed here for four nights in October. The...</td>\n",
              "      <td>������ ���������������</td>\n",
              "      <td>NaN</td>\n",
              "      <td>sungchul</td>\n",
              "      <td>NaN</td>\n",
              "      <td>positive</td>\n",
              "    </tr>\n",
              "  </tbody>\n",
              "</table>\n",
              "</div>"
            ],
            "text/plain": [
              "                  address categories  ... reviews_userProvince  response\n",
              "0  Riviera San Nicol 11/a     Hotels  ...                  NaN  positive\n",
              "1  Riviera San Nicol 11/a     Hotels  ...                  NaN  positive\n",
              "2  Riviera San Nicol 11/a     Hotels  ...                  NaN  positive\n",
              "3  Riviera San Nicol 11/a     Hotels  ...                  NaN  positive\n",
              "4  Riviera San Nicol 11/a     Hotels  ...                  NaN  positive\n",
              "\n",
              "[5 rows x 20 columns]"
            ]
          },
          "metadata": {
            "tags": []
          },
          "execution_count": 18
        }
      ]
    },
    {
      "cell_type": "code",
      "metadata": {
        "colab": {
          "base_uri": "https://localhost:8080/",
          "height": 917
        },
        "id": "-8hgCyXwZof6",
        "outputId": "2905be34-1349-4a4d-e1f6-e62618ae1360"
      },
      "source": [
        "corpus.sample(10)"
      ],
      "execution_count": 19,
      "outputs": [
        {
          "output_type": "execute_result",
          "data": {
            "text/html": [
              "<div>\n",
              "<style scoped>\n",
              "    .dataframe tbody tr th:only-of-type {\n",
              "        vertical-align: middle;\n",
              "    }\n",
              "\n",
              "    .dataframe tbody tr th {\n",
              "        vertical-align: top;\n",
              "    }\n",
              "\n",
              "    .dataframe thead th {\n",
              "        text-align: right;\n",
              "    }\n",
              "</style>\n",
              "<table border=\"1\" class=\"dataframe\">\n",
              "  <thead>\n",
              "    <tr style=\"text-align: right;\">\n",
              "      <th></th>\n",
              "      <th>address</th>\n",
              "      <th>categories</th>\n",
              "      <th>city</th>\n",
              "      <th>country</th>\n",
              "      <th>latitude</th>\n",
              "      <th>longitude</th>\n",
              "      <th>name</th>\n",
              "      <th>postalCode</th>\n",
              "      <th>province</th>\n",
              "      <th>reviews_date</th>\n",
              "      <th>reviews_dateAdded</th>\n",
              "      <th>reviews_doRecommend</th>\n",
              "      <th>reviews_id</th>\n",
              "      <th>reviews_rating</th>\n",
              "      <th>reviews_text</th>\n",
              "      <th>reviews_title</th>\n",
              "      <th>reviews_userCity</th>\n",
              "      <th>reviews_username</th>\n",
              "      <th>reviews_userProvince</th>\n",
              "      <th>response</th>\n",
              "    </tr>\n",
              "  </thead>\n",
              "  <tbody>\n",
              "    <tr>\n",
              "      <th>25413</th>\n",
              "      <td>4420 Cleburne Blvd</td>\n",
              "      <td>Hotels</td>\n",
              "      <td>Dublin</td>\n",
              "      <td>US</td>\n",
              "      <td>37.072560</td>\n",
              "      <td>-80.696850</td>\n",
              "      <td>Hampton Inn Dublin</td>\n",
              "      <td>24084</td>\n",
              "      <td>VA</td>\n",
              "      <td>2013-03-25T00:00:00Z</td>\n",
              "      <td>2016-11-11T17:16:59Z</td>\n",
              "      <td>NaN</td>\n",
              "      <td>NaN</td>\n",
              "      <td>1.0</td>\n",
              "      <td>the gps is wrong... follow the sign when you f...</td>\n",
              "      <td>Great place is tyou enjoy smoking!</td>\n",
              "      <td>Harpers Ferry</td>\n",
              "      <td>Kyla Lacey</td>\n",
              "      <td>NY</td>\n",
              "      <td>negative</td>\n",
              "    </tr>\n",
              "    <tr>\n",
              "      <th>1568</th>\n",
              "      <td>442 Walker Bay Blvd</td>\n",
              "      <td>Hotels</td>\n",
              "      <td>Walker</td>\n",
              "      <td>US</td>\n",
              "      <td>47.091240</td>\n",
              "      <td>-94.571720</td>\n",
              "      <td>Country Inn Walker</td>\n",
              "      <td>56484</td>\n",
              "      <td>Onigum</td>\n",
              "      <td>2016-02-15T00:00:00Z</td>\n",
              "      <td>2016-11-06T18:29:10Z</td>\n",
              "      <td>NaN</td>\n",
              "      <td>NaN</td>\n",
              "      <td>4.0</td>\n",
              "      <td>Our room was on the highway side (non-lakeside...</td>\n",
              "      <td>Pleasantly Suprised</td>\n",
              "      <td>Minneapolis</td>\n",
              "      <td>797alissaj</td>\n",
              "      <td>MN</td>\n",
              "      <td>positive</td>\n",
              "    </tr>\n",
              "    <tr>\n",
              "      <th>22524</th>\n",
              "      <td>4260 Broadway</td>\n",
              "      <td>Family-Friendly Hotels,Hotels &amp; Motels,Budget ...</td>\n",
              "      <td>Eureka</td>\n",
              "      <td>US</td>\n",
              "      <td>40.767605</td>\n",
              "      <td>-124.191895</td>\n",
              "      <td>Comfort Inn Humboldt Bay</td>\n",
              "      <td>95503-5738</td>\n",
              "      <td>CA</td>\n",
              "      <td>2016-11-30T00:00:00Z</td>\n",
              "      <td>2017-04-15T13:53:49Z</td>\n",
              "      <td>NaN</td>\n",
              "      <td>NaN</td>\n",
              "      <td>NaN</td>\n",
              "      <td>This hotel is recently renovated and looks com...</td>\n",
              "      <td>Its own little oasis!</td>\n",
              "      <td>Glendale</td>\n",
              "      <td>Brandy C</td>\n",
              "      <td>AZ</td>\n",
              "      <td>negative</td>\n",
              "    </tr>\n",
              "    <tr>\n",
              "      <th>12977</th>\n",
              "      <td>101 Lakeway Dr</td>\n",
              "      <td>Hotels</td>\n",
              "      <td>Austin</td>\n",
              "      <td>US</td>\n",
              "      <td>30.373974</td>\n",
              "      <td>-97.986940</td>\n",
              "      <td>Lakeway Resort &amp; Spa</td>\n",
              "      <td>78734</td>\n",
              "      <td>Lakeway</td>\n",
              "      <td>2016-06-04T00:00:00Z</td>\n",
              "      <td>2016-10-30T18:52:22Z</td>\n",
              "      <td>NaN</td>\n",
              "      <td>NaN</td>\n",
              "      <td>4.0</td>\n",
              "      <td>Pillows are lumpy with stuffing stuck together...</td>\n",
              "      <td>Bad sleep</td>\n",
              "      <td>NaN</td>\n",
              "      <td>Kristin</td>\n",
              "      <td>NaN</td>\n",
              "      <td>positive</td>\n",
              "    </tr>\n",
              "    <tr>\n",
              "      <th>3185</th>\n",
              "      <td>2725 1st Ave</td>\n",
              "      <td>Hotels</td>\n",
              "      <td>Spearfish</td>\n",
              "      <td>US</td>\n",
              "      <td>44.480470</td>\n",
              "      <td>-103.813890</td>\n",
              "      <td>Quality Inn Spearfish</td>\n",
              "      <td>57783</td>\n",
              "      <td>SD</td>\n",
              "      <td>2015-09-26T00:00:00Z</td>\n",
              "      <td>2016-10-26T02:37:31Z</td>\n",
              "      <td>NaN</td>\n",
              "      <td>NaN</td>\n",
              "      <td>5.0</td>\n",
              "      <td>THIS WAS A STOP ON THE WAY HOME. STAY IN SPEAR...</td>\n",
              "      <td>A SPOT ON THE WAY HOME.</td>\n",
              "      <td>NaN</td>\n",
              "      <td>A Traveler</td>\n",
              "      <td>NaN</td>\n",
              "      <td>positive</td>\n",
              "    </tr>\n",
              "    <tr>\n",
              "      <th>12369</th>\n",
              "      <td>7070 Poe Ave</td>\n",
              "      <td>Hotels</td>\n",
              "      <td>Dayton</td>\n",
              "      <td>US</td>\n",
              "      <td>39.849845</td>\n",
              "      <td>-84.189419</td>\n",
              "      <td>Hawthorn Suites Dayton North</td>\n",
              "      <td>45414</td>\n",
              "      <td>OH</td>\n",
              "      <td>2015-06-24T00:00:00Z</td>\n",
              "      <td>2016-11-05T19:37:35Z</td>\n",
              "      <td>NaN</td>\n",
              "      <td>NaN</td>\n",
              "      <td>1.0</td>\n",
              "      <td>Very outdated room. Carpet was in very bad sha...</td>\n",
              "      <td>Very Rough Shape.</td>\n",
              "      <td>NaN</td>\n",
              "      <td>Michael</td>\n",
              "      <td>NaN</td>\n",
              "      <td>negative</td>\n",
              "    </tr>\n",
              "    <tr>\n",
              "      <th>31608</th>\n",
              "      <td>7500 N Point Pkwy</td>\n",
              "      <td>Hotels,Hotel</td>\n",
              "      <td>Alpharetta</td>\n",
              "      <td>US</td>\n",
              "      <td>34.041713</td>\n",
              "      <td>-84.303592</td>\n",
              "      <td>Hyatt Place Atlanta/alpharetta/north Point Mall</td>\n",
              "      <td>30022</td>\n",
              "      <td>GA</td>\n",
              "      <td>2012-06-26T00:00:00Z</td>\n",
              "      <td>2016-11-15T20:53:10Z</td>\n",
              "      <td>NaN</td>\n",
              "      <td>NaN</td>\n",
              "      <td>4.0</td>\n",
              "      <td>Life Fitness equipment... one bike, two treadm...</td>\n",
              "      <td>Clean and quite</td>\n",
              "      <td>NaN</td>\n",
              "      <td>Steve Owens</td>\n",
              "      <td>NaN</td>\n",
              "      <td>positive</td>\n",
              "    </tr>\n",
              "    <tr>\n",
              "      <th>34957</th>\n",
              "      <td>3024 Tv Rd</td>\n",
              "      <td>Hotels,Lodging,Motels</td>\n",
              "      <td>Florence</td>\n",
              "      <td>US</td>\n",
              "      <td>34.265740</td>\n",
              "      <td>-79.731340</td>\n",
              "      <td>Americas Best Value Inn</td>\n",
              "      <td>29501-0710</td>\n",
              "      <td>SC</td>\n",
              "      <td>2014-10-25T00:00:00Z</td>\n",
              "      <td>2016-10-27T18:06:48Z</td>\n",
              "      <td>NaN</td>\n",
              "      <td>NaN</td>\n",
              "      <td>1.0</td>\n",
              "      <td>The representative at Hotels.com said, This is...</td>\n",
              "      <td>Never Again!</td>\n",
              "      <td>Waterloo</td>\n",
              "      <td>Mrs. Lee</td>\n",
              "      <td>NY</td>\n",
              "      <td>negative</td>\n",
              "    </tr>\n",
              "    <tr>\n",
              "      <th>26210</th>\n",
              "      <td>4711 N Elizabeth</td>\n",
              "      <td>Hotels</td>\n",
              "      <td>Pueblo</td>\n",
              "      <td>US</td>\n",
              "      <td>38.321480</td>\n",
              "      <td>-104.618378</td>\n",
              "      <td>Wingate By Wyndham Pueblo</td>\n",
              "      <td>81008</td>\n",
              "      <td>CO</td>\n",
              "      <td>2016-06-14T00:00:00Z</td>\n",
              "      <td>2016-10-30T21:43:42Z</td>\n",
              "      <td>NaN</td>\n",
              "      <td>NaN</td>\n",
              "      <td>5.0</td>\n",
              "      <td>This hotel was very comfortable especially our...</td>\n",
              "      <td>Awesome Hotel</td>\n",
              "      <td>NaN</td>\n",
              "      <td>A Traveler</td>\n",
              "      <td>NaN</td>\n",
              "      <td>positive</td>\n",
              "    </tr>\n",
              "    <tr>\n",
              "      <th>26225</th>\n",
              "      <td>4711 N Elizabeth</td>\n",
              "      <td>Hotels</td>\n",
              "      <td>Pueblo</td>\n",
              "      <td>US</td>\n",
              "      <td>38.321480</td>\n",
              "      <td>-104.618378</td>\n",
              "      <td>Wingate By Wyndham Pueblo</td>\n",
              "      <td>81008</td>\n",
              "      <td>CO</td>\n",
              "      <td>2016-04-17T00:00:00Z</td>\n",
              "      <td>2016-10-30T21:43:42Z</td>\n",
              "      <td>NaN</td>\n",
              "      <td>NaN</td>\n",
              "      <td>5.0</td>\n",
              "      <td>Brandon at the front desk is wonderful. He was...</td>\n",
              "      <td>Bring your own pillow.</td>\n",
              "      <td>Aurora</td>\n",
              "      <td>A Traveler</td>\n",
              "      <td>CO</td>\n",
              "      <td>positive</td>\n",
              "    </tr>\n",
              "  </tbody>\n",
              "</table>\n",
              "</div>"
            ],
            "text/plain": [
              "                   address  ...  response\n",
              "25413   4420 Cleburne Blvd  ...  negative\n",
              "1568   442 Walker Bay Blvd  ...  positive\n",
              "22524        4260 Broadway  ...  negative\n",
              "12977       101 Lakeway Dr  ...  positive\n",
              "3185          2725 1st Ave  ...  positive\n",
              "12369         7070 Poe Ave  ...  negative\n",
              "31608    7500 N Point Pkwy  ...  positive\n",
              "34957           3024 Tv Rd  ...  negative\n",
              "26210     4711 N Elizabeth  ...  positive\n",
              "26225     4711 N Elizabeth  ...  positive\n",
              "\n",
              "[10 rows x 20 columns]"
            ]
          },
          "metadata": {
            "tags": []
          },
          "execution_count": 19
        }
      ]
    },
    {
      "cell_type": "code",
      "metadata": {
        "colab": {
          "base_uri": "https://localhost:8080/",
          "height": 407
        },
        "id": "sop8DHturmvK",
        "outputId": "77ab8ea3-48f8-4c2b-927c-6d896e484a27"
      },
      "source": [
        "corpus[['reviews_text','response']]"
      ],
      "execution_count": 20,
      "outputs": [
        {
          "output_type": "execute_result",
          "data": {
            "text/html": [
              "<div>\n",
              "<style scoped>\n",
              "    .dataframe tbody tr th:only-of-type {\n",
              "        vertical-align: middle;\n",
              "    }\n",
              "\n",
              "    .dataframe tbody tr th {\n",
              "        vertical-align: top;\n",
              "    }\n",
              "\n",
              "    .dataframe thead th {\n",
              "        text-align: right;\n",
              "    }\n",
              "</style>\n",
              "<table border=\"1\" class=\"dataframe\">\n",
              "  <thead>\n",
              "    <tr style=\"text-align: right;\">\n",
              "      <th></th>\n",
              "      <th>reviews_text</th>\n",
              "      <th>response</th>\n",
              "    </tr>\n",
              "  </thead>\n",
              "  <tbody>\n",
              "    <tr>\n",
              "      <th>0</th>\n",
              "      <td>Pleasant 10 min walk along the sea front to th...</td>\n",
              "      <td>positive</td>\n",
              "    </tr>\n",
              "    <tr>\n",
              "      <th>1</th>\n",
              "      <td>Really lovely hotel. Stayed on the very top fl...</td>\n",
              "      <td>positive</td>\n",
              "    </tr>\n",
              "    <tr>\n",
              "      <th>2</th>\n",
              "      <td>Ett mycket bra hotell. Det som drog ner betyge...</td>\n",
              "      <td>positive</td>\n",
              "    </tr>\n",
              "    <tr>\n",
              "      <th>3</th>\n",
              "      <td>We stayed here for four nights in October. The...</td>\n",
              "      <td>positive</td>\n",
              "    </tr>\n",
              "    <tr>\n",
              "      <th>4</th>\n",
              "      <td>We stayed here for four nights in October. The...</td>\n",
              "      <td>positive</td>\n",
              "    </tr>\n",
              "    <tr>\n",
              "      <th>...</th>\n",
              "      <td>...</td>\n",
              "      <td>...</td>\n",
              "    </tr>\n",
              "    <tr>\n",
              "      <th>35907</th>\n",
              "      <td>Best of the Best!!!! My family and I stayed in...</td>\n",
              "      <td>positive</td>\n",
              "    </tr>\n",
              "    <tr>\n",
              "      <th>35908</th>\n",
              "      <td>Amazing Vacation in Beautiful Cabin We stayed ...</td>\n",
              "      <td>positive</td>\n",
              "    </tr>\n",
              "    <tr>\n",
              "      <th>35909</th>\n",
              "      <td>My husband and I stayed at Tree Tops which is ...</td>\n",
              "      <td>positive</td>\n",
              "    </tr>\n",
              "    <tr>\n",
              "      <th>35910</th>\n",
              "      <td>to share your opinion of this businesswith YP ...</td>\n",
              "      <td>negative</td>\n",
              "    </tr>\n",
              "    <tr>\n",
              "      <th>35911</th>\n",
              "      <td>xxxxxxxxxxxxxxxxxxxxxxxxxxxxxxxxxxxxxxxxxx</td>\n",
              "      <td>negative</td>\n",
              "    </tr>\n",
              "  </tbody>\n",
              "</table>\n",
              "<p>30204 rows × 2 columns</p>\n",
              "</div>"
            ],
            "text/plain": [
              "                                            reviews_text  response\n",
              "0      Pleasant 10 min walk along the sea front to th...  positive\n",
              "1      Really lovely hotel. Stayed on the very top fl...  positive\n",
              "2      Ett mycket bra hotell. Det som drog ner betyge...  positive\n",
              "3      We stayed here for four nights in October. The...  positive\n",
              "4      We stayed here for four nights in October. The...  positive\n",
              "...                                                  ...       ...\n",
              "35907  Best of the Best!!!! My family and I stayed in...  positive\n",
              "35908  Amazing Vacation in Beautiful Cabin We stayed ...  positive\n",
              "35909  My husband and I stayed at Tree Tops which is ...  positive\n",
              "35910  to share your opinion of this businesswith YP ...  negative\n",
              "35911         xxxxxxxxxxxxxxxxxxxxxxxxxxxxxxxxxxxxxxxxxx  negative\n",
              "\n",
              "[30204 rows x 2 columns]"
            ]
          },
          "metadata": {
            "tags": []
          },
          "execution_count": 20
        }
      ]
    },
    {
      "cell_type": "code",
      "metadata": {
        "colab": {
          "base_uri": "https://localhost:8080/"
        },
        "id": "FqzCOXZtBiTQ",
        "outputId": "7c6204af-aef5-4841-8e70-ccb80480c870"
      },
      "source": [
        "review_positif = len([x for x in corpus['response'] if x == 'positive'])\n",
        "review_negatif = len([x for x in corpus['response'] if x == 'negative'])\n",
        "print('Positive Reviews : ',review_positif)\n",
        "print('Negative Reviews : ',review_negatif)"
      ],
      "execution_count": 21,
      "outputs": [
        {
          "output_type": "stream",
          "text": [
            "Positive Reviews :  22908\n",
            "Negative Reviews :  7296\n"
          ],
          "name": "stdout"
        }
      ]
    },
    {
      "cell_type": "code",
      "metadata": {
        "colab": {
          "base_uri": "https://localhost:8080/",
          "height": 622
        },
        "id": "XqlQ0QtGCr9S",
        "outputId": "0fa5779b-0118-41df-9e60-32225c26a8ce"
      },
      "source": [
        "#show the sentiment distribution\n",
        "f = sns.countplot(x='response', data=corpus)\n",
        "f.set_title(\"Sentiment Distribution\")\n",
        "f.set_xticklabels(['Positive', 'Negative'])\n",
        "plt.xlabel(\"\");"
      ],
      "execution_count": 22,
      "outputs": [
        {
          "output_type": "display_data",
          "data": {
            "image/png": "[encoded data removed]",
            "text/plain": [
              "<Figure size 720x720 with 1 Axes>"
            ]
          },
          "metadata": {
            "tags": []
          }
        }
      ]
    },
    {
      "cell_type": "markdown",
      "metadata": {
        "id": "5WSr2C75uGr7"
      },
      "source": [
        "Text Cleaning"
      ]
    },
    {
      "cell_type": "code",
      "metadata": {
        "id": "7lwfl4yHGmPE"
      },
      "source": [
        "#Regular Expression method to search for matching texts\n",
        "tokenizer = WordPunctTokenizer()\n",
        "review_handle = r'@[A-Za-z0-9_]+'                         # remove review handle (@username)\n",
        "url_handle = r'http[^ ]+'                                  # remove website URLs that start with 'https?://'\n",
        "combined_handle = r'|'.join((review_handle, url_handle))  # join\n",
        "www_handle = r'www.[^ ]+'                                  # remove website URLs that start with 'www.'\n",
        "punctuation_handle = r'\\W+'"
      ],
      "execution_count": 23,
      "outputs": []
    },
    {
      "cell_type": "code",
      "metadata": {
        "id": "EJ4ZZOP_padJ"
      },
      "source": [
        "#import text file of stop words, stop words are the most common words in a language that adds no semantics meaning to a sentence\n",
        "stopwords = set(pd.read_csv('/content/drive/MyDrive/PROYEK/Proyek PBA/stop-word-list.txt', sep='\\n', header=0).stopword)"
      ],
      "execution_count": 24,
      "outputs": []
    },
    {
      "cell_type": "code",
      "metadata": {
        "id": "aAEJ9GKSvOjD"
      },
      "source": [
        "#define a function called process_text to process the text using the methods listed\n",
        "# case folding\n",
        "# remove punctuation\n",
        "# stopword removal\n",
        "# remove review handle (@username)\n",
        "# remove website URLs that start with 'https?://'\n",
        "# remove website URLs that start with 'www.'\n",
        "# tokenization\n",
        "\n",
        "def process_text(text):\n",
        "    soup = BeautifulSoup(text, 'lxml')\n",
        "    souped = soup.get_text()\n",
        "\n",
        "    try:\n",
        "        text = souped.decode(\"utf-8-sig\").replace(u\"\\ufffd\", \"?\")\n",
        "    except:\n",
        "        text = souped\n",
        "\n",
        "    cleaned_text = re.sub(punctuation_handle, \" \",(re.sub(www_handle, '', re.sub(combined_handle, '', text)).lower()))\n",
        "    cleaned_text = ' '.join([word for word in cleaned_text.split() if word not in stopwords])\n",
        "\n",
        "    return (\" \".join([word for word in tokenizer.tokenize(cleaned_text) if len(word) > 1])).strip()"
      ],
      "execution_count": 25,
      "outputs": []
    },
    {
      "cell_type": "code",
      "metadata": {
        "colab": {
          "base_uri": "https://localhost:8080/",
          "height": 85
        },
        "id": "C7EbhHmiz1Ue",
        "outputId": "01c96954-60d4-47c1-a68b-9f3b99ccee69"
      },
      "source": [
        "#test the above text cleaning method\n",
        "example_text = \"Stayed with parents, wife twin toddlers in two triple rooms. The hotel is easy to reach and the rooms were well placed well furnished. The best feature was extremely friendly helpful staff, particularly Ms. Annalucia Ms. Anna who were always ready to listen help out with big smiles. The breakfasts were very good, with good spread and the guests were made welcome to sit and eat at leisure (more important when you are with toddlers!) Would surely go back to Venice would happily stay again at Russo Palace.\"\n",
        "\n",
        "process_text(example_text)"
      ],
      "execution_count": 26,
      "outputs": [
        {
          "output_type": "execute_result",
          "data": {
            "application/vnd.google.colaboratory.intrinsic+json": {
              "type": "string"
            },
            "text/plain": [
              "'stayed parents wife twin toddlers triple rooms hotel easy reach rooms placed furnished best feature extremely friendly helpful staff particularly ms annalucia ms anna ready listen help big smiles breakfasts good good spread guests welcome sit eat leisure important toddlers surely venice happily stay russo palace'"
            ]
          },
          "metadata": {
            "tags": []
          },
          "execution_count": 26
        }
      ]
    },
    {
      "cell_type": "code",
      "metadata": {
        "id": "P6HSbwMjLRl-"
      },
      "source": [
        "cleaned_text = []\n",
        "for text in corpus.reviews_text:\n",
        "  cleaned_text.append(process_text(text))\n",
        "  clean_text = pd.DataFrame({'clean_text' : cleaned_text})\n",
        "  corpus = pd.concat([corpus, clean_text], axis = 1)\n",
        "  corpus.sample(5)"
      ],
      "execution_count": null,
      "outputs": []
    },
    {
      "cell_type": "markdown",
      "metadata": {
        "id": "9nuAC5LxCFX9"
      },
      "source": [
        "#Splitting Train Data"
      ]
    },
    {
      "cell_type": "code",
      "metadata": {
        "id": "Y_QCw0XQNSa9"
      },
      "source": [
        "from sklearn.model_selection import train_test_split\n",
        "\n",
        "attribute = corpus.clean_text\n",
        "target = corpus.reviews_text"
      ],
      "execution_count": null,
      "outputs": []
    },
    {
      "cell_type": "code",
      "metadata": {
        "id": "z17fketjDRjX"
      },
      "source": [
        "attribute_train, attribute_test, target_train, target_test = train_test_split(attribute, target, test_size = 0.1, random_state = 225)\n",
        "\n",
        "print('attribute_train :', len(attribute_train))\n",
        "print('attribute_test  :', len(attribute_test))\n",
        "print('target_train :', len(target_train))\n",
        "print('target_test  :', len(target_test))"
      ],
      "execution_count": null,
      "outputs": []
    },
    {
      "cell_type": "markdown",
      "metadata": {
        "id": "3FJh89p4O4Yo"
      },
      "source": [
        "#Classifier using Naive Bayes"
      ]
    },
    {
      "cell_type": "markdown",
      "metadata": {
        "id": "08jBW-7yPMoT"
      },
      "source": [
        ""
      ]
    }
  ]
}
