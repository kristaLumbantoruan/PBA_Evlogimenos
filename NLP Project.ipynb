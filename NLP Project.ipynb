{
 "cells": [
  {
   "cell_type": "markdown",
   "metadata": {
    "id": "OEu3JsYqb3la"
   },
   "source": [
    "# NLP - Sentiment Analysis Hotel based on Review with Comparing Naive Bayes and SVM\n"
   ]
  },
  {
   "cell_type": "code",
   "execution_count": 1,
   "metadata": {
    "colab": {
     "base_uri": "https://localhost:8080/",
     "height": 82,
     "referenced_widgets": [
      "04f7b3aa8e784ef8be54f6ae4fc99179",
      "a8d5f55d71e64510a44afc58c087671c",
      "d23fc1f532f8442593bee93a5dfc3dfd",
      "54a363c66caf424682ef2082e9b6c1f9",
      "f168177b721a4c0c927c5957b022eb1c",
      "01d7d0bc78a64436abf2a5d4becbe8b7",
      "933a933617094563a75a7eebedcadfad",
      "7ebf80c8af7d4291beb51d2a3c869122"
     ]
    },
    "id": "GrOJLhACCWlc",
    "outputId": "a3853cce-37d0-47b8-f645-6ebc87b9e6b2"
   },
   "outputs": [
    {
     "name": "stderr",
     "output_type": "stream",
     "text": [
      "c:\\users\\acer\\appdata\\local\\programs\\python\\python37\\lib\\site-packages\\ipykernel_launcher.py:34: TqdmDeprecationWarning: This function will be removed in tqdm==5.0.0\n",
      "Please use `tqdm.notebook.tqdm` instead of `tqdm.tqdm_notebook`\n"
     ]
    },
    {
     "data": {
      "application/vnd.jupyter.widget-view+json": {
       "model_id": "db44dc79231d4626a100ef594565e8c2",
       "version_major": 2,
       "version_minor": 0
      },
      "text/plain": [
       "HBox(children=(FloatProgress(value=1.0, bar_style='info', layout=Layout(width='20px'), max=1.0), HTML(value=''…"
      ]
     },
     "metadata": {},
     "output_type": "display_data"
    },
    {
     "name": "stderr",
     "output_type": "stream",
     "text": [
      "c:\\users\\acer\\appdata\\local\\programs\\python\\python37\\lib\\site-packages\\tqdm\\std.py:670: FutureWarning: The Panel class is removed from pandas. Accessing it from the top-level namespace will also be removed in the next version\n",
      "  from pandas import Panel\n"
     ]
    }
   ],
   "source": [
    "#import library\n",
    "\n",
    "import numpy as np\n",
    "#import pandas\n",
    "import pandas as pd\n",
    "import seaborn as sns\n",
    "from pylab import rcParams\n",
    "import string\n",
    "import re\n",
    "import matplotlib.pyplot as plt\n",
    "import math\n",
    "from sklearn.model_selection import train_test_split\n",
    "from collections import Counter, defaultdict\n",
    "from bs4 import BeautifulSoup\n",
    "from sklearn.metrics import accuracy_score\n",
    "from nltk.tokenize import WordPunctTokenizer\n",
    "from nltk.tokenize import RegexpTokenizer\n",
    "from sklearn.metrics import classification_report, confusion_matrix\n",
    "#import Natural Language Toolkit\n",
    "import nltk\n",
    "from nltk.stem import PorterStemmer\n",
    "from nltk.stem import WordNetLemmatizer\n",
    "from nltk.corpus import stopwords\n",
    "import os\n",
    "from sklearn.feature_extraction.text import CountVectorizer\n",
    "from sklearn.linear_model import LogisticRegression\n",
    "from sklearn.feature_extraction.text import TfidfVectorizer\n",
    "import time\n",
    "from sklearn import svm\n",
    "from sklearn.metrics import classification_report\n",
    "from sklearn import naive_bayes\n",
    "from sklearn.metrics import roc_auc_score\n",
    "from tqdm import tqdm, tqdm_notebook\n",
    "tqdm_notebook().pandas()"
   ]
  },
  {
   "cell_type": "markdown",
   "metadata": {
    "id": "igl8kKNMbxRD"
   },
   "source": [
    "# Data Facts and Import"
   ]
  },
  {
   "cell_type": "code",
   "execution_count": 145,
   "metadata": {
    "id": "XU2MVzvpYM44"
   },
   "outputs": [],
   "source": [
    "get_ipython().run_line_magic('matplotlib', 'inline')"
   ]
  },
  {
   "cell_type": "code",
   "execution_count": 146,
   "metadata": {
    "id": "I3pQ7ZrUYQKH"
   },
   "outputs": [],
   "source": [
    "sns.set(style='whitegrid', palette='muted', font_scale=1.5)"
   ]
  },
  {
   "cell_type": "code",
   "execution_count": 147,
   "metadata": {
    "id": "nWqEMABqYTE7"
   },
   "outputs": [],
   "source": [
    "\n",
    "rcParams['figure.figsize'] = 10, 10"
   ]
  },
  {
   "cell_type": "code",
   "execution_count": 148,
   "metadata": {
    "id": "9kfAzyvYYV2a"
   },
   "outputs": [],
   "source": [
    "RANDOM_SEED = 42\n",
    "np.random.seed(RANDOM_SEED)"
   ]
  },
  {
   "cell_type": "code",
   "execution_count": 149,
   "metadata": {
    "id": "GaEk78dOYaHH"
   },
   "outputs": [],
   "source": [
    "#import data\n",
    "corpus = pd.read_csv(\"D:/MATA KULIAH/SEMESTER 7/PBA/Proyek/7282_1.csv\")"
   ]
  },
  {
   "cell_type": "code",
   "execution_count": 150,
   "metadata": {
    "colab": {
     "base_uri": "https://localhost:8080/"
    },
    "id": "p96xWhv4cUO9",
    "outputId": "227598b3-7aea-45a0-fd10-b0bbd46b5bae"
   },
   "outputs": [
    {
     "data": {
      "text/plain": [
       "(35912, 19)"
      ]
     },
     "execution_count": 150,
     "metadata": {},
     "output_type": "execute_result"
    }
   ],
   "source": [
    "#Check the shape (number of columns and rows) in the dataset\n",
    "corpus.shape"
   ]
  },
  {
   "cell_type": "code",
   "execution_count": 151,
   "metadata": {
    "colab": {
     "base_uri": "https://localhost:8080/"
    },
    "id": "Okzxun_NTsTv",
    "outputId": "e748c177-c3cf-441f-f05f-5407000d7ecf"
   },
   "outputs": [
    {
     "name": "stdout",
     "output_type": "stream",
     "text": [
      "Panjang Corpus :  35912\n"
     ]
    }
   ],
   "source": [
    "print('Panjang Corpus : ',len(corpus))"
   ]
  },
  {
   "cell_type": "code",
   "execution_count": 152,
   "metadata": {
    "colab": {
     "base_uri": "https://localhost:8080/",
     "height": 910
    },
    "id": "rQt3EUyBYg7L",
    "outputId": "179bca4e-62d4-4bfd-9424-e807d7c39bca"
   },
   "outputs": [
    {
     "data": {
      "text/html": [
       "<div>\n",
       "<style scoped>\n",
       "    .dataframe tbody tr th:only-of-type {\n",
       "        vertical-align: middle;\n",
       "    }\n",
       "\n",
       "    .dataframe tbody tr th {\n",
       "        vertical-align: top;\n",
       "    }\n",
       "\n",
       "    .dataframe thead th {\n",
       "        text-align: right;\n",
       "    }\n",
       "</style>\n",
       "<table border=\"1\" class=\"dataframe\">\n",
       "  <thead>\n",
       "    <tr style=\"text-align: right;\">\n",
       "      <th></th>\n",
       "      <th>address</th>\n",
       "      <th>categories</th>\n",
       "      <th>city</th>\n",
       "      <th>country</th>\n",
       "      <th>latitude</th>\n",
       "      <th>longitude</th>\n",
       "      <th>name</th>\n",
       "      <th>postalCode</th>\n",
       "      <th>province</th>\n",
       "      <th>reviews_date</th>\n",
       "      <th>reviews_dateAdded</th>\n",
       "      <th>reviews_doRecommend</th>\n",
       "      <th>reviews_id</th>\n",
       "      <th>reviews_rating</th>\n",
       "      <th>reviews_text</th>\n",
       "      <th>reviews_title</th>\n",
       "      <th>reviews_userCity</th>\n",
       "      <th>reviews_username</th>\n",
       "      <th>reviews_userProvince</th>\n",
       "    </tr>\n",
       "  </thead>\n",
       "  <tbody>\n",
       "    <tr>\n",
       "      <th>0</th>\n",
       "      <td>Riviera San Nicol 11/a</td>\n",
       "      <td>Hotels</td>\n",
       "      <td>Mableton</td>\n",
       "      <td>US</td>\n",
       "      <td>45.421611</td>\n",
       "      <td>12.376187</td>\n",
       "      <td>Hotel Russo Palace</td>\n",
       "      <td>30126</td>\n",
       "      <td>GA</td>\n",
       "      <td>2013-09-22T00:00:00Z</td>\n",
       "      <td>2016-10-24T00:00:25Z</td>\n",
       "      <td>NaN</td>\n",
       "      <td>NaN</td>\n",
       "      <td>4.0</td>\n",
       "      <td>Pleasant 10 min walk along the sea front to th...</td>\n",
       "      <td>Good location away from the crouds</td>\n",
       "      <td>NaN</td>\n",
       "      <td>Russ (kent)</td>\n",
       "      <td>NaN</td>\n",
       "    </tr>\n",
       "    <tr>\n",
       "      <th>1</th>\n",
       "      <td>Riviera San Nicol 11/a</td>\n",
       "      <td>Hotels</td>\n",
       "      <td>Mableton</td>\n",
       "      <td>US</td>\n",
       "      <td>45.421611</td>\n",
       "      <td>12.376187</td>\n",
       "      <td>Hotel Russo Palace</td>\n",
       "      <td>30126</td>\n",
       "      <td>GA</td>\n",
       "      <td>2015-04-03T00:00:00Z</td>\n",
       "      <td>2016-10-24T00:00:25Z</td>\n",
       "      <td>NaN</td>\n",
       "      <td>NaN</td>\n",
       "      <td>5.0</td>\n",
       "      <td>Really lovely hotel. Stayed on the very top fl...</td>\n",
       "      <td>Great hotel with Jacuzzi bath!</td>\n",
       "      <td>NaN</td>\n",
       "      <td>A Traveler</td>\n",
       "      <td>NaN</td>\n",
       "    </tr>\n",
       "    <tr>\n",
       "      <th>2</th>\n",
       "      <td>Riviera San Nicol 11/a</td>\n",
       "      <td>Hotels</td>\n",
       "      <td>Mableton</td>\n",
       "      <td>US</td>\n",
       "      <td>45.421611</td>\n",
       "      <td>12.376187</td>\n",
       "      <td>Hotel Russo Palace</td>\n",
       "      <td>30126</td>\n",
       "      <td>GA</td>\n",
       "      <td>2014-05-13T00:00:00Z</td>\n",
       "      <td>2016-10-24T00:00:25Z</td>\n",
       "      <td>NaN</td>\n",
       "      <td>NaN</td>\n",
       "      <td>5.0</td>\n",
       "      <td>Ett mycket bra hotell. Det som drog ner betyge...</td>\n",
       "      <td>Lugnt l��ge</td>\n",
       "      <td>NaN</td>\n",
       "      <td>Maud</td>\n",
       "      <td>NaN</td>\n",
       "    </tr>\n",
       "    <tr>\n",
       "      <th>3</th>\n",
       "      <td>Riviera San Nicol 11/a</td>\n",
       "      <td>Hotels</td>\n",
       "      <td>Mableton</td>\n",
       "      <td>US</td>\n",
       "      <td>45.421611</td>\n",
       "      <td>12.376187</td>\n",
       "      <td>Hotel Russo Palace</td>\n",
       "      <td>30126</td>\n",
       "      <td>GA</td>\n",
       "      <td>2013-10-27T00:00:00Z</td>\n",
       "      <td>2016-10-24T00:00:25Z</td>\n",
       "      <td>NaN</td>\n",
       "      <td>NaN</td>\n",
       "      <td>5.0</td>\n",
       "      <td>We stayed here for four nights in October. The...</td>\n",
       "      <td>Good location on the Lido.</td>\n",
       "      <td>NaN</td>\n",
       "      <td>Julie</td>\n",
       "      <td>NaN</td>\n",
       "    </tr>\n",
       "    <tr>\n",
       "      <th>4</th>\n",
       "      <td>Riviera San Nicol 11/a</td>\n",
       "      <td>Hotels</td>\n",
       "      <td>Mableton</td>\n",
       "      <td>US</td>\n",
       "      <td>45.421611</td>\n",
       "      <td>12.376187</td>\n",
       "      <td>Hotel Russo Palace</td>\n",
       "      <td>30126</td>\n",
       "      <td>GA</td>\n",
       "      <td>2015-03-05T00:00:00Z</td>\n",
       "      <td>2016-10-24T00:00:25Z</td>\n",
       "      <td>NaN</td>\n",
       "      <td>NaN</td>\n",
       "      <td>5.0</td>\n",
       "      <td>We stayed here for four nights in October. The...</td>\n",
       "      <td>������ ���������������</td>\n",
       "      <td>NaN</td>\n",
       "      <td>sungchul</td>\n",
       "      <td>NaN</td>\n",
       "    </tr>\n",
       "    <tr>\n",
       "      <th>...</th>\n",
       "      <td>...</td>\n",
       "      <td>...</td>\n",
       "      <td>...</td>\n",
       "      <td>...</td>\n",
       "      <td>...</td>\n",
       "      <td>...</td>\n",
       "      <td>...</td>\n",
       "      <td>...</td>\n",
       "      <td>...</td>\n",
       "      <td>...</td>\n",
       "      <td>...</td>\n",
       "      <td>...</td>\n",
       "      <td>...</td>\n",
       "      <td>...</td>\n",
       "      <td>...</td>\n",
       "      <td>...</td>\n",
       "      <td>...</td>\n",
       "      <td>...</td>\n",
       "      <td>...</td>\n",
       "    </tr>\n",
       "    <tr>\n",
       "      <th>35907</th>\n",
       "      <td>1088 Powdermill Rd</td>\n",
       "      <td>Cabins,Resorts &amp; Vacation Cottages,Wedding Cha...</td>\n",
       "      <td>Gatlinburg</td>\n",
       "      <td>US</td>\n",
       "      <td>35.754868</td>\n",
       "      <td>-83.457295</td>\n",
       "      <td>Elk Springs Resort</td>\n",
       "      <td>37738</td>\n",
       "      <td>TN</td>\n",
       "      <td>2012-03-20T00:00:00Z</td>\n",
       "      <td>2016-06-23T16:50:58Z</td>\n",
       "      <td>NaN</td>\n",
       "      <td>NaN</td>\n",
       "      <td>5.0</td>\n",
       "      <td>Best of the Best!!!! My family and I stayed in...</td>\n",
       "      <td>Amazing time (both times!!)</td>\n",
       "      <td>Charlotte</td>\n",
       "      <td>Chelsa K.</td>\n",
       "      <td>NC</td>\n",
       "    </tr>\n",
       "    <tr>\n",
       "      <th>35908</th>\n",
       "      <td>1088 Powdermill Rd</td>\n",
       "      <td>Cabins,Resorts &amp; Vacation Cottages,Wedding Cha...</td>\n",
       "      <td>Gatlinburg</td>\n",
       "      <td>US</td>\n",
       "      <td>35.754868</td>\n",
       "      <td>-83.457295</td>\n",
       "      <td>Elk Springs Resort</td>\n",
       "      <td>37738</td>\n",
       "      <td>TN</td>\n",
       "      <td>2012-03-12T00:00:00Z</td>\n",
       "      <td>2016-06-23T16:50:58Z</td>\n",
       "      <td>NaN</td>\n",
       "      <td>NaN</td>\n",
       "      <td>5.0</td>\n",
       "      <td>Amazing Vacation in Beautiful Cabin We stayed ...</td>\n",
       "      <td>Amazing time (both times!!)</td>\n",
       "      <td>Charlotte</td>\n",
       "      <td>Heather D.</td>\n",
       "      <td>NC</td>\n",
       "    </tr>\n",
       "    <tr>\n",
       "      <th>35909</th>\n",
       "      <td>1088 Powdermill Rd</td>\n",
       "      <td>Cabins,Resorts &amp; Vacation Cottages,Wedding Cha...</td>\n",
       "      <td>Gatlinburg</td>\n",
       "      <td>US</td>\n",
       "      <td>35.754868</td>\n",
       "      <td>-83.457295</td>\n",
       "      <td>Elk Springs Resort</td>\n",
       "      <td>37738</td>\n",
       "      <td>TN</td>\n",
       "      <td>2015-11-03T00:00:00Z</td>\n",
       "      <td>2016-06-23T16:50:58Z</td>\n",
       "      <td>NaN</td>\n",
       "      <td>NaN</td>\n",
       "      <td>5.0</td>\n",
       "      <td>My husband and I stayed at Tree Tops which is ...</td>\n",
       "      <td>Amazing time (both times!!)</td>\n",
       "      <td>Charlotte</td>\n",
       "      <td>Carol W.</td>\n",
       "      <td>NC</td>\n",
       "    </tr>\n",
       "    <tr>\n",
       "      <th>35910</th>\n",
       "      <td>3747 29th St S E</td>\n",
       "      <td>Hotels-Apartment,Corporate Lodging,Hotels,Lodging</td>\n",
       "      <td>Grand Rapids</td>\n",
       "      <td>US</td>\n",
       "      <td>42.909480</td>\n",
       "      <td>-85.573590</td>\n",
       "      <td>Extended Stay America Grand Rapids - Kentwood</td>\n",
       "      <td>49512</td>\n",
       "      <td>MI</td>\n",
       "      <td>NaN</td>\n",
       "      <td>2015-12-01T19:40:54Z</td>\n",
       "      <td>NaN</td>\n",
       "      <td>NaN</td>\n",
       "      <td>0.0</td>\n",
       "      <td>to share your opinion of this businesswith YP ...</td>\n",
       "      <td>NaN</td>\n",
       "      <td>NaN</td>\n",
       "      <td>write a review</td>\n",
       "      <td>NaN</td>\n",
       "    </tr>\n",
       "    <tr>\n",
       "      <th>35911</th>\n",
       "      <td>3747 29th St S E</td>\n",
       "      <td>Hotels-Apartment,Corporate Lodging,Hotels,Lodging</td>\n",
       "      <td>Grand Rapids</td>\n",
       "      <td>US</td>\n",
       "      <td>42.909480</td>\n",
       "      <td>-85.573590</td>\n",
       "      <td>Extended Stay America Grand Rapids - Kentwood</td>\n",
       "      <td>49512</td>\n",
       "      <td>MI</td>\n",
       "      <td>NaN</td>\n",
       "      <td>2015-12-01T19:40:54Z</td>\n",
       "      <td>NaN</td>\n",
       "      <td>NaN</td>\n",
       "      <td>0.0</td>\n",
       "      <td>xxxxxxxxxxxxxxxxxxxxxxxxxxxxxxxxxxxxxxxxxx</td>\n",
       "      <td>NaN</td>\n",
       "      <td>NaN</td>\n",
       "      <td>xxxxxxxxxxxxxx</td>\n",
       "      <td>NaN</td>\n",
       "    </tr>\n",
       "  </tbody>\n",
       "</table>\n",
       "<p>35912 rows × 19 columns</p>\n",
       "</div>"
      ],
      "text/plain": [
       "                      address  \\\n",
       "0      Riviera San Nicol 11/a   \n",
       "1      Riviera San Nicol 11/a   \n",
       "2      Riviera San Nicol 11/a   \n",
       "3      Riviera San Nicol 11/a   \n",
       "4      Riviera San Nicol 11/a   \n",
       "...                       ...   \n",
       "35907      1088 Powdermill Rd   \n",
       "35908      1088 Powdermill Rd   \n",
       "35909      1088 Powdermill Rd   \n",
       "35910        3747 29th St S E   \n",
       "35911        3747 29th St S E   \n",
       "\n",
       "                                              categories          city  \\\n",
       "0                                                 Hotels      Mableton   \n",
       "1                                                 Hotels      Mableton   \n",
       "2                                                 Hotels      Mableton   \n",
       "3                                                 Hotels      Mableton   \n",
       "4                                                 Hotels      Mableton   \n",
       "...                                                  ...           ...   \n",
       "35907  Cabins,Resorts & Vacation Cottages,Wedding Cha...    Gatlinburg   \n",
       "35908  Cabins,Resorts & Vacation Cottages,Wedding Cha...    Gatlinburg   \n",
       "35909  Cabins,Resorts & Vacation Cottages,Wedding Cha...    Gatlinburg   \n",
       "35910  Hotels-Apartment,Corporate Lodging,Hotels,Lodging  Grand Rapids   \n",
       "35911  Hotels-Apartment,Corporate Lodging,Hotels,Lodging  Grand Rapids   \n",
       "\n",
       "      country   latitude  longitude  \\\n",
       "0          US  45.421611  12.376187   \n",
       "1          US  45.421611  12.376187   \n",
       "2          US  45.421611  12.376187   \n",
       "3          US  45.421611  12.376187   \n",
       "4          US  45.421611  12.376187   \n",
       "...       ...        ...        ...   \n",
       "35907      US  35.754868 -83.457295   \n",
       "35908      US  35.754868 -83.457295   \n",
       "35909      US  35.754868 -83.457295   \n",
       "35910      US  42.909480 -85.573590   \n",
       "35911      US  42.909480 -85.573590   \n",
       "\n",
       "                                                name postalCode province  \\\n",
       "0                                 Hotel Russo Palace      30126       GA   \n",
       "1                                 Hotel Russo Palace      30126       GA   \n",
       "2                                 Hotel Russo Palace      30126       GA   \n",
       "3                                 Hotel Russo Palace      30126       GA   \n",
       "4                                 Hotel Russo Palace      30126       GA   \n",
       "...                                              ...        ...      ...   \n",
       "35907                             Elk Springs Resort      37738       TN   \n",
       "35908                             Elk Springs Resort      37738       TN   \n",
       "35909                             Elk Springs Resort      37738       TN   \n",
       "35910  Extended Stay America Grand Rapids - Kentwood      49512       MI   \n",
       "35911  Extended Stay America Grand Rapids - Kentwood      49512       MI   \n",
       "\n",
       "               reviews_date     reviews_dateAdded  reviews_doRecommend  \\\n",
       "0      2013-09-22T00:00:00Z  2016-10-24T00:00:25Z                  NaN   \n",
       "1      2015-04-03T00:00:00Z  2016-10-24T00:00:25Z                  NaN   \n",
       "2      2014-05-13T00:00:00Z  2016-10-24T00:00:25Z                  NaN   \n",
       "3      2013-10-27T00:00:00Z  2016-10-24T00:00:25Z                  NaN   \n",
       "4      2015-03-05T00:00:00Z  2016-10-24T00:00:25Z                  NaN   \n",
       "...                     ...                   ...                  ...   \n",
       "35907  2012-03-20T00:00:00Z  2016-06-23T16:50:58Z                  NaN   \n",
       "35908  2012-03-12T00:00:00Z  2016-06-23T16:50:58Z                  NaN   \n",
       "35909  2015-11-03T00:00:00Z  2016-06-23T16:50:58Z                  NaN   \n",
       "35910                   NaN  2015-12-01T19:40:54Z                  NaN   \n",
       "35911                   NaN  2015-12-01T19:40:54Z                  NaN   \n",
       "\n",
       "       reviews_id  reviews_rating  \\\n",
       "0             NaN             4.0   \n",
       "1             NaN             5.0   \n",
       "2             NaN             5.0   \n",
       "3             NaN             5.0   \n",
       "4             NaN             5.0   \n",
       "...           ...             ...   \n",
       "35907         NaN             5.0   \n",
       "35908         NaN             5.0   \n",
       "35909         NaN             5.0   \n",
       "35910         NaN             0.0   \n",
       "35911         NaN             0.0   \n",
       "\n",
       "                                            reviews_text  \\\n",
       "0      Pleasant 10 min walk along the sea front to th...   \n",
       "1      Really lovely hotel. Stayed on the very top fl...   \n",
       "2      Ett mycket bra hotell. Det som drog ner betyge...   \n",
       "3      We stayed here for four nights in October. The...   \n",
       "4      We stayed here for four nights in October. The...   \n",
       "...                                                  ...   \n",
       "35907  Best of the Best!!!! My family and I stayed in...   \n",
       "35908  Amazing Vacation in Beautiful Cabin We stayed ...   \n",
       "35909  My husband and I stayed at Tree Tops which is ...   \n",
       "35910  to share your opinion of this businesswith YP ...   \n",
       "35911         xxxxxxxxxxxxxxxxxxxxxxxxxxxxxxxxxxxxxxxxxx   \n",
       "\n",
       "                            reviews_title reviews_userCity reviews_username  \\\n",
       "0      Good location away from the crouds              NaN      Russ (kent)   \n",
       "1          Great hotel with Jacuzzi bath!              NaN       A Traveler   \n",
       "2                             Lugnt l��ge              NaN             Maud   \n",
       "3              Good location on the Lido.              NaN            Julie   \n",
       "4                  ������ ���������������              NaN         sungchul   \n",
       "...                                   ...              ...              ...   \n",
       "35907         Amazing time (both times!!)        Charlotte        Chelsa K.   \n",
       "35908         Amazing time (both times!!)        Charlotte       Heather D.   \n",
       "35909         Amazing time (both times!!)        Charlotte         Carol W.   \n",
       "35910                                 NaN              NaN   write a review   \n",
       "35911                                 NaN              NaN   xxxxxxxxxxxxxx   \n",
       "\n",
       "      reviews_userProvince  \n",
       "0                      NaN  \n",
       "1                      NaN  \n",
       "2                      NaN  \n",
       "3                      NaN  \n",
       "4                      NaN  \n",
       "...                    ...  \n",
       "35907                   NC  \n",
       "35908                   NC  \n",
       "35909                   NC  \n",
       "35910                  NaN  \n",
       "35911                  NaN  \n",
       "\n",
       "[35912 rows x 19 columns]"
      ]
     },
     "execution_count": 152,
     "metadata": {},
     "output_type": "execute_result"
    }
   ],
   "source": [
    "#Show data\n",
    "corpus"
   ]
  },
  {
   "cell_type": "code",
   "execution_count": 153,
   "metadata": {
    "colab": {
     "base_uri": "https://localhost:8080/",
     "height": 467
    },
    "id": "fUGyVpqLftK7",
    "outputId": "94afa017-4531-4fbd-f584-cac8cdec42ce"
   },
   "outputs": [
    {
     "data": {
      "text/html": [
       "<div>\n",
       "<style scoped>\n",
       "    .dataframe tbody tr th:only-of-type {\n",
       "        vertical-align: middle;\n",
       "    }\n",
       "\n",
       "    .dataframe tbody tr th {\n",
       "        vertical-align: top;\n",
       "    }\n",
       "\n",
       "    .dataframe thead th {\n",
       "        text-align: right;\n",
       "    }\n",
       "</style>\n",
       "<table border=\"1\" class=\"dataframe\">\n",
       "  <thead>\n",
       "    <tr style=\"text-align: right;\">\n",
       "      <th></th>\n",
       "      <th>address</th>\n",
       "      <th>categories</th>\n",
       "      <th>city</th>\n",
       "      <th>country</th>\n",
       "      <th>latitude</th>\n",
       "      <th>longitude</th>\n",
       "      <th>name</th>\n",
       "      <th>postalCode</th>\n",
       "      <th>province</th>\n",
       "      <th>reviews_date</th>\n",
       "      <th>reviews_dateAdded</th>\n",
       "      <th>reviews_doRecommend</th>\n",
       "      <th>reviews_id</th>\n",
       "      <th>reviews_rating</th>\n",
       "      <th>reviews_text</th>\n",
       "      <th>reviews_title</th>\n",
       "      <th>reviews_userCity</th>\n",
       "      <th>reviews_username</th>\n",
       "      <th>reviews_userProvince</th>\n",
       "    </tr>\n",
       "  </thead>\n",
       "  <tbody>\n",
       "    <tr>\n",
       "      <th>11107</th>\n",
       "      <td>301 Reserve Ave</td>\n",
       "      <td>Luxury Hotels,Restaurants,Hotels &amp; Motels,Lodg...</td>\n",
       "      <td>Roanoke</td>\n",
       "      <td>US</td>\n",
       "      <td>37.256149</td>\n",
       "      <td>-79.947005</td>\n",
       "      <td>Cambria Hotel &amp; Suites</td>\n",
       "      <td>24016</td>\n",
       "      <td>VA</td>\n",
       "      <td>2015-10-26T00:00:00Z</td>\n",
       "      <td>2016-10-13T13:22:03Z</td>\n",
       "      <td>NaN</td>\n",
       "      <td>NaN</td>\n",
       "      <td>5.0</td>\n",
       "      <td>This upscale Choice property was perfect for o...</td>\n",
       "      <td>Base for Roanoke visit</td>\n",
       "      <td>Tucson</td>\n",
       "      <td>Paul G</td>\n",
       "      <td>AZ</td>\n",
       "    </tr>\n",
       "    <tr>\n",
       "      <th>29089</th>\n",
       "      <td>355 Santana Row</td>\n",
       "      <td>Hotels,Hotel, Bar, and Hotel Bar</td>\n",
       "      <td>San Jose</td>\n",
       "      <td>US</td>\n",
       "      <td>37.320980</td>\n",
       "      <td>-121.947900</td>\n",
       "      <td>Hotel Valencia Santana Row</td>\n",
       "      <td>95128</td>\n",
       "      <td>CA</td>\n",
       "      <td>2015-12-26T00:00:00Z</td>\n",
       "      <td>2016-11-17T15:13:00Z</td>\n",
       "      <td>NaN</td>\n",
       "      <td>NaN</td>\n",
       "      <td>3.0</td>\n",
       "      <td>I've stayed two nights for a business trip at ...</td>\n",
       "      <td>Good location, large rooms, but old bathroom</td>\n",
       "      <td>The Netherlands</td>\n",
       "      <td>Joris L</td>\n",
       "      <td>MI</td>\n",
       "    </tr>\n",
       "    <tr>\n",
       "      <th>15961</th>\n",
       "      <td>2120 Claude Bailey Pkwy</td>\n",
       "      <td>Travel &amp; Transport,Hotels &amp; Motels</td>\n",
       "      <td>Princeton</td>\n",
       "      <td>US</td>\n",
       "      <td>41.368016</td>\n",
       "      <td>-89.456966</td>\n",
       "      <td>Americinn Lodge Suites Princeton</td>\n",
       "      <td>61356</td>\n",
       "      <td>IL</td>\n",
       "      <td>2016-03-21T00:00:00Z</td>\n",
       "      <td>2017-01-08T18:34:34Z</td>\n",
       "      <td>NaN</td>\n",
       "      <td>NaN</td>\n",
       "      <td>1.0</td>\n",
       "      <td>From the warm greeting at check-in to the serv...</td>\n",
       "      <td>overall Very satisfied</td>\n",
       "      <td>Lewistown</td>\n",
       "      <td>Kenneth N</td>\n",
       "      <td>NaN</td>\n",
       "    </tr>\n",
       "    <tr>\n",
       "      <th>13555</th>\n",
       "      <td>19 Sombrero Blvd</td>\n",
       "      <td>Hotels</td>\n",
       "      <td>Marathon</td>\n",
       "      <td>US</td>\n",
       "      <td>24.711823</td>\n",
       "      <td>-81.080550</td>\n",
       "      <td>Sombrero Resort and Marina</td>\n",
       "      <td>33050</td>\n",
       "      <td>Grassy Key</td>\n",
       "      <td>2016-01-23T00:00:00Z</td>\n",
       "      <td>2016-11-05T19:13:20Z</td>\n",
       "      <td>NaN</td>\n",
       "      <td>NaN</td>\n",
       "      <td>2.0</td>\n",
       "      <td>Hotel is old. This might be section due to be ...</td>\n",
       "      <td>Avoid in current condition!</td>\n",
       "      <td>Boca Raton</td>\n",
       "      <td>H.Chris</td>\n",
       "      <td>FL</td>\n",
       "    </tr>\n",
       "    <tr>\n",
       "      <th>9008</th>\n",
       "      <td>2512 W Lincolnway</td>\n",
       "      <td>Hotels</td>\n",
       "      <td>Cheyenne</td>\n",
       "      <td>US</td>\n",
       "      <td>41.119150</td>\n",
       "      <td>-104.849490</td>\n",
       "      <td>Americas Best Value Inn</td>\n",
       "      <td>82001</td>\n",
       "      <td>WY</td>\n",
       "      <td>2016-07-24T00:00:00Z</td>\n",
       "      <td>2016-11-21T23:27:41Z</td>\n",
       "      <td>NaN</td>\n",
       "      <td>NaN</td>\n",
       "      <td>3.0</td>\n",
       "      <td>Not the nicest motel in the world, but it was ...</td>\n",
       "      <td>Good value for the money</td>\n",
       "      <td>NaN</td>\n",
       "      <td>A Traveler</td>\n",
       "      <td>NaN</td>\n",
       "    </tr>\n",
       "  </tbody>\n",
       "</table>\n",
       "</div>"
      ],
      "text/plain": [
       "                       address  \\\n",
       "11107          301 Reserve Ave   \n",
       "29089          355 Santana Row   \n",
       "15961  2120 Claude Bailey Pkwy   \n",
       "13555         19 Sombrero Blvd   \n",
       "9008         2512 W Lincolnway   \n",
       "\n",
       "                                              categories       city country  \\\n",
       "11107  Luxury Hotels,Restaurants,Hotels & Motels,Lodg...    Roanoke      US   \n",
       "29089                   Hotels,Hotel, Bar, and Hotel Bar   San Jose      US   \n",
       "15961                 Travel & Transport,Hotels & Motels  Princeton      US   \n",
       "13555                                             Hotels   Marathon      US   \n",
       "9008                                              Hotels   Cheyenne      US   \n",
       "\n",
       "        latitude   longitude                              name postalCode  \\\n",
       "11107  37.256149  -79.947005            Cambria Hotel & Suites      24016   \n",
       "29089  37.320980 -121.947900        Hotel Valencia Santana Row      95128   \n",
       "15961  41.368016  -89.456966  Americinn Lodge Suites Princeton      61356   \n",
       "13555  24.711823  -81.080550        Sombrero Resort and Marina      33050   \n",
       "9008   41.119150 -104.849490           Americas Best Value Inn      82001   \n",
       "\n",
       "         province          reviews_date     reviews_dateAdded  \\\n",
       "11107          VA  2015-10-26T00:00:00Z  2016-10-13T13:22:03Z   \n",
       "29089          CA  2015-12-26T00:00:00Z  2016-11-17T15:13:00Z   \n",
       "15961          IL  2016-03-21T00:00:00Z  2017-01-08T18:34:34Z   \n",
       "13555  Grassy Key  2016-01-23T00:00:00Z  2016-11-05T19:13:20Z   \n",
       "9008           WY  2016-07-24T00:00:00Z  2016-11-21T23:27:41Z   \n",
       "\n",
       "       reviews_doRecommend  reviews_id  reviews_rating  \\\n",
       "11107                  NaN         NaN             5.0   \n",
       "29089                  NaN         NaN             3.0   \n",
       "15961                  NaN         NaN             1.0   \n",
       "13555                  NaN         NaN             2.0   \n",
       "9008                   NaN         NaN             3.0   \n",
       "\n",
       "                                            reviews_text  \\\n",
       "11107  This upscale Choice property was perfect for o...   \n",
       "29089  I've stayed two nights for a business trip at ...   \n",
       "15961  From the warm greeting at check-in to the serv...   \n",
       "13555  Hotel is old. This might be section due to be ...   \n",
       "9008   Not the nicest motel in the world, but it was ...   \n",
       "\n",
       "                                      reviews_title reviews_userCity  \\\n",
       "11107                        Base for Roanoke visit           Tucson   \n",
       "29089  Good location, large rooms, but old bathroom  The Netherlands   \n",
       "15961                        overall Very satisfied        Lewistown   \n",
       "13555                   Avoid in current condition!       Boca Raton   \n",
       "9008                       Good value for the money              NaN   \n",
       "\n",
       "      reviews_username reviews_userProvince  \n",
       "11107           Paul G                   AZ  \n",
       "29089          Joris L                   MI  \n",
       "15961        Kenneth N                  NaN  \n",
       "13555          H.Chris                   FL  \n",
       "9008        A Traveler                  NaN  "
      ]
     },
     "execution_count": 153,
     "metadata": {},
     "output_type": "execute_result"
    }
   ],
   "source": [
    "#Show 5 random of rows\n",
    "corpus.sample(5)"
   ]
  },
  {
   "cell_type": "code",
   "execution_count": 154,
   "metadata": {
    "colab": {
     "base_uri": "https://localhost:8080/"
    },
    "id": "iJNSiz_6c3JR",
    "outputId": "8bbdb97c-4d1f-49de-805c-8a14a2244427"
   },
   "outputs": [
    {
     "name": "stdout",
     "output_type": "stream",
     "text": [
      "<class 'pandas.core.frame.DataFrame'>\n",
      "RangeIndex: 35912 entries, 0 to 35911\n",
      "Data columns (total 19 columns):\n",
      " #   Column                Non-Null Count  Dtype  \n",
      "---  ------                --------------  -----  \n",
      " 0   address               35912 non-null  object \n",
      " 1   categories            35912 non-null  object \n",
      " 2   city                  35912 non-null  object \n",
      " 3   country               35912 non-null  object \n",
      " 4   latitude              35826 non-null  float64\n",
      " 5   longitude             35826 non-null  float64\n",
      " 6   name                  35912 non-null  object \n",
      " 7   postalCode            35857 non-null  object \n",
      " 8   province              35912 non-null  object \n",
      " 9   reviews_date          35653 non-null  object \n",
      " 10  reviews_dateAdded     35912 non-null  object \n",
      " 11  reviews_doRecommend   0 non-null      float64\n",
      " 12  reviews_id            0 non-null      float64\n",
      " 13  reviews_rating        35050 non-null  float64\n",
      " 14  reviews_text          35890 non-null  object \n",
      " 15  reviews_title         34290 non-null  object \n",
      " 16  reviews_userCity      16263 non-null  object \n",
      " 17  reviews_username      35869 non-null  object \n",
      " 18  reviews_userProvince  17518 non-null  object \n",
      "dtypes: float64(5), object(14)\n",
      "memory usage: 5.2+ MB\n"
     ]
    }
   ],
   "source": [
    "corpus.info()"
   ]
  },
  {
   "cell_type": "code",
   "execution_count": 155,
   "metadata": {
    "colab": {
     "base_uri": "https://localhost:8080/",
     "height": 287
    },
    "id": "VbBvgXaNc-Fi",
    "outputId": "2af6fd0d-8dde-427f-bd10-441b98673c0b"
   },
   "outputs": [
    {
     "data": {
      "text/html": [
       "<div>\n",
       "<style scoped>\n",
       "    .dataframe tbody tr th:only-of-type {\n",
       "        vertical-align: middle;\n",
       "    }\n",
       "\n",
       "    .dataframe tbody tr th {\n",
       "        vertical-align: top;\n",
       "    }\n",
       "\n",
       "    .dataframe thead th {\n",
       "        text-align: right;\n",
       "    }\n",
       "</style>\n",
       "<table border=\"1\" class=\"dataframe\">\n",
       "  <thead>\n",
       "    <tr style=\"text-align: right;\">\n",
       "      <th></th>\n",
       "      <th>latitude</th>\n",
       "      <th>longitude</th>\n",
       "      <th>reviews_doRecommend</th>\n",
       "      <th>reviews_id</th>\n",
       "      <th>reviews_rating</th>\n",
       "    </tr>\n",
       "  </thead>\n",
       "  <tbody>\n",
       "    <tr>\n",
       "      <th>count</th>\n",
       "      <td>35826.000000</td>\n",
       "      <td>35826.000000</td>\n",
       "      <td>0.0</td>\n",
       "      <td>0.0</td>\n",
       "      <td>35050.000000</td>\n",
       "    </tr>\n",
       "    <tr>\n",
       "      <th>mean</th>\n",
       "      <td>37.285008</td>\n",
       "      <td>-85.725758</td>\n",
       "      <td>NaN</td>\n",
       "      <td>NaN</td>\n",
       "      <td>3.776431</td>\n",
       "    </tr>\n",
       "    <tr>\n",
       "      <th>std</th>\n",
       "      <td>6.996544</td>\n",
       "      <td>33.062263</td>\n",
       "      <td>NaN</td>\n",
       "      <td>NaN</td>\n",
       "      <td>1.416195</td>\n",
       "    </tr>\n",
       "    <tr>\n",
       "      <th>min</th>\n",
       "      <td>-25.436750</td>\n",
       "      <td>-166.559040</td>\n",
       "      <td>NaN</td>\n",
       "      <td>NaN</td>\n",
       "      <td>0.000000</td>\n",
       "    </tr>\n",
       "    <tr>\n",
       "      <th>25%</th>\n",
       "      <td>33.827340</td>\n",
       "      <td>-104.868200</td>\n",
       "      <td>NaN</td>\n",
       "      <td>NaN</td>\n",
       "      <td>3.000000</td>\n",
       "    </tr>\n",
       "    <tr>\n",
       "      <th>50%</th>\n",
       "      <td>37.936026</td>\n",
       "      <td>-86.822972</td>\n",
       "      <td>NaN</td>\n",
       "      <td>NaN</td>\n",
       "      <td>4.000000</td>\n",
       "    </tr>\n",
       "    <tr>\n",
       "      <th>75%</th>\n",
       "      <td>41.672491</td>\n",
       "      <td>-77.044550</td>\n",
       "      <td>NaN</td>\n",
       "      <td>NaN</td>\n",
       "      <td>5.000000</td>\n",
       "    </tr>\n",
       "    <tr>\n",
       "      <th>max</th>\n",
       "      <td>63.877674</td>\n",
       "      <td>115.164407</td>\n",
       "      <td>NaN</td>\n",
       "      <td>NaN</td>\n",
       "      <td>10.000000</td>\n",
       "    </tr>\n",
       "  </tbody>\n",
       "</table>\n",
       "</div>"
      ],
      "text/plain": [
       "           latitude     longitude  reviews_doRecommend  reviews_id  \\\n",
       "count  35826.000000  35826.000000                  0.0         0.0   \n",
       "mean      37.285008    -85.725758                  NaN         NaN   \n",
       "std        6.996544     33.062263                  NaN         NaN   \n",
       "min      -25.436750   -166.559040                  NaN         NaN   \n",
       "25%       33.827340   -104.868200                  NaN         NaN   \n",
       "50%       37.936026    -86.822972                  NaN         NaN   \n",
       "75%       41.672491    -77.044550                  NaN         NaN   \n",
       "max       63.877674    115.164407                  NaN         NaN   \n",
       "\n",
       "       reviews_rating  \n",
       "count    35050.000000  \n",
       "mean         3.776431  \n",
       "std          1.416195  \n",
       "min          0.000000  \n",
       "25%          3.000000  \n",
       "50%          4.000000  \n",
       "75%          5.000000  \n",
       "max         10.000000  "
      ]
     },
     "execution_count": 155,
     "metadata": {},
     "output_type": "execute_result"
    }
   ],
   "source": [
    "#display descriptive statistics\n",
    "corpus.describe()"
   ]
  },
  {
   "cell_type": "code",
   "execution_count": 156,
   "metadata": {
    "colab": {
     "base_uri": "https://localhost:8080/"
    },
    "id": "Mri3IEHw_4yn",
    "outputId": "1d905b50-03ae-48ea-f38c-ca91588b9f1b"
   },
   "outputs": [
    {
     "name": "stdout",
     "output_type": "stream",
     "text": [
      "Mean of hotel reviews:  4\n"
     ]
    }
   ],
   "source": [
    "print('Mean of hotel reviews: ', round(corpus['reviews_rating'].mean()))"
   ]
  },
  {
   "cell_type": "markdown",
   "metadata": {
    "id": "4AbFwCtpdHyv"
   },
   "source": [
    "#Exploratory Data Analysis"
   ]
  },
  {
   "cell_type": "markdown",
   "metadata": {
    "id": "9d28gg6UY_DA"
   },
   "source": [
    "Column Handling"
   ]
  },
  {
   "cell_type": "code",
   "execution_count": 157,
   "metadata": {
    "colab": {
     "base_uri": "https://localhost:8080/"
    },
    "id": "nfAZ1rrNE-ZJ",
    "outputId": "7ceff401-29d3-4657-8f1c-cc85a7d89c89"
   },
   "outputs": [
    {
     "data": {
      "text/plain": [
       "address                     0\n",
       "categories                  0\n",
       "city                        0\n",
       "country                     0\n",
       "latitude                   86\n",
       "longitude                  86\n",
       "name                        0\n",
       "postalCode                 55\n",
       "province                    0\n",
       "reviews_date              259\n",
       "reviews_dateAdded           0\n",
       "reviews_doRecommend     35912\n",
       "reviews_id              35912\n",
       "reviews_rating            862\n",
       "reviews_text               22\n",
       "reviews_title            1622\n",
       "reviews_userCity        19649\n",
       "reviews_username           43\n",
       "reviews_userProvince    18394\n",
       "dtype: int64"
      ]
     },
     "execution_count": 157,
     "metadata": {},
     "output_type": "execute_result"
    }
   ],
   "source": [
    "#Check for missing values in the dataset\n",
    "corpus.isnull().sum(axis=0)"
   ]
  },
  {
   "cell_type": "code",
   "execution_count": 158,
   "metadata": {
    "colab": {
     "base_uri": "https://localhost:8080/",
     "height": 184
    },
    "id": "7S6fDuxXdGoN",
    "outputId": "99cadbd6-2314-4316-f3d4-ce27e6e02bc1"
   },
   "outputs": [
    {
     "name": "stdout",
     "output_type": "stream",
     "text": [
      "Count and percentage of missing value for the columns:\n"
     ]
    },
    {
     "data": {
      "text/html": [
       "<div>\n",
       "<style scoped>\n",
       "    .dataframe tbody tr th:only-of-type {\n",
       "        vertical-align: middle;\n",
       "    }\n",
       "\n",
       "    .dataframe tbody tr th {\n",
       "        vertical-align: top;\n",
       "    }\n",
       "\n",
       "    .dataframe thead th {\n",
       "        text-align: right;\n",
       "    }\n",
       "</style>\n",
       "<table border=\"1\" class=\"dataframe\">\n",
       "  <thead>\n",
       "    <tr style=\"text-align: right;\">\n",
       "      <th></th>\n",
       "      <th>Count</th>\n",
       "      <th>Percentage</th>\n",
       "    </tr>\n",
       "  </thead>\n",
       "  <tbody>\n",
       "    <tr>\n",
       "      <th>reviews_id</th>\n",
       "      <td>35912</td>\n",
       "      <td>100.000000</td>\n",
       "    </tr>\n",
       "    <tr>\n",
       "      <th>reviews_doRecommend</th>\n",
       "      <td>35912</td>\n",
       "      <td>100.000000</td>\n",
       "    </tr>\n",
       "    <tr>\n",
       "      <th>reviews_userCity</th>\n",
       "      <td>19649</td>\n",
       "      <td>54.714302</td>\n",
       "    </tr>\n",
       "    <tr>\n",
       "      <th>reviews_userProvince</th>\n",
       "      <td>18394</td>\n",
       "      <td>51.219648</td>\n",
       "    </tr>\n",
       "  </tbody>\n",
       "</table>\n",
       "</div>"
      ],
      "text/plain": [
       "                      Count  Percentage\n",
       "reviews_id            35912  100.000000\n",
       "reviews_doRecommend   35912  100.000000\n",
       "reviews_userCity      19649   54.714302\n",
       "reviews_userProvince  18394   51.219648"
      ]
     },
     "execution_count": 158,
     "metadata": {},
     "output_type": "execute_result"
    }
   ],
   "source": [
    "#Checking Missing value in the dataset and printing the percentage for missing value for each column\n",
    "count = corpus.isnull().sum().sort_values(ascending=False)\n",
    "percentage = (corpus.isnull().sum()/corpus.isnull().count()).sort_values(ascending=False)\n",
    "missing_data = pd.concat([count, percentage], axis=1,\n",
    "keys=['Count', 'Percentage'])\n",
    "\n",
    "print('Count and percentage of missing value for the columns:')\n",
    "missing_data['Percentage']=missing_data['Percentage'].apply(lambda x: x*100)\n",
    "missing_data.loc[missing_data['Percentage'] > 10][:10]\n"
   ]
  },
  {
   "cell_type": "markdown",
   "metadata": {
    "id": "UXrOejMP0lQP"
   },
   "source": [
    "#Feature Engineering"
   ]
  },
  {
   "cell_type": "code",
   "execution_count": 159,
   "metadata": {
    "id": "YOCD2_3r0ohF"
   },
   "outputs": [],
   "source": [
    "#feature engineering, choose reviews_rating = 4 as neutal rating and set it = 0\n",
    "corpus.loc[(corpus ['reviews_rating'] == 4)] = np.nan\n",
    "reviews_rating = corpus['reviews_rating']\n",
    "reviews_rating.fillna(value=0, inplace =True)"
   ]
  },
  {
   "cell_type": "code",
   "execution_count": 160,
   "metadata": {
    "id": "MFoWJyW70sHW"
   },
   "outputs": [],
   "source": [
    "#delete features that are not needed in data\n",
    "corpus.drop(['latitude','longitude','reviews_doRecommend', 'reviews_dateAdded', 'reviews_date', 'province', 'postalCode','reviews_userProvince', 'reviews_id', 'reviews_userCity'],axis=1,inplace=True)"
   ]
  },
  {
   "cell_type": "code",
   "execution_count": 161,
   "metadata": {
    "id": "lnNfj2UX0ty-"
   },
   "outputs": [],
   "source": [
    "# feature engineering by create rating implicit and explicit\n",
    "ratings_explicit= corpus[corpus['reviews_rating'] != 0]\n",
    "ratings_implicit= corpus[corpus['reviews_rating'] == 0]"
   ]
  },
  {
   "cell_type": "code",
   "execution_count": 162,
   "metadata": {
    "id": "pQmy_Yg80xTA"
   },
   "outputs": [],
   "source": [
    "# set corpus as dataframe of ratings_explicit\n",
    "corpus = ratings_explicit"
   ]
  },
  {
   "cell_type": "code",
   "execution_count": 163,
   "metadata": {
    "colab": {
     "base_uri": "https://localhost:8080/"
    },
    "id": "qZ8hBSFO04gX",
    "outputId": "fbaeaf81-30d4-4111-f721-1836ee5c977b"
   },
   "outputs": [
    {
     "name": "stderr",
     "output_type": "stream",
     "text": [
      "c:\\users\\acer\\appdata\\local\\programs\\python\\python37\\lib\\site-packages\\ipykernel_launcher.py:3: SettingWithCopyWarning: \n",
      "A value is trying to be set on a copy of a slice from a DataFrame\n",
      "\n",
      "See the caveats in the documentation: https://pandas.pydata.org/pandas-docs/stable/user_guide/indexing.html#returning-a-view-versus-a-copy\n",
      "  This is separate from the ipykernel package so we can avoid doing imports until\n"
     ]
    }
   ],
   "source": [
    "for i in range(0,len(corpus)-1):\n",
    "    if type(corpus.iloc[i]['reviews_text']) != str:\n",
    "        corpus.iloc[i]['reviews_text'] = str(corpus.iloc[i]['reviews_text'])"
   ]
  },
  {
   "cell_type": "code",
   "execution_count": 164,
   "metadata": {
    "colab": {
     "base_uri": "https://localhost:8080/"
    },
    "id": "nlK2PleBWIlm",
    "outputId": "d6f2a771-147b-4d31-beeb-c11490232aaf"
   },
   "outputs": [
    {
     "name": "stderr",
     "output_type": "stream",
     "text": [
      "c:\\users\\acer\\appdata\\local\\programs\\python\\python37\\lib\\site-packages\\ipykernel_launcher.py:3: SettingWithCopyWarning: \n",
      "A value is trying to be set on a copy of a slice from a DataFrame\n",
      "\n",
      "See the caveats in the documentation: https://pandas.pydata.org/pandas-docs/stable/user_guide/indexing.html#returning-a-view-versus-a-copy\n",
      "  This is separate from the ipykernel package so we can avoid doing imports until\n"
     ]
    }
   ],
   "source": [
    "for i in range(0,len(corpus)-1):\n",
    "    if type(corpus.iloc[i]['reviews_text']) != str:\n",
    "        corpus.iloc[i]['reviews_text'] = str(corpus.iloc[i]['reviews_text'])"
   ]
  },
  {
   "cell_type": "code",
   "execution_count": 165,
   "metadata": {
    "colab": {
     "base_uri": "https://localhost:8080/"
    },
    "id": "riOocqvsY5q6",
    "outputId": "93b192ee-b277-4e3a-df0e-63ab69206a06"
   },
   "outputs": [
    {
     "name": "stderr",
     "output_type": "stream",
     "text": [
      "c:\\users\\acer\\appdata\\local\\programs\\python\\python37\\lib\\site-packages\\ipykernel_launcher.py:3: SettingWithCopyWarning: \n",
      "A value is trying to be set on a copy of a slice from a DataFrame\n",
      "\n",
      "See the caveats in the documentation: https://pandas.pydata.org/pandas-docs/stable/user_guide/indexing.html#returning-a-view-versus-a-copy\n",
      "  This is separate from the ipykernel package so we can avoid doing imports until\n"
     ]
    }
   ],
   "source": [
    "for i in range(0,len(corpus)-1):\n",
    "    if type(corpus.iloc[i]['reviews_text']) != str:\n",
    "        corpus.iloc[i]['reviews_text'] = str(corpus.iloc[i]['reviews_text'])"
   ]
  },
  {
   "cell_type": "code",
   "execution_count": 166,
   "metadata": {
    "colab": {
     "base_uri": "https://localhost:8080/",
     "height": 381
    },
    "id": "cD7BNiWrZQBy",
    "outputId": "f2f21818-ce59-4bea-cadf-9d2d350b994a"
   },
   "outputs": [
    {
     "name": "stderr",
     "output_type": "stream",
     "text": [
      "c:\\users\\acer\\appdata\\local\\programs\\python\\python37\\lib\\site-packages\\ipykernel_launcher.py:4: SettingWithCopyWarning: \n",
      "A value is trying to be set on a copy of a slice from a DataFrame.\n",
      "Try using .loc[row_indexer,col_indexer] = value instead\n",
      "\n",
      "See the caveats in the documentation: https://pandas.pydata.org/pandas-docs/stable/user_guide/indexing.html#returning-a-view-versus-a-copy\n",
      "  after removing the cwd from sys.path.\n"
     ]
    },
    {
     "data": {
      "text/html": [
       "<div>\n",
       "<style scoped>\n",
       "    .dataframe tbody tr th:only-of-type {\n",
       "        vertical-align: middle;\n",
       "    }\n",
       "\n",
       "    .dataframe tbody tr th {\n",
       "        vertical-align: top;\n",
       "    }\n",
       "\n",
       "    .dataframe thead th {\n",
       "        text-align: right;\n",
       "    }\n",
       "</style>\n",
       "<table border=\"1\" class=\"dataframe\">\n",
       "  <thead>\n",
       "    <tr style=\"text-align: right;\">\n",
       "      <th></th>\n",
       "      <th>address</th>\n",
       "      <th>categories</th>\n",
       "      <th>city</th>\n",
       "      <th>country</th>\n",
       "      <th>name</th>\n",
       "      <th>reviews_rating</th>\n",
       "      <th>reviews_text</th>\n",
       "      <th>reviews_title</th>\n",
       "      <th>reviews_username</th>\n",
       "      <th>response</th>\n",
       "    </tr>\n",
       "  </thead>\n",
       "  <tbody>\n",
       "    <tr>\n",
       "      <th>1</th>\n",
       "      <td>Riviera San Nicol 11/a</td>\n",
       "      <td>Hotels</td>\n",
       "      <td>Mableton</td>\n",
       "      <td>US</td>\n",
       "      <td>Hotel Russo Palace</td>\n",
       "      <td>5.0</td>\n",
       "      <td>Really lovely hotel. Stayed on the very top fl...</td>\n",
       "      <td>Great hotel with Jacuzzi bath!</td>\n",
       "      <td>A Traveler</td>\n",
       "      <td>positive</td>\n",
       "    </tr>\n",
       "    <tr>\n",
       "      <th>2</th>\n",
       "      <td>Riviera San Nicol 11/a</td>\n",
       "      <td>Hotels</td>\n",
       "      <td>Mableton</td>\n",
       "      <td>US</td>\n",
       "      <td>Hotel Russo Palace</td>\n",
       "      <td>5.0</td>\n",
       "      <td>Ett mycket bra hotell. Det som drog ner betyge...</td>\n",
       "      <td>Lugnt l��ge</td>\n",
       "      <td>Maud</td>\n",
       "      <td>positive</td>\n",
       "    </tr>\n",
       "    <tr>\n",
       "      <th>3</th>\n",
       "      <td>Riviera San Nicol 11/a</td>\n",
       "      <td>Hotels</td>\n",
       "      <td>Mableton</td>\n",
       "      <td>US</td>\n",
       "      <td>Hotel Russo Palace</td>\n",
       "      <td>5.0</td>\n",
       "      <td>We stayed here for four nights in October. The...</td>\n",
       "      <td>Good location on the Lido.</td>\n",
       "      <td>Julie</td>\n",
       "      <td>positive</td>\n",
       "    </tr>\n",
       "    <tr>\n",
       "      <th>4</th>\n",
       "      <td>Riviera San Nicol 11/a</td>\n",
       "      <td>Hotels</td>\n",
       "      <td>Mableton</td>\n",
       "      <td>US</td>\n",
       "      <td>Hotel Russo Palace</td>\n",
       "      <td>5.0</td>\n",
       "      <td>We stayed here for four nights in October. The...</td>\n",
       "      <td>������ ���������������</td>\n",
       "      <td>sungchul</td>\n",
       "      <td>positive</td>\n",
       "    </tr>\n",
       "    <tr>\n",
       "      <th>5</th>\n",
       "      <td>Riviera San Nicol 11/a</td>\n",
       "      <td>Hotels</td>\n",
       "      <td>Mableton</td>\n",
       "      <td>US</td>\n",
       "      <td>Hotel Russo Palace</td>\n",
       "      <td>5.0</td>\n",
       "      <td>We loved staying on the island of Lido! You ne...</td>\n",
       "      <td>Very nice hotel</td>\n",
       "      <td>A Traveler</td>\n",
       "      <td>positive</td>\n",
       "    </tr>\n",
       "  </tbody>\n",
       "</table>\n",
       "</div>"
      ],
      "text/plain": [
       "                  address categories      city country                name  \\\n",
       "1  Riviera San Nicol 11/a     Hotels  Mableton      US  Hotel Russo Palace   \n",
       "2  Riviera San Nicol 11/a     Hotels  Mableton      US  Hotel Russo Palace   \n",
       "3  Riviera San Nicol 11/a     Hotels  Mableton      US  Hotel Russo Palace   \n",
       "4  Riviera San Nicol 11/a     Hotels  Mableton      US  Hotel Russo Palace   \n",
       "5  Riviera San Nicol 11/a     Hotels  Mableton      US  Hotel Russo Palace   \n",
       "\n",
       "   reviews_rating                                       reviews_text  \\\n",
       "1             5.0  Really lovely hotel. Stayed on the very top fl...   \n",
       "2             5.0  Ett mycket bra hotell. Det som drog ner betyge...   \n",
       "3             5.0  We stayed here for four nights in October. The...   \n",
       "4             5.0  We stayed here for four nights in October. The...   \n",
       "5             5.0  We loved staying on the island of Lido! You ne...   \n",
       "\n",
       "                    reviews_title reviews_username  response  \n",
       "1  Great hotel with Jacuzzi bath!       A Traveler  positive  \n",
       "2                     Lugnt l��ge             Maud  positive  \n",
       "3      Good location on the Lido.            Julie  positive  \n",
       "4          ������ ���������������         sungchul  positive  \n",
       "5                 Very nice hotel       A Traveler  positive  "
      ]
     },
     "execution_count": 166,
     "metadata": {},
     "output_type": "execute_result"
    }
   ],
   "source": [
    "#labeling data\n",
    "def sentiment(n):\n",
    "    return 'positive' if n >= 5 else 'negative'\n",
    "corpus['response'] = corpus['reviews_rating'].apply(sentiment)\n",
    "corpus.head()"
   ]
  },
  {
   "cell_type": "code",
   "execution_count": 167,
   "metadata": {
    "colab": {
     "base_uri": "https://localhost:8080/",
     "height": 531
    },
    "id": "-8hgCyXwZof6",
    "outputId": "a3e27e42-2669-40d6-8908-85d8ffa1a7e4"
   },
   "outputs": [
    {
     "data": {
      "text/html": [
       "<div>\n",
       "<style scoped>\n",
       "    .dataframe tbody tr th:only-of-type {\n",
       "        vertical-align: middle;\n",
       "    }\n",
       "\n",
       "    .dataframe tbody tr th {\n",
       "        vertical-align: top;\n",
       "    }\n",
       "\n",
       "    .dataframe thead th {\n",
       "        text-align: right;\n",
       "    }\n",
       "</style>\n",
       "<table border=\"1\" class=\"dataframe\">\n",
       "  <thead>\n",
       "    <tr style=\"text-align: right;\">\n",
       "      <th></th>\n",
       "      <th>address</th>\n",
       "      <th>categories</th>\n",
       "      <th>city</th>\n",
       "      <th>country</th>\n",
       "      <th>name</th>\n",
       "      <th>reviews_rating</th>\n",
       "      <th>reviews_text</th>\n",
       "      <th>reviews_title</th>\n",
       "      <th>reviews_username</th>\n",
       "      <th>response</th>\n",
       "    </tr>\n",
       "  </thead>\n",
       "  <tbody>\n",
       "    <tr>\n",
       "      <th>33473</th>\n",
       "      <td>3243 S Ridge Dr S W</td>\n",
       "      <td>Hotels,Hotel</td>\n",
       "      <td>Cedar Rapids</td>\n",
       "      <td>US</td>\n",
       "      <td>Red Roof Inn Cedar Rapids</td>\n",
       "      <td>2.0</td>\n",
       "      <td>It was pretty funny. They have a laminated pap...</td>\n",
       "      <td>Under Construction!</td>\n",
       "      <td>A Traveler</td>\n",
       "      <td>negative</td>\n",
       "    </tr>\n",
       "    <tr>\n",
       "      <th>6000</th>\n",
       "      <td>3 5920 Kuhio Hwy</td>\n",
       "      <td>Hotels</td>\n",
       "      <td>Kapaa</td>\n",
       "      <td>US</td>\n",
       "      <td>Hilton Garden Inn Kauai Wailua Bay</td>\n",
       "      <td>3.0</td>\n",
       "      <td>We had A/C issues at 3:30 am and it woke us up...</td>\n",
       "      <td>Please Keep Away Until Construction is Completed.</td>\n",
       "      <td>A Traveler</td>\n",
       "      <td>negative</td>\n",
       "    </tr>\n",
       "    <tr>\n",
       "      <th>30956</th>\n",
       "      <td>12015 Harbor Blvd</td>\n",
       "      <td>Hotels</td>\n",
       "      <td>Garden Grove</td>\n",
       "      <td>US</td>\n",
       "      <td>Anaheim Marriott Suites</td>\n",
       "      <td>5.0</td>\n",
       "      <td>My biggest take away was that the staff was ve...</td>\n",
       "      <td>Great Hospitality</td>\n",
       "      <td>Jerry L</td>\n",
       "      <td>positive</td>\n",
       "    </tr>\n",
       "    <tr>\n",
       "      <th>22657</th>\n",
       "      <td>E 5 Karayolu (yanyol) No 20</td>\n",
       "      <td>Hotels</td>\n",
       "      <td>Englewood</td>\n",
       "      <td>US</td>\n",
       "      <td>Radisson Blu Conference and Airport Hotel</td>\n",
       "      <td>1.0</td>\n",
       "      <td>Everything was poor....during stay and after t...</td>\n",
       "      <td>POOR IN ALL RESPECT</td>\n",
       "      <td>A Traveler</td>\n",
       "      <td>negative</td>\n",
       "    </tr>\n",
       "    <tr>\n",
       "      <th>3344</th>\n",
       "      <td>1287 Highway 78 W</td>\n",
       "      <td>Hotels,Motels,Hotel &amp; Motel Consultants,Lodging</td>\n",
       "      <td>Jasper</td>\n",
       "      <td>US</td>\n",
       "      <td>Super 8</td>\n",
       "      <td>1.0</td>\n",
       "      <td>House keeping very bad job have photos,vldo, b...</td>\n",
       "      <td>Has not been that good</td>\n",
       "      <td>6byronb</td>\n",
       "      <td>negative</td>\n",
       "    </tr>\n",
       "    <tr>\n",
       "      <th>24723</th>\n",
       "      <td>3320 Mesa Rd</td>\n",
       "      <td>Golf Courses - Private,Hotels,Resorts</td>\n",
       "      <td>Colorado Springs</td>\n",
       "      <td>US</td>\n",
       "      <td>Garden of The Gods Club &amp; Resort</td>\n",
       "      <td>5.0</td>\n",
       "      <td>Everything I ever imagined. Simply wonderful. ...</td>\n",
       "      <td>Incredible Views/Sensational Rooms/Superb Spa</td>\n",
       "      <td>pjhooray</td>\n",
       "      <td>positive</td>\n",
       "    </tr>\n",
       "    <tr>\n",
       "      <th>26031</th>\n",
       "      <td>11900 N W Plaza Cir</td>\n",
       "      <td>Hotels</td>\n",
       "      <td>Kansas City</td>\n",
       "      <td>US</td>\n",
       "      <td>Super 8 Kansas City Airport</td>\n",
       "      <td>3.0</td>\n",
       "      <td>Great stay</td>\n",
       "      <td>Overall decent place</td>\n",
       "      <td>james</td>\n",
       "      <td>negative</td>\n",
       "    </tr>\n",
       "    <tr>\n",
       "      <th>4111</th>\n",
       "      <td>13600 N W 2nd St</td>\n",
       "      <td>Hotels</td>\n",
       "      <td>Fort Lauderdale</td>\n",
       "      <td>US</td>\n",
       "      <td>La Quinta Inn and Suites Sunrise</td>\n",
       "      <td>3.0</td>\n",
       "      <td>We had dead ants in the room. Told the front d...</td>\n",
       "      <td>Ok</td>\n",
       "      <td>Kathleen</td>\n",
       "      <td>negative</td>\n",
       "    </tr>\n",
       "    <tr>\n",
       "      <th>27354</th>\n",
       "      <td>4934 N W Loop 410</td>\n",
       "      <td>Hotels</td>\n",
       "      <td>San Antonio</td>\n",
       "      <td>US</td>\n",
       "      <td>Fiesta Inn and Suites</td>\n",
       "      <td>1.0</td>\n",
       "      <td>Unclean, no air conditioning, dirty bathroom, ...</td>\n",
       "      <td>Horrible stay!</td>\n",
       "      <td>Ronnie</td>\n",
       "      <td>negative</td>\n",
       "    </tr>\n",
       "    <tr>\n",
       "      <th>17135</th>\n",
       "      <td>400 E International Speedway Blvd</td>\n",
       "      <td>Hotels</td>\n",
       "      <td>Deland</td>\n",
       "      <td>US</td>\n",
       "      <td>Comfort Inn Deland - Near University</td>\n",
       "      <td>5.0</td>\n",
       "      <td>They were redoing the pool and the paving the ...</td>\n",
       "      <td>Nice stay</td>\n",
       "      <td>Jennifer</td>\n",
       "      <td>positive</td>\n",
       "    </tr>\n",
       "  </tbody>\n",
       "</table>\n",
       "</div>"
      ],
      "text/plain": [
       "                                 address  \\\n",
       "33473                3243 S Ridge Dr S W   \n",
       "6000                    3 5920 Kuhio Hwy   \n",
       "30956                  12015 Harbor Blvd   \n",
       "22657        E 5 Karayolu (yanyol) No 20   \n",
       "3344                   1287 Highway 78 W   \n",
       "24723                       3320 Mesa Rd   \n",
       "26031                11900 N W Plaza Cir   \n",
       "4111                    13600 N W 2nd St   \n",
       "27354                  4934 N W Loop 410   \n",
       "17135  400 E International Speedway Blvd   \n",
       "\n",
       "                                            categories              city  \\\n",
       "33473                                     Hotels,Hotel      Cedar Rapids   \n",
       "6000                                            Hotels             Kapaa   \n",
       "30956                                           Hotels      Garden Grove   \n",
       "22657                                           Hotels         Englewood   \n",
       "3344   Hotels,Motels,Hotel & Motel Consultants,Lodging            Jasper   \n",
       "24723            Golf Courses - Private,Hotels,Resorts  Colorado Springs   \n",
       "26031                                           Hotels       Kansas City   \n",
       "4111                                            Hotels   Fort Lauderdale   \n",
       "27354                                           Hotels       San Antonio   \n",
       "17135                                           Hotels            Deland   \n",
       "\n",
       "      country                                       name  reviews_rating  \\\n",
       "33473      US                  Red Roof Inn Cedar Rapids             2.0   \n",
       "6000       US         Hilton Garden Inn Kauai Wailua Bay             3.0   \n",
       "30956      US                    Anaheim Marriott Suites             5.0   \n",
       "22657      US  Radisson Blu Conference and Airport Hotel             1.0   \n",
       "3344       US                                    Super 8             1.0   \n",
       "24723      US           Garden of The Gods Club & Resort             5.0   \n",
       "26031      US                Super 8 Kansas City Airport             3.0   \n",
       "4111       US           La Quinta Inn and Suites Sunrise             3.0   \n",
       "27354      US                      Fiesta Inn and Suites             1.0   \n",
       "17135      US       Comfort Inn Deland - Near University             5.0   \n",
       "\n",
       "                                            reviews_text  \\\n",
       "33473  It was pretty funny. They have a laminated pap...   \n",
       "6000   We had A/C issues at 3:30 am and it woke us up...   \n",
       "30956  My biggest take away was that the staff was ve...   \n",
       "22657  Everything was poor....during stay and after t...   \n",
       "3344   House keeping very bad job have photos,vldo, b...   \n",
       "24723  Everything I ever imagined. Simply wonderful. ...   \n",
       "26031                                         Great stay   \n",
       "4111   We had dead ants in the room. Told the front d...   \n",
       "27354  Unclean, no air conditioning, dirty bathroom, ...   \n",
       "17135  They were redoing the pool and the paving the ...   \n",
       "\n",
       "                                           reviews_title reviews_username  \\\n",
       "33473                                Under Construction!       A Traveler   \n",
       "6000   Please Keep Away Until Construction is Completed.       A Traveler   \n",
       "30956                                  Great Hospitality          Jerry L   \n",
       "22657                                POOR IN ALL RESPECT       A Traveler   \n",
       "3344                              Has not been that good          6byronb   \n",
       "24723      Incredible Views/Sensational Rooms/Superb Spa         pjhooray   \n",
       "26031                               Overall decent place            james   \n",
       "4111                                                  Ok         Kathleen   \n",
       "27354                                     Horrible stay!           Ronnie   \n",
       "17135                                          Nice stay         Jennifer   \n",
       "\n",
       "       response  \n",
       "33473  negative  \n",
       "6000   negative  \n",
       "30956  positive  \n",
       "22657  negative  \n",
       "3344   negative  \n",
       "24723  positive  \n",
       "26031  negative  \n",
       "4111   negative  \n",
       "27354  negative  \n",
       "17135  positive  "
      ]
     },
     "execution_count": 167,
     "metadata": {},
     "output_type": "execute_result"
    }
   ],
   "source": [
    "corpus.sample(10)"
   ]
  },
  {
   "cell_type": "code",
   "execution_count": 168,
   "metadata": {
    "colab": {
     "base_uri": "https://localhost:8080/",
     "height": 407
    },
    "id": "sop8DHturmvK",
    "outputId": "974d05ab-4787-4181-9b94-9966d56bf9fc"
   },
   "outputs": [
    {
     "data": {
      "text/html": [
       "<div>\n",
       "<style scoped>\n",
       "    .dataframe tbody tr th:only-of-type {\n",
       "        vertical-align: middle;\n",
       "    }\n",
       "\n",
       "    .dataframe tbody tr th {\n",
       "        vertical-align: top;\n",
       "    }\n",
       "\n",
       "    .dataframe thead th {\n",
       "        text-align: right;\n",
       "    }\n",
       "</style>\n",
       "<table border=\"1\" class=\"dataframe\">\n",
       "  <thead>\n",
       "    <tr style=\"text-align: right;\">\n",
       "      <th></th>\n",
       "      <th>reviews_text</th>\n",
       "      <th>reviews_rating</th>\n",
       "      <th>response</th>\n",
       "    </tr>\n",
       "  </thead>\n",
       "  <tbody>\n",
       "    <tr>\n",
       "      <th>1</th>\n",
       "      <td>Really lovely hotel. Stayed on the very top fl...</td>\n",
       "      <td>5.0</td>\n",
       "      <td>positive</td>\n",
       "    </tr>\n",
       "    <tr>\n",
       "      <th>2</th>\n",
       "      <td>Ett mycket bra hotell. Det som drog ner betyge...</td>\n",
       "      <td>5.0</td>\n",
       "      <td>positive</td>\n",
       "    </tr>\n",
       "    <tr>\n",
       "      <th>3</th>\n",
       "      <td>We stayed here for four nights in October. The...</td>\n",
       "      <td>5.0</td>\n",
       "      <td>positive</td>\n",
       "    </tr>\n",
       "    <tr>\n",
       "      <th>4</th>\n",
       "      <td>We stayed here for four nights in October. The...</td>\n",
       "      <td>5.0</td>\n",
       "      <td>positive</td>\n",
       "    </tr>\n",
       "    <tr>\n",
       "      <th>5</th>\n",
       "      <td>We loved staying on the island of Lido! You ne...</td>\n",
       "      <td>5.0</td>\n",
       "      <td>positive</td>\n",
       "    </tr>\n",
       "    <tr>\n",
       "      <th>...</th>\n",
       "      <td>...</td>\n",
       "      <td>...</td>\n",
       "      <td>...</td>\n",
       "    </tr>\n",
       "    <tr>\n",
       "      <th>35905</th>\n",
       "      <td>We truly enjoyed staying at the Elk Springs re...</td>\n",
       "      <td>5.0</td>\n",
       "      <td>positive</td>\n",
       "    </tr>\n",
       "    <tr>\n",
       "      <th>35906</th>\n",
       "      <td>We were here for a 2nd time the last weekend o...</td>\n",
       "      <td>5.0</td>\n",
       "      <td>positive</td>\n",
       "    </tr>\n",
       "    <tr>\n",
       "      <th>35907</th>\n",
       "      <td>Best of the Best!!!! My family and I stayed in...</td>\n",
       "      <td>5.0</td>\n",
       "      <td>positive</td>\n",
       "    </tr>\n",
       "    <tr>\n",
       "      <th>35908</th>\n",
       "      <td>Amazing Vacation in Beautiful Cabin We stayed ...</td>\n",
       "      <td>5.0</td>\n",
       "      <td>positive</td>\n",
       "    </tr>\n",
       "    <tr>\n",
       "      <th>35909</th>\n",
       "      <td>My husband and I stayed at Tree Tops which is ...</td>\n",
       "      <td>5.0</td>\n",
       "      <td>positive</td>\n",
       "    </tr>\n",
       "  </tbody>\n",
       "</table>\n",
       "<p>24958 rows × 3 columns</p>\n",
       "</div>"
      ],
      "text/plain": [
       "                                            reviews_text  reviews_rating  \\\n",
       "1      Really lovely hotel. Stayed on the very top fl...             5.0   \n",
       "2      Ett mycket bra hotell. Det som drog ner betyge...             5.0   \n",
       "3      We stayed here for four nights in October. The...             5.0   \n",
       "4      We stayed here for four nights in October. The...             5.0   \n",
       "5      We loved staying on the island of Lido! You ne...             5.0   \n",
       "...                                                  ...             ...   \n",
       "35905  We truly enjoyed staying at the Elk Springs re...             5.0   \n",
       "35906  We were here for a 2nd time the last weekend o...             5.0   \n",
       "35907  Best of the Best!!!! My family and I stayed in...             5.0   \n",
       "35908  Amazing Vacation in Beautiful Cabin We stayed ...             5.0   \n",
       "35909  My husband and I stayed at Tree Tops which is ...             5.0   \n",
       "\n",
       "       response  \n",
       "1      positive  \n",
       "2      positive  \n",
       "3      positive  \n",
       "4      positive  \n",
       "5      positive  \n",
       "...         ...  \n",
       "35905  positive  \n",
       "35906  positive  \n",
       "35907  positive  \n",
       "35908  positive  \n",
       "35909  positive  \n",
       "\n",
       "[24958 rows x 3 columns]"
      ]
     },
     "execution_count": 168,
     "metadata": {},
     "output_type": "execute_result"
    }
   ],
   "source": [
    "corpus[['reviews_text','reviews_rating','response']]"
   ]
  },
  {
   "cell_type": "code",
   "execution_count": 169,
   "metadata": {
    "colab": {
     "base_uri": "https://localhost:8080/"
    },
    "id": "FqzCOXZtBiTQ",
    "outputId": "bbd61b92-199a-441e-a69c-6a1c5a935644"
   },
   "outputs": [
    {
     "name": "stdout",
     "output_type": "stream",
     "text": [
      "Positive Reviews :  13028\n",
      "Negative Reviews :  11930\n"
     ]
    }
   ],
   "source": [
    "review_positif = len([x for x in corpus['response'] if x == 'positive'])\n",
    "review_negatif = len([x for x in corpus['response'] if x == 'negative'])\n",
    "print('Positive Reviews : ',review_positif)\n",
    "print('Negative Reviews : ',review_negatif)"
   ]
  },
  {
   "cell_type": "code",
   "execution_count": 170,
   "metadata": {
    "colab": {
     "base_uri": "https://localhost:8080/",
     "height": 622
    },
    "id": "XqlQ0QtGCr9S",
    "outputId": "dd0e0d13-e844-4e24-9292-e2e59dde4bc3"
   },
   "outputs": [
    {
     "data": {
      "image/png": "[encoded data removed]",
      "text/plain": [
       "<Figure size 720x720 with 1 Axes>"
      ]
     },
     "metadata": {},
     "output_type": "display_data"
    }
   ],
   "source": [
    "#show the sentiment distribution\n",
    "f = sns.countplot(x='response', data=corpus)\n",
    "f.set_title(\"Sentiment Distribution\")\n",
    "f.set_xticklabels(['Positive', 'Negative'])\n",
    "plt.xlabel(\"\");"
   ]
  },
  {
   "cell_type": "code",
   "execution_count": 171,
   "metadata": {
    "colab": {
     "base_uri": "https://localhost:8080/",
     "height": 611
    },
    "id": "UKhb9Hm8-bxx",
    "outputId": "6aae9a2a-aa32-4f0b-bf67-f2998155b01c"
   },
   "outputs": [
    {
     "name": "stderr",
     "output_type": "stream",
     "text": [
      "c:\\users\\acer\\appdata\\local\\programs\\python\\python37\\lib\\site-packages\\ipykernel_launcher.py:1: SettingWithCopyWarning: \n",
      "A value is trying to be set on a copy of a slice from a DataFrame.\n",
      "Try using .loc[row_indexer,col_indexer] = value instead\n",
      "\n",
      "See the caveats in the documentation: https://pandas.pydata.org/pandas-docs/stable/user_guide/indexing.html#returning-a-view-versus-a-copy\n",
      "  \"\"\"Entry point for launching an IPython kernel.\n"
     ]
    },
    {
     "data": {
      "text/plain": [
       "Text(0.5, 1.0, 'Positive and Negative distribution in the data')"
      ]
     },
     "execution_count": 171,
     "metadata": {},
     "output_type": "execute_result"
    },
    {
     "data": {
      "image/png": "[encoded data removed]",
      "text/plain": [
       "<Figure size 720x720 with 1 Axes>"
      ]
     },
     "metadata": {},
     "output_type": "display_data"
    }
   ],
   "source": [
    "corpus['bins'] = pd.cut(corpus['reviews_rating'], bins=[-1,4,5], labels=['Negative (0-3)','Positive (4-5)'], right=True)\n",
    "\n",
    "bin_percent = pd.DataFrame(corpus['bins'].value_counts(normalize=True) * 100)\n",
    "ax = bin_percent.plot.pie(y='bins', autopct='%1.1f%%')\n",
    "ax.set_title('Positive and Negative distribution in the data')"
   ]
  },
  {
   "cell_type": "markdown",
   "metadata": {
    "id": "5WSr2C75uGr7"
   },
   "source": [
    "Text Cleaning"
   ]
  },
  {
   "cell_type": "code",
   "execution_count": 172,
   "metadata": {
    "id": "7lwfl4yHGmPE"
   },
   "outputs": [],
   "source": [
    "#Regular Expression method to search for matching texts\n",
    "word_tokenize = WordPunctTokenizer()\n",
    "review_handle = r'@[A-Za-z0-9_]+'                         # remove review handle (@username)\n",
    "url_handle = r'http[^ ]+'                                  # remove website URLs that start with 'https?://'\n",
    "combined_handle = r'|'.join((review_handle, url_handle))  # join\n",
    "www_handle = r'www.[^ ]+'                                  # remove website URLs that start with 'www.'\n",
    "punctuation_handle = r'\\W+'"
   ]
  },
  {
   "cell_type": "code",
   "execution_count": 173,
   "metadata": {
    "colab": {
     "base_uri": "https://localhost:8080/",
     "height": 407
    },
    "id": "jbQZhzFx6vEL",
    "outputId": "69278ec7-e3aa-47af-a387-28d8df7427d2"
   },
   "outputs": [
    {
     "data": {
      "text/html": [
       "<div>\n",
       "<style scoped>\n",
       "    .dataframe tbody tr th:only-of-type {\n",
       "        vertical-align: middle;\n",
       "    }\n",
       "\n",
       "    .dataframe tbody tr th {\n",
       "        vertical-align: top;\n",
       "    }\n",
       "\n",
       "    .dataframe thead th {\n",
       "        text-align: right;\n",
       "    }\n",
       "</style>\n",
       "<table border=\"1\" class=\"dataframe\">\n",
       "  <thead>\n",
       "    <tr style=\"text-align: right;\">\n",
       "      <th></th>\n",
       "      <th>reviews_text</th>\n",
       "      <th>reviews_rating</th>\n",
       "      <th>response</th>\n",
       "    </tr>\n",
       "  </thead>\n",
       "  <tbody>\n",
       "    <tr>\n",
       "      <th>1</th>\n",
       "      <td>Really lovely hotel. Stayed on the very top fl...</td>\n",
       "      <td>5.0</td>\n",
       "      <td>positive</td>\n",
       "    </tr>\n",
       "    <tr>\n",
       "      <th>2</th>\n",
       "      <td>Ett mycket bra hotell. Det som drog ner betyge...</td>\n",
       "      <td>5.0</td>\n",
       "      <td>positive</td>\n",
       "    </tr>\n",
       "    <tr>\n",
       "      <th>3</th>\n",
       "      <td>We stayed here for four nights in October. The...</td>\n",
       "      <td>5.0</td>\n",
       "      <td>positive</td>\n",
       "    </tr>\n",
       "    <tr>\n",
       "      <th>4</th>\n",
       "      <td>We stayed here for four nights in October. The...</td>\n",
       "      <td>5.0</td>\n",
       "      <td>positive</td>\n",
       "    </tr>\n",
       "    <tr>\n",
       "      <th>5</th>\n",
       "      <td>We loved staying on the island of Lido! You ne...</td>\n",
       "      <td>5.0</td>\n",
       "      <td>positive</td>\n",
       "    </tr>\n",
       "    <tr>\n",
       "      <th>...</th>\n",
       "      <td>...</td>\n",
       "      <td>...</td>\n",
       "      <td>...</td>\n",
       "    </tr>\n",
       "    <tr>\n",
       "      <th>35905</th>\n",
       "      <td>We truly enjoyed staying at the Elk Springs re...</td>\n",
       "      <td>5.0</td>\n",
       "      <td>positive</td>\n",
       "    </tr>\n",
       "    <tr>\n",
       "      <th>35906</th>\n",
       "      <td>We were here for a 2nd time the last weekend o...</td>\n",
       "      <td>5.0</td>\n",
       "      <td>positive</td>\n",
       "    </tr>\n",
       "    <tr>\n",
       "      <th>35907</th>\n",
       "      <td>Best of the Best!!!! My family and I stayed in...</td>\n",
       "      <td>5.0</td>\n",
       "      <td>positive</td>\n",
       "    </tr>\n",
       "    <tr>\n",
       "      <th>35908</th>\n",
       "      <td>Amazing Vacation in Beautiful Cabin We stayed ...</td>\n",
       "      <td>5.0</td>\n",
       "      <td>positive</td>\n",
       "    </tr>\n",
       "    <tr>\n",
       "      <th>35909</th>\n",
       "      <td>My husband and I stayed at Tree Tops which is ...</td>\n",
       "      <td>5.0</td>\n",
       "      <td>positive</td>\n",
       "    </tr>\n",
       "  </tbody>\n",
       "</table>\n",
       "<p>24958 rows × 3 columns</p>\n",
       "</div>"
      ],
      "text/plain": [
       "                                            reviews_text  reviews_rating  \\\n",
       "1      Really lovely hotel. Stayed on the very top fl...             5.0   \n",
       "2      Ett mycket bra hotell. Det som drog ner betyge...             5.0   \n",
       "3      We stayed here for four nights in October. The...             5.0   \n",
       "4      We stayed here for four nights in October. The...             5.0   \n",
       "5      We loved staying on the island of Lido! You ne...             5.0   \n",
       "...                                                  ...             ...   \n",
       "35905  We truly enjoyed staying at the Elk Springs re...             5.0   \n",
       "35906  We were here for a 2nd time the last weekend o...             5.0   \n",
       "35907  Best of the Best!!!! My family and I stayed in...             5.0   \n",
       "35908  Amazing Vacation in Beautiful Cabin We stayed ...             5.0   \n",
       "35909  My husband and I stayed at Tree Tops which is ...             5.0   \n",
       "\n",
       "       response  \n",
       "1      positive  \n",
       "2      positive  \n",
       "3      positive  \n",
       "4      positive  \n",
       "5      positive  \n",
       "...         ...  \n",
       "35905  positive  \n",
       "35906  positive  \n",
       "35907  positive  \n",
       "35908  positive  \n",
       "35909  positive  \n",
       "\n",
       "[24958 rows x 3 columns]"
      ]
     },
     "execution_count": 173,
     "metadata": {},
     "output_type": "execute_result"
    }
   ],
   "source": [
    "corpus[['reviews_text','reviews_rating','response']]"
   ]
  },
  {
   "cell_type": "code",
   "execution_count": 174,
   "metadata": {
    "id": "zRQV9grn7H1q"
   },
   "outputs": [],
   "source": [
    "corpus = corpus[corpus.response.isin(['negative', 'positive'])]"
   ]
  },
  {
   "cell_type": "code",
   "execution_count": 175,
   "metadata": {
    "colab": {
     "base_uri": "https://localhost:8080/",
     "height": 589
    },
    "id": "YfF_oI28wSAh",
    "outputId": "0d918673-cd0e-4386-e4d5-e1ba358f80e8"
   },
   "outputs": [
    {
     "data": {
      "image/png": "[encoded data removed]",
      "text/plain": [
       "<Figure size 1440x1440 with 1 Axes>"
      ]
     },
     "metadata": {},
     "output_type": "display_data"
    }
   ],
   "source": [
    "# wordcloud function\n",
    "\n",
    "from wordcloud import WordCloud\n",
    "import matplotlib.pyplot as plt\n",
    "\n",
    "def show_wordcloud(data, title = None):\n",
    "    wordcloud = WordCloud(\n",
    "        background_color = 'white',\n",
    "        max_words = 200,\n",
    "        max_font_size = 40, \n",
    "        scale = 3,\n",
    "        random_state = 42\n",
    "    ).generate(str(data))\n",
    "\n",
    "    fig = plt.figure(1, figsize = (20, 20))\n",
    "    plt.axis('off')\n",
    "    if title: \n",
    "        fig.suptitle(title, fontsize = 20)\n",
    "        fig.subplots_adjust(top = 2.3)\n",
    "\n",
    "    plt.imshow(wordcloud)\n",
    "    plt.show()\n",
    "    \n",
    "# print wordcloud\n",
    "show_wordcloud(corpus[\"reviews_text\"])"
   ]
  },
  {
   "cell_type": "code",
   "execution_count": 176,
   "metadata": {
    "id": "EJ4ZZOP_padJ"
   },
   "outputs": [],
   "source": [
    "#import text file of stop words, stop words are the most common words in a language that adds no semantics meaning to a sentence\n",
    "stopwords = set(pd.read_csv('D:/MATA KULIAH/SEMESTER 7/PBA/Proyek/stop-word-list.txt', sep='\\n', header=0).stopword)"
   ]
  },
  {
   "cell_type": "code",
   "execution_count": 177,
   "metadata": {
    "id": "aAEJ9GKSvOjD"
   },
   "outputs": [],
   "source": [
    "#define a function called process_text to process the text using the methods listed\n",
    "# case folding\n",
    "# remove punctuation\n",
    "# stopword removal\n",
    "# remove review handle (@username)\n",
    "# remove website URLs that start with 'https?://'\n",
    "# remove website URLs that start with 'www.'\n",
    "# tokenization\n",
    "\n",
    "def process_text(text):\n",
    "    soup = BeautifulSoup(text, 'lxml')\n",
    "    souped = soup.get_text()\n",
    "\n",
    "    try:\n",
    "        text = souped.decode(\"utf-8-sig\").replace(u\"\\ufffd\", \"?\")\n",
    "    except:\n",
    "        text = souped\n",
    "\n",
    "    cleaned_text = re.sub(punctuation_handle, \" \",(re.sub(www_handle, '', re.sub(combined_handle, '', text)).lower()))\n",
    "    cleaned_text = ' '.join([word for word in cleaned_text.split() if word not in stopwords])\n",
    "\n",
    "    return (\" \".join([word for word in word_tokenize.tokenize(cleaned_text) if len(word) > 1])).strip()"
   ]
  },
  {
   "cell_type": "code",
   "execution_count": 178,
   "metadata": {
    "colab": {
     "base_uri": "https://localhost:8080/",
     "height": 52
    },
    "id": "C7EbhHmiz1Ue",
    "outputId": "e1f68fa1-5327-4153-9767-360f91dd899f"
   },
   "outputs": [
    {
     "data": {
      "text/plain": [
       "'stayed parents wife twin toddlers triple rooms hotel easy reach rooms placed furnished best feature extremely friendly helpful staff particularly ms annalucia ms anna ready listen help big smiles breakfasts good good spread guests welcome sit eat leisure important toddlers surely venice happily stay russo palace'"
      ]
     },
     "execution_count": 178,
     "metadata": {},
     "output_type": "execute_result"
    }
   ],
   "source": [
    "#test the above text cleaning method\n",
    "example_text = \"Stayed with parents, wife twin toddlers in two triple rooms. The hotel is easy to reach and the rooms were well placed well furnished. The best feature was extremely friendly helpful staff, particularly Ms. Annalucia Ms. Anna who were always ready to listen help out with big smiles. The breakfasts were very good, with good spread and the guests were made welcome to sit and eat at leisure (more important when you are with toddlers!) Would surely go back to Venice would happily stay again at Russo Palace.\"\n",
    "\n",
    "process_text(example_text)"
   ]
  },
  {
   "cell_type": "code",
   "execution_count": 179,
   "metadata": {
    "id": "f_5xovew_VtT"
   },
   "outputs": [],
   "source": [
    "stop_words = set(pd.read_csv('D:/MATA KULIAH/SEMESTER 7/PBA/Proyek/stop-word-list.txt', sep='\\n', header=0).stopword)\n",
    "lemmatizer = WordNetLemmatizer()\n",
    "\n",
    "def clean_text(text):\n",
    "    text = text.lower()\n",
    "    return re.sub(r'[^a-z]',' ',text)\n",
    "\n",
    "def lemmatize(tokens):\n",
    "    tokens = list(map(lemmatizer.lemmatize, tokens))\n",
    "    lemmatized_tokens = list(map(lambda x: lemmatizer.lemmatize(x, 'v'), tokens))\n",
    "    return ' '.join(list(filter(lambda x: not x in stop_words, lemmatized_tokens)))\n",
    "\n",
    "def preprocess(text):\n",
    "    text = clean_text(text)\n",
    "    tokens = word_tokenize(text)\n",
    "    return lemmatize(tokens)"
   ]
  },
  {
   "cell_type": "code",
   "execution_count": 183,
   "metadata": {
    "id": "Ob2i9LgrCBri"
   },
   "outputs": [
    {
     "name": "stderr",
     "output_type": "stream",
     "text": [
      "'cp' is not recognized as an internal or external command,\n",
      "operable program or batch file.\n",
      "'rm' is not recognized as an internal or external command,\n",
      "operable program or batch file.\n"
     ]
    }
   ],
   "source": [
    "corpus = corpus.loc[:,['reviews_text', 'response']]\n",
    "corpus.to_csv('cleaned.csv',sep='|',index=False)\n",
    "!cp cleaned.csv ./drive/My\\ Drive/data\n",
    "!rm cleaned.csv"
   ]
  },
  {
   "cell_type": "markdown",
   "metadata": {},
   "source": [
    "# Support Vector Machine¶"
   ]
  },
  {
   "cell_type": "code",
   "execution_count": null,
   "metadata": {},
   "outputs": [],
   "source": [
    "#importing lib\n",
    "import pandas as pd\n",
    "from sklearn import metrics\n",
    "from sklearn.model_selection import train_test_split\n",
    "from sklearn.feature_extraction.text import CountVectorizer\n",
    "from sklearn.svm import LinearSVC\n",
    "from sklearn.naive_bayes import MultinomialNB\n",
    "import seaborn as sns\n",
    "import pickle\n",
    "\n",
    "get_ipython().run_line_magic('matplotlib', 'inline')\n",
    "\n",
    "\n",
    "#read data\n",
    "corpus = pd.read_csv('C:/Users/acer/PBA Prak/Proyek/cleaned.csv')\n",
    "\n",
    "\n",
    "#cek review pos dan neg dalam corpus\n",
    "review_positif = len([x for x in corpus['response'] if x == 'positive'])\n",
    "review_negatif = len([x for x in corpus['response'] if x == 'negative'])\n",
    "print('Review Positif : ',review_positif)\n",
    "print('Review Negatif : ',review_negatif)\n",
    "\n",
    "\n",
    "\n",
    "import string\n",
    "#remove punctuation\n",
    "no_punctuations=[]\n",
    "i=0\n",
    "for word in corpus['reviews_text']:\n",
    "    for punctuation in string.punctuation:\n",
    "        word = word.replace(punctuation,\"\")\n",
    "    for number in '1234567890':\n",
    "        word = word.replace(number,\"\")\n",
    "    corpus['reviews_text'][i] = word\n",
    "    i = i+1\n",
    "    \n",
    "corpus['reviews_text'].head()\n",
    "\n",
    "\n",
    "\n",
    "x = corpus['reviews_text']\n",
    "y = corpus['response']\n",
    "\n",
    "\n",
    "\n",
    "#stopword remove, dan tokenisasi\n",
    "vect = CountVectorizer(stop_words='english', ngram_range = (1,1), max_df = .80, min_df = 4)\n",
    "\n",
    "\n",
    "#create X_train, X_test, y_train, y_test\n",
    "X_train, X_test, y_train, y_test = train_test_split(x,y,random_state=1, test_size= 0.2)\n",
    "\n",
    "\n",
    "\n",
    "#Using training data to transform text into counts of features for each review\n",
    "vect.fit(X_train)\n",
    "\n",
    "\n",
    "X_train_dtm = vect.transform(X_train) \n",
    "\n",
    "\n",
    "X_test_dtm = vect.transform(X_test)\n",
    "\n",
    "\n",
    "#Creating model using multinomial naive bayes\n",
    "NB = MultinomialNB()\n",
    "NB.fit(X_train_dtm, y_train)\n",
    "y_pred = NB.predict(X_test_dtm)\n",
    "\n",
    "\n",
    "#Check the pos vs neg review\n",
    "tokens_words = vect.get_feature_names()\n",
    "print('Analysis')\n",
    "print('No. of tokens: ',len(tokens_words))\n",
    "counts = NB.feature_count_\n",
    "df_table = {'Token':tokens_words,'Negative': counts[0,:],'Positive': counts[1,:]}\n",
    "tokens = pd.DataFrame(df_table, columns= ['Token','Positive','Negative'])\n",
    "positives = len(tokens[tokens['Positive']>tokens['Negative']])\n",
    "negatives = len(tokens_words)-positives\n",
    "print('No. of positive tokens: ',positives)\n",
    "print('No. of negative tokens: ',negatives)\n",
    "\n",
    "\n",
    "#Accuracy SVM\n",
    "SVM = LinearSVC()\n",
    "SVM.fit(X_train_dtm, y_train)\n",
    "y_pred = SVM.predict(X_test_dtm)\n",
    "print('Support Vector Machine')\n",
    "print('Accuracy Score: ',metrics.accuracy_score(y_test,y_pred)*100,'%',sep='')"
   ]
  },
  {
   "cell_type": "markdown",
   "metadata": {
    "id": "3FJh89p4O4Yo"
   },
   "source": [
    "\n",
    "# Classifier using Naive Bayes"
   ]
  },
  {
   "cell_type": "code",
   "execution_count": 97,
   "metadata": {},
   "outputs": [
    {
     "name": "stderr",
     "output_type": "stream",
     "text": [
      "c:\\users\\acer\\appdata\\local\\programs\\python\\python37\\lib\\site-packages\\ipykernel_launcher.py:9: SettingWithCopyWarning: \n",
      "A value is trying to be set on a copy of a slice from a DataFrame\n",
      "\n",
      "See the caveats in the documentation: https://pandas.pydata.org/pandas-docs/stable/user_guide/indexing.html#returning-a-view-versus-a-copy\n",
      "  if __name__ == '__main__':\n"
     ]
    },
    {
     "data": {
      "text/plain": [
       "1    Ett mycket bra hotell Det som drog ner betyget...\n",
       "2    Ett mycket bra hotell Det som drog ner betyget...\n",
       "3    Ett mycket bra hotell Det som drog ner betyget...\n",
       "4    Ett mycket bra hotell Det som drog ner betyget...\n",
       "5    Ett mycket bra hotell Det som drog ner betyget...\n",
       "Name: reviews_text, dtype: object"
      ]
     },
     "execution_count": 97,
     "metadata": {},
     "output_type": "execute_result"
    }
   ],
   "source": [
    "#remove punctuation\n",
    "no_punctuations=[]\n",
    "i=0\n",
    "for texts in corpus['reviews_text']:\n",
    "    for punctuation in string.punctuation:\n",
    "        texts = word.replace(punctuation,\"\")\n",
    "    for number in '1234567890':\n",
    "        texts = word.replace(number,\"\")\n",
    "    corpus['reviews_text'][i] = texts\n",
    "    i = i+1\n",
    "    \n",
    "corpus['reviews_text'].head()"
   ]
  },
  {
   "cell_type": "code",
   "execution_count": null,
   "metadata": {},
   "outputs": [],
   "source": [
    "#Multinomial NB kelas yang digunakan untuk menganalisis data\n",
    "class MultinomialNaiveBayes:\n",
    "    def __init__(self, classes, word_tokenize):\n",
    "       self.word_tokenize = WordPunctTokenizer()\n",
    "        self.classes = classes\n",
    "      \n",
    "    def group_by_class(self, X, y):\n",
    "        data = dict()\n",
    "        for c in self.classes:\n",
    "            data[c] = X[np.where(y == c)]\n",
    "        return data\n",
    "           \n",
    "    def fit(self, X, y):\n",
    "        self.n_class_items = {}\n",
    "        self.log_class_priors = {}\n",
    "        self.word_counts = {}\n",
    "        self.vocab = set()\n",
    "\n",
    "        n = len(X)\n",
    "        \n",
    "        grouped_data = self.group_by_class(X, y)\n",
    "        \n",
    "        for c, data in grouped_data.items():\n",
    "          self.n_class_items[c] = len(data)\n",
    "          self.log_class_priors[c] = math.log(self.n_class_items[c] / n)\n",
    "          self.word_counts[c] = defaultdict(lambda: 0)\n",
    "          \n",
    "          for text in data:\n",
    "            counts = Counter(self.tokenizer.tokenize(text))\n",
    "            for word, count in counts.items():\n",
    "                if word not in self.vocab:\n",
    "                    self.vocab.add(word)\n",
    "\n",
    "                self.word_counts[c][word] += count\n",
    "                \n",
    "        return self\n",
    "    #fungsi laplace smoothing untuk menghilangkan kemungkinan nilai 0 pada data      \n",
    "    def laplace_smoothing(self, word, text_class):\n",
    "        num = self.word_counts[text_class][word] + 1\n",
    "        denom = self.n_class_items[text_class] + len(self.vocab)\n",
    "        return math.log(num / denom)\n",
    "    #fungsi prediksi terhadap kata yang ditokenisasi terhadap sentiment berdasarkan review      \n",
    "    def predict(self, X):\n",
    "        result = []\n",
    "        for text in X:\n",
    "          \n",
    "          class_scores = {c: self.log_class_priors[c] for c in self.classes}\n",
    "\n",
    "          words = set(self.tokenizer.tokenize(text))\n",
    "          for word in words:\n",
    "              if word not in self.vocab: continue\n",
    "\n",
    "              for c in self.classes:\n",
    "                \n",
    "                log_w_given_c = self.laplace_smoothing(word, c)\n",
    "                class_scores[c] += log_w_given_c\n",
    "                \n",
    "          result.append(max(class_scores, key=class_scores.get))\n",
    "\n",
    "        return result\n",
    "    \n",
    "#membuat X_train, X_test, y_train, y_test\n",
    "X = corpus['reviews_text'].values\n",
    "y = corpus['response'].values\n",
    "  \n",
    "X_train, X_test, y_train, y_test = train_test_split(X, y, test_size=0.2, random_state=RANDOM_SEED)\n",
    "\n",
    "#memanggil fungsi MNB\n",
    "MNB = MultinomialNaiveBayes(\n",
    "    classes=np.unique(y), \n",
    "tokens = word_tokenize(text)\n",
    ").fit(X_train, y_train)\n",
    "\n",
    "\n",
    "#variabel baru untuk menyimpan hasil prediksi dari X_test\n",
    "y_hat = MNB.predict(X_test)\n",
    "\n",
    "accuracy_score(y_test, y_hat)\n",
    "\n",
    "print(classification_report(y_test, y_hat))\n",
    "\n",
    "#membuat data dengan confusion matrix dari y_test dan y_hat yang menyimpan nilai prediksi dari review\n",
    "cnf_matrix = confusion_matrix(y_test, y_hat)\n",
    "\n",
    "\n",
    "\n",
    "\n",
    "#menampilkan confusion matrix kedalam heatmap\n",
    "class_names = [\"Positive\", \"Negative\"]\n",
    "fig,ax = plt.subplots()\n",
    "\n",
    "sns.heatmap(pd.DataFrame(cnf_matrix), annot=True, cmap=\"Blues\", fmt=\"d\", cbar=False, xticklabels=class_names, yticklabels=class_names)\n",
    "ax.xaxis.set_label_position('top')\n",
    "plt.tight_layout()\n",
    "plt.ylabel('Actual sentiment')\n",
    "plt.xlabel('Predicted sentiment');\n",
    "\n",
    "\n",
    "\n",
    "#menghitung akurasi dari mnb\n",
    "from sklearn import metrics\n",
    "print('Accuracy Score: ',metrics.accuracy_score(y_test,y_hat)*100,'%',sep='')\n",
    "\n",
    "\n"
   ]
  },
  {
   "cell_type": "code",
   "execution_count": null,
   "metadata": {},
   "outputs": [],
   "source": []
  },
  {
   "cell_type": "code",
   "execution_count": null,
   "metadata": {},
   "outputs": [],
   "source": []
  }
 ],
 "metadata": {
  "colab": {
   "collapsed_sections": [],
   "name": "Sentiment Analysis Hotel Based on Review with Comparing Naive Bayes and SVM.ipynb",
   "provenance": []
  },
  "kernelspec": {
   "display_name": "Python 3",
   "language": "python",
   "name": "python3"
  },
  "language_info": {
   "codemirror_mode": {
    "name": "ipython",
    "version": 3
   },
   "file_extension": ".py",
   "mimetype": "text/x-python",
   "name": "python",
   "nbconvert_exporter": "python",
   "pygments_lexer": "ipython3",
   "version": "3.7.2"
  },
  "widgets": {
   "application/vnd.jupyter.widget-state+json": {
    "01d7d0bc78a64436abf2a5d4becbe8b7": {
     "model_module": "@jupyter-widgets/base",
     "model_name": "LayoutModel",
     "state": {
      "_model_module": "@jupyter-widgets/base",
      "_model_module_version": "1.2.0",
      "_model_name": "LayoutModel",
      "_view_count": null,
      "_view_module": "@jupyter-widgets/base",
      "_view_module_version": "1.2.0",
      "_view_name": "LayoutView",
      "align_content": null,
      "align_items": null,
      "align_self": null,
      "border": null,
      "bottom": null,
      "display": null,
      "flex": null,
      "flex_flow": null,
      "grid_area": null,
      "grid_auto_columns": null,
      "grid_auto_flow": null,
      "grid_auto_rows": null,
      "grid_column": null,
      "grid_gap": null,
      "grid_row": null,
      "grid_template_areas": null,
      "grid_template_columns": null,
      "grid_template_rows": null,
      "height": null,
      "justify_content": null,
      "justify_items": null,
      "left": null,
      "margin": null,
      "max_height": null,
      "max_width": null,
      "min_height": null,
      "min_width": null,
      "object_fit": null,
      "object_position": null,
      "order": null,
      "overflow": null,
      "overflow_x": null,
      "overflow_y": null,
      "padding": null,
      "right": null,
      "top": null,
      "visibility": null,
      "width": null
     }
    },
    "04f7b3aa8e784ef8be54f6ae4fc99179": {
     "model_module": "@jupyter-widgets/controls",
     "model_name": "HBoxModel",
     "state": {
      "_dom_classes": [],
      "_model_module": "@jupyter-widgets/controls",
      "_model_module_version": "1.5.0",
      "_model_name": "HBoxModel",
      "_view_count": null,
      "_view_module": "@jupyter-widgets/controls",
      "_view_module_version": "1.5.0",
      "_view_name": "HBoxView",
      "box_style": "",
      "children": [
       "IPY_MODEL_d23fc1f532f8442593bee93a5dfc3dfd",
       "IPY_MODEL_54a363c66caf424682ef2082e9b6c1f9"
      ],
      "layout": "IPY_MODEL_a8d5f55d71e64510a44afc58c087671c"
     }
    },
    "54a363c66caf424682ef2082e9b6c1f9": {
     "model_module": "@jupyter-widgets/controls",
     "model_name": "HTMLModel",
     "state": {
      "_dom_classes": [],
      "_model_module": "@jupyter-widgets/controls",
      "_model_module_version": "1.5.0",
      "_model_name": "HTMLModel",
      "_view_count": null,
      "_view_module": "@jupyter-widgets/controls",
      "_view_module_version": "1.5.0",
      "_view_name": "HTMLView",
      "description": "",
      "description_tooltip": null,
      "layout": "IPY_MODEL_7ebf80c8af7d4291beb51d2a3c869122",
      "placeholder": "​",
      "style": "IPY_MODEL_933a933617094563a75a7eebedcadfad",
      "value": " 0/? [00:00&lt;?, ?it/s]"
     }
    },
    "7ebf80c8af7d4291beb51d2a3c869122": {
     "model_module": "@jupyter-widgets/base",
     "model_name": "LayoutModel",
     "state": {
      "_model_module": "@jupyter-widgets/base",
      "_model_module_version": "1.2.0",
      "_model_name": "LayoutModel",
      "_view_count": null,
      "_view_module": "@jupyter-widgets/base",
      "_view_module_version": "1.2.0",
      "_view_name": "LayoutView",
      "align_content": null,
      "align_items": null,
      "align_self": null,
      "border": null,
      "bottom": null,
      "display": null,
      "flex": null,
      "flex_flow": null,
      "grid_area": null,
      "grid_auto_columns": null,
      "grid_auto_flow": null,
      "grid_auto_rows": null,
      "grid_column": null,
      "grid_gap": null,
      "grid_row": null,
      "grid_template_areas": null,
      "grid_template_columns": null,
      "grid_template_rows": null,
      "height": null,
      "justify_content": null,
      "justify_items": null,
      "left": null,
      "margin": null,
      "max_height": null,
      "max_width": null,
      "min_height": null,
      "min_width": null,
      "object_fit": null,
      "object_position": null,
      "order": null,
      "overflow": null,
      "overflow_x": null,
      "overflow_y": null,
      "padding": null,
      "right": null,
      "top": null,
      "visibility": null,
      "width": null
     }
    },
    "933a933617094563a75a7eebedcadfad": {
     "model_module": "@jupyter-widgets/controls",
     "model_name": "DescriptionStyleModel",
     "state": {
      "_model_module": "@jupyter-widgets/controls",
      "_model_module_version": "1.5.0",
      "_model_name": "DescriptionStyleModel",
      "_view_count": null,
      "_view_module": "@jupyter-widgets/base",
      "_view_module_version": "1.2.0",
      "_view_name": "StyleView",
      "description_width": ""
     }
    },
    "a8d5f55d71e64510a44afc58c087671c": {
     "model_module": "@jupyter-widgets/base",
     "model_name": "LayoutModel",
     "state": {
      "_model_module": "@jupyter-widgets/base",
      "_model_module_version": "1.2.0",
      "_model_name": "LayoutModel",
      "_view_count": null,
      "_view_module": "@jupyter-widgets/base",
      "_view_module_version": "1.2.0",
      "_view_name": "LayoutView",
      "align_content": null,
      "align_items": null,
      "align_self": null,
      "border": null,
      "bottom": null,
      "display": null,
      "flex": null,
      "flex_flow": null,
      "grid_area": null,
      "grid_auto_columns": null,
      "grid_auto_flow": null,
      "grid_auto_rows": null,
      "grid_column": null,
      "grid_gap": null,
      "grid_row": null,
      "grid_template_areas": null,
      "grid_template_columns": null,
      "grid_template_rows": null,
      "height": null,
      "justify_content": null,
      "justify_items": null,
      "left": null,
      "margin": null,
      "max_height": null,
      "max_width": null,
      "min_height": null,
      "min_width": null,
      "object_fit": null,
      "object_position": null,
      "order": null,
      "overflow": null,
      "overflow_x": null,
      "overflow_y": null,
      "padding": null,
      "right": null,
      "top": null,
      "visibility": null,
      "width": null
     }
    },
    "d23fc1f532f8442593bee93a5dfc3dfd": {
     "model_module": "@jupyter-widgets/controls",
     "model_name": "FloatProgressModel",
     "state": {
      "_dom_classes": [],
      "_model_module": "@jupyter-widgets/controls",
      "_model_module_version": "1.5.0",
      "_model_name": "FloatProgressModel",
      "_view_count": null,
      "_view_module": "@jupyter-widgets/controls",
      "_view_module_version": "1.5.0",
      "_view_name": "ProgressView",
      "bar_style": "info",
      "description": "",
      "description_tooltip": null,
      "layout": "IPY_MODEL_01d7d0bc78a64436abf2a5d4becbe8b7",
      "max": 1,
      "min": 0,
      "orientation": "horizontal",
      "style": "IPY_MODEL_f168177b721a4c0c927c5957b022eb1c",
      "value": 0
     }
    },
    "f168177b721a4c0c927c5957b022eb1c": {
     "model_module": "@jupyter-widgets/controls",
     "model_name": "ProgressStyleModel",
     "state": {
      "_model_module": "@jupyter-widgets/controls",
      "_model_module_version": "1.5.0",
      "_model_name": "ProgressStyleModel",
      "_view_count": null,
      "_view_module": "@jupyter-widgets/base",
      "_view_module_version": "1.2.0",
      "_view_name": "StyleView",
      "bar_color": null,
      "description_width": "initial"
     }
    }
   }
  }
 },
 "nbformat": 4,
 "nbformat_minor": 1
}
