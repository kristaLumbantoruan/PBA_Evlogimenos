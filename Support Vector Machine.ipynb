{
 "cells": [
  {
   "cell_type": "markdown",
   "metadata": {
    "id": "OEu3JsYqb3la"
   },
   "source": [
    "# NLP - Sentiment Analysis Hotel based on Review with Comparing Naive Bayes and SVM\n"
   ]
  },
  {
   "cell_type": "code",
   "execution_count": 1,
   "metadata": {
    "id": "GrOJLhACCWlc"
   },
   "outputs": [],
   "source": [
    "#import library\n",
    "\n",
    "import numpy as np\n",
    "#import pandas\n",
    "import pandas as pd\n",
    "import seaborn as sns\n",
    "from pylab import rcParams\n",
    "import string\n",
    "import re\n",
    "import matplotlib.pyplot as plt\n",
    "import math\n",
    "from sklearn.model_selection import train_test_split\n",
    "from collections import Counter, defaultdict\n",
    "from bs4 import BeautifulSoup\n",
    "from sklearn.metrics import accuracy_score\n",
    "from nltk.tokenize import WordPunctTokenizer\n",
    "from nltk.tokenize import RegexpTokenizer\n",
    "from sklearn.metrics import classification_report, confusion_matrix\n",
    "#import Natural Language Toolkit\n",
    "import nltk\n",
    "from nltk.stem import PorterStemmer\n",
    "from nltk.stem import WordNetLemmatizer\n",
    "from nltk.corpus import stopwords\n",
    "import os\n",
    "from sklearn.feature_extraction.text import CountVectorizer\n",
    "from sklearn.linear_model import LogisticRegression\n",
    "from sklearn.feature_extraction.text import TfidfVectorizer\n",
    "import time\n",
    "from sklearn import svm\n",
    "from sklearn.metrics import classification_report\n",
    "from sklearn import naive_bayes\n",
    "from sklearn.metrics import roc_auc_score"
   ]
  },
  {
   "cell_type": "markdown",
   "metadata": {
    "id": "igl8kKNMbxRD"
   },
   "source": [
    "# Data Facts and Import"
   ]
  },
  {
   "cell_type": "code",
   "execution_count": 2,
   "metadata": {
    "id": "XU2MVzvpYM44"
   },
   "outputs": [],
   "source": [
    "get_ipython().run_line_magic('matplotlib', 'inline')"
   ]
  },
  {
   "cell_type": "code",
   "execution_count": 3,
   "metadata": {
    "id": "I3pQ7ZrUYQKH"
   },
   "outputs": [],
   "source": [
    "sns.set(style='whitegrid', palette='muted', font_scale=1.5)"
   ]
  },
  {
   "cell_type": "code",
   "execution_count": 4,
   "metadata": {
    "id": "nWqEMABqYTE7"
   },
   "outputs": [],
   "source": [
    "rcParams['figure.figsize'] = 10, 10\n",
    "RANDOM_SEED = 42\n",
    "np.random.seed(RANDOM_SEED)"
   ]
  },
  {
   "cell_type": "code",
   "execution_count": 5,
   "metadata": {
    "id": "GaEk78dOYaHH"
   },
   "outputs": [],
   "source": [
    "#import data\n",
    "corpus = pd.read_csv(\"./Review's Hotel.csv\")"
   ]
  },
  {
   "cell_type": "code",
   "execution_count": 6,
   "metadata": {
    "colab": {
     "base_uri": "https://localhost:8080/"
    },
    "id": "p96xWhv4cUO9",
    "outputId": "889cb393-fcef-4a6a-fd42-f42076cec4bb"
   },
   "outputs": [
    {
     "data": {
      "text/plain": [
       "(35912, 19)"
      ]
     },
     "execution_count": 6,
     "metadata": {},
     "output_type": "execute_result"
    }
   ],
   "source": [
    "#Check the shape (number of columns and rows) in the dataset\n",
    "corpus.shape"
   ]
  },
  {
   "cell_type": "code",
   "execution_count": 7,
   "metadata": {
    "colab": {
     "base_uri": "https://localhost:8080/"
    },
    "id": "Okzxun_NTsTv",
    "outputId": "b784c501-e351-4173-af46-50456c525b81"
   },
   "outputs": [
    {
     "name": "stdout",
     "output_type": "stream",
     "text": [
      "Panjang Corpus :  35912\n"
     ]
    }
   ],
   "source": [
    "print('Panjang Corpus : ',len(corpus))"
   ]
  },
  {
   "cell_type": "code",
   "execution_count": 8,
   "metadata": {
    "colab": {
     "base_uri": "https://localhost:8080/",
     "height": 910
    },
    "id": "rQt3EUyBYg7L",
    "outputId": "903550a9-ff95-41b3-f9c5-97bc72312c20"
   },
   "outputs": [
    {
     "data": {
      "text/html": [
       "<div>\n",
       "<style scoped>\n",
       "    .dataframe tbody tr th:only-of-type {\n",
       "        vertical-align: middle;\n",
       "    }\n",
       "\n",
       "    .dataframe tbody tr th {\n",
       "        vertical-align: top;\n",
       "    }\n",
       "\n",
       "    .dataframe thead th {\n",
       "        text-align: right;\n",
       "    }\n",
       "</style>\n",
       "<table border=\"1\" class=\"dataframe\">\n",
       "  <thead>\n",
       "    <tr style=\"text-align: right;\">\n",
       "      <th></th>\n",
       "      <th>address</th>\n",
       "      <th>categories</th>\n",
       "      <th>city</th>\n",
       "      <th>country</th>\n",
       "      <th>latitude</th>\n",
       "      <th>longitude</th>\n",
       "      <th>name</th>\n",
       "      <th>postalCode</th>\n",
       "      <th>province</th>\n",
       "      <th>reviews_date</th>\n",
       "      <th>reviews_dateAdded</th>\n",
       "      <th>reviews_doRecommend</th>\n",
       "      <th>reviews_id</th>\n",
       "      <th>reviews_rating</th>\n",
       "      <th>reviews_text</th>\n",
       "      <th>reviews_title</th>\n",
       "      <th>reviews_userCity</th>\n",
       "      <th>reviews_username</th>\n",
       "      <th>reviews_userProvince</th>\n",
       "    </tr>\n",
       "  </thead>\n",
       "  <tbody>\n",
       "    <tr>\n",
       "      <th>0</th>\n",
       "      <td>Riviera San Nicol 11/a</td>\n",
       "      <td>Hotels</td>\n",
       "      <td>Mableton</td>\n",
       "      <td>US</td>\n",
       "      <td>45.421611</td>\n",
       "      <td>12.376187</td>\n",
       "      <td>Hotel Russo Palace</td>\n",
       "      <td>30126</td>\n",
       "      <td>GA</td>\n",
       "      <td>2013-09-22T00:00:00Z</td>\n",
       "      <td>2016-10-24T00:00:25Z</td>\n",
       "      <td>NaN</td>\n",
       "      <td>NaN</td>\n",
       "      <td>4.0</td>\n",
       "      <td>Pleasant 10 min walk along the sea front to th...</td>\n",
       "      <td>Good location away from the crouds</td>\n",
       "      <td>NaN</td>\n",
       "      <td>Russ (kent)</td>\n",
       "      <td>NaN</td>\n",
       "    </tr>\n",
       "    <tr>\n",
       "      <th>1</th>\n",
       "      <td>Riviera San Nicol 11/a</td>\n",
       "      <td>Hotels</td>\n",
       "      <td>Mableton</td>\n",
       "      <td>US</td>\n",
       "      <td>45.421611</td>\n",
       "      <td>12.376187</td>\n",
       "      <td>Hotel Russo Palace</td>\n",
       "      <td>30126</td>\n",
       "      <td>GA</td>\n",
       "      <td>2015-04-03T00:00:00Z</td>\n",
       "      <td>2016-10-24T00:00:25Z</td>\n",
       "      <td>NaN</td>\n",
       "      <td>NaN</td>\n",
       "      <td>5.0</td>\n",
       "      <td>Really lovely hotel. Stayed on the very top fl...</td>\n",
       "      <td>Great hotel with Jacuzzi bath!</td>\n",
       "      <td>NaN</td>\n",
       "      <td>A Traveler</td>\n",
       "      <td>NaN</td>\n",
       "    </tr>\n",
       "    <tr>\n",
       "      <th>2</th>\n",
       "      <td>Riviera San Nicol 11/a</td>\n",
       "      <td>Hotels</td>\n",
       "      <td>Mableton</td>\n",
       "      <td>US</td>\n",
       "      <td>45.421611</td>\n",
       "      <td>12.376187</td>\n",
       "      <td>Hotel Russo Palace</td>\n",
       "      <td>30126</td>\n",
       "      <td>GA</td>\n",
       "      <td>2014-05-13T00:00:00Z</td>\n",
       "      <td>2016-10-24T00:00:25Z</td>\n",
       "      <td>NaN</td>\n",
       "      <td>NaN</td>\n",
       "      <td>5.0</td>\n",
       "      <td>Ett mycket bra hotell. Det som drog ner betyge...</td>\n",
       "      <td>Lugnt l��ge</td>\n",
       "      <td>NaN</td>\n",
       "      <td>Maud</td>\n",
       "      <td>NaN</td>\n",
       "    </tr>\n",
       "    <tr>\n",
       "      <th>3</th>\n",
       "      <td>Riviera San Nicol 11/a</td>\n",
       "      <td>Hotels</td>\n",
       "      <td>Mableton</td>\n",
       "      <td>US</td>\n",
       "      <td>45.421611</td>\n",
       "      <td>12.376187</td>\n",
       "      <td>Hotel Russo Palace</td>\n",
       "      <td>30126</td>\n",
       "      <td>GA</td>\n",
       "      <td>2013-10-27T00:00:00Z</td>\n",
       "      <td>2016-10-24T00:00:25Z</td>\n",
       "      <td>NaN</td>\n",
       "      <td>NaN</td>\n",
       "      <td>5.0</td>\n",
       "      <td>We stayed here for four nights in October. The...</td>\n",
       "      <td>Good location on the Lido.</td>\n",
       "      <td>NaN</td>\n",
       "      <td>Julie</td>\n",
       "      <td>NaN</td>\n",
       "    </tr>\n",
       "    <tr>\n",
       "      <th>4</th>\n",
       "      <td>Riviera San Nicol 11/a</td>\n",
       "      <td>Hotels</td>\n",
       "      <td>Mableton</td>\n",
       "      <td>US</td>\n",
       "      <td>45.421611</td>\n",
       "      <td>12.376187</td>\n",
       "      <td>Hotel Russo Palace</td>\n",
       "      <td>30126</td>\n",
       "      <td>GA</td>\n",
       "      <td>2015-03-05T00:00:00Z</td>\n",
       "      <td>2016-10-24T00:00:25Z</td>\n",
       "      <td>NaN</td>\n",
       "      <td>NaN</td>\n",
       "      <td>5.0</td>\n",
       "      <td>We stayed here for four nights in October. The...</td>\n",
       "      <td>������ ���������������</td>\n",
       "      <td>NaN</td>\n",
       "      <td>sungchul</td>\n",
       "      <td>NaN</td>\n",
       "    </tr>\n",
       "  </tbody>\n",
       "</table>\n",
       "</div>"
      ],
      "text/plain": [
       "                  address categories      city country   latitude  longitude  \\\n",
       "0  Riviera San Nicol 11/a     Hotels  Mableton      US  45.421611  12.376187   \n",
       "1  Riviera San Nicol 11/a     Hotels  Mableton      US  45.421611  12.376187   \n",
       "2  Riviera San Nicol 11/a     Hotels  Mableton      US  45.421611  12.376187   \n",
       "3  Riviera San Nicol 11/a     Hotels  Mableton      US  45.421611  12.376187   \n",
       "4  Riviera San Nicol 11/a     Hotels  Mableton      US  45.421611  12.376187   \n",
       "\n",
       "                 name postalCode province          reviews_date  \\\n",
       "0  Hotel Russo Palace      30126       GA  2013-09-22T00:00:00Z   \n",
       "1  Hotel Russo Palace      30126       GA  2015-04-03T00:00:00Z   \n",
       "2  Hotel Russo Palace      30126       GA  2014-05-13T00:00:00Z   \n",
       "3  Hotel Russo Palace      30126       GA  2013-10-27T00:00:00Z   \n",
       "4  Hotel Russo Palace      30126       GA  2015-03-05T00:00:00Z   \n",
       "\n",
       "      reviews_dateAdded  reviews_doRecommend  reviews_id  reviews_rating  \\\n",
       "0  2016-10-24T00:00:25Z                  NaN         NaN             4.0   \n",
       "1  2016-10-24T00:00:25Z                  NaN         NaN             5.0   \n",
       "2  2016-10-24T00:00:25Z                  NaN         NaN             5.0   \n",
       "3  2016-10-24T00:00:25Z                  NaN         NaN             5.0   \n",
       "4  2016-10-24T00:00:25Z                  NaN         NaN             5.0   \n",
       "\n",
       "                                        reviews_text  \\\n",
       "0  Pleasant 10 min walk along the sea front to th...   \n",
       "1  Really lovely hotel. Stayed on the very top fl...   \n",
       "2  Ett mycket bra hotell. Det som drog ner betyge...   \n",
       "3  We stayed here for four nights in October. The...   \n",
       "4  We stayed here for four nights in October. The...   \n",
       "\n",
       "                        reviews_title reviews_userCity reviews_username  \\\n",
       "0  Good location away from the crouds              NaN      Russ (kent)   \n",
       "1      Great hotel with Jacuzzi bath!              NaN       A Traveler   \n",
       "2                         Lugnt l��ge              NaN             Maud   \n",
       "3          Good location on the Lido.              NaN            Julie   \n",
       "4              ������ ���������������              NaN         sungchul   \n",
       "\n",
       "  reviews_userProvince  \n",
       "0                  NaN  \n",
       "1                  NaN  \n",
       "2                  NaN  \n",
       "3                  NaN  \n",
       "4                  NaN  "
      ]
     },
     "execution_count": 8,
     "metadata": {},
     "output_type": "execute_result"
    }
   ],
   "source": [
    "#Show data\n",
    "corpus.head()"
   ]
  },
  {
   "cell_type": "markdown",
   "metadata": {},
   "source": [
    "# Exploratory Data Analysis"
   ]
  },
  {
   "cell_type": "code",
   "execution_count": 9,
   "metadata": {
    "colab": {
     "base_uri": "https://localhost:8080/"
    },
    "id": "iJNSiz_6c3JR",
    "outputId": "56bf6996-125b-4126-cf43-f79c602cc4a8"
   },
   "outputs": [
    {
     "name": "stdout",
     "output_type": "stream",
     "text": [
      "<class 'pandas.core.frame.DataFrame'>\n",
      "RangeIndex: 35912 entries, 0 to 35911\n",
      "Data columns (total 19 columns):\n",
      " #   Column                Non-Null Count  Dtype  \n",
      "---  ------                --------------  -----  \n",
      " 0   address               35912 non-null  object \n",
      " 1   categories            35912 non-null  object \n",
      " 2   city                  35912 non-null  object \n",
      " 3   country               35912 non-null  object \n",
      " 4   latitude              35826 non-null  float64\n",
      " 5   longitude             35826 non-null  float64\n",
      " 6   name                  35912 non-null  object \n",
      " 7   postalCode            35857 non-null  object \n",
      " 8   province              35912 non-null  object \n",
      " 9   reviews_date          35653 non-null  object \n",
      " 10  reviews_dateAdded     35912 non-null  object \n",
      " 11  reviews_doRecommend   0 non-null      float64\n",
      " 12  reviews_id            0 non-null      float64\n",
      " 13  reviews_rating        35050 non-null  float64\n",
      " 14  reviews_text          35890 non-null  object \n",
      " 15  reviews_title         34290 non-null  object \n",
      " 16  reviews_userCity      16263 non-null  object \n",
      " 17  reviews_username      35869 non-null  object \n",
      " 18  reviews_userProvince  17518 non-null  object \n",
      "dtypes: float64(5), object(14)\n",
      "memory usage: 5.2+ MB\n"
     ]
    }
   ],
   "source": [
    "corpus.info()"
   ]
  },
  {
   "cell_type": "code",
   "execution_count": 10,
   "metadata": {
    "colab": {
     "base_uri": "https://localhost:8080/",
     "height": 287
    },
    "id": "VbBvgXaNc-Fi",
    "outputId": "5e8e8685-8f29-43a5-916c-8651ea545daa"
   },
   "outputs": [
    {
     "data": {
      "text/html": [
       "<div>\n",
       "<style scoped>\n",
       "    .dataframe tbody tr th:only-of-type {\n",
       "        vertical-align: middle;\n",
       "    }\n",
       "\n",
       "    .dataframe tbody tr th {\n",
       "        vertical-align: top;\n",
       "    }\n",
       "\n",
       "    .dataframe thead th {\n",
       "        text-align: right;\n",
       "    }\n",
       "</style>\n",
       "<table border=\"1\" class=\"dataframe\">\n",
       "  <thead>\n",
       "    <tr style=\"text-align: right;\">\n",
       "      <th></th>\n",
       "      <th>latitude</th>\n",
       "      <th>longitude</th>\n",
       "      <th>reviews_doRecommend</th>\n",
       "      <th>reviews_id</th>\n",
       "      <th>reviews_rating</th>\n",
       "    </tr>\n",
       "  </thead>\n",
       "  <tbody>\n",
       "    <tr>\n",
       "      <th>count</th>\n",
       "      <td>35826.000000</td>\n",
       "      <td>35826.000000</td>\n",
       "      <td>0.0</td>\n",
       "      <td>0.0</td>\n",
       "      <td>35050.000000</td>\n",
       "    </tr>\n",
       "    <tr>\n",
       "      <th>mean</th>\n",
       "      <td>37.285008</td>\n",
       "      <td>-85.725758</td>\n",
       "      <td>NaN</td>\n",
       "      <td>NaN</td>\n",
       "      <td>3.776431</td>\n",
       "    </tr>\n",
       "    <tr>\n",
       "      <th>std</th>\n",
       "      <td>6.996544</td>\n",
       "      <td>33.062263</td>\n",
       "      <td>NaN</td>\n",
       "      <td>NaN</td>\n",
       "      <td>1.416195</td>\n",
       "    </tr>\n",
       "    <tr>\n",
       "      <th>min</th>\n",
       "      <td>-25.436750</td>\n",
       "      <td>-166.559040</td>\n",
       "      <td>NaN</td>\n",
       "      <td>NaN</td>\n",
       "      <td>0.000000</td>\n",
       "    </tr>\n",
       "    <tr>\n",
       "      <th>25%</th>\n",
       "      <td>33.827340</td>\n",
       "      <td>-104.868200</td>\n",
       "      <td>NaN</td>\n",
       "      <td>NaN</td>\n",
       "      <td>3.000000</td>\n",
       "    </tr>\n",
       "    <tr>\n",
       "      <th>50%</th>\n",
       "      <td>37.936026</td>\n",
       "      <td>-86.822972</td>\n",
       "      <td>NaN</td>\n",
       "      <td>NaN</td>\n",
       "      <td>4.000000</td>\n",
       "    </tr>\n",
       "    <tr>\n",
       "      <th>75%</th>\n",
       "      <td>41.672491</td>\n",
       "      <td>-77.044550</td>\n",
       "      <td>NaN</td>\n",
       "      <td>NaN</td>\n",
       "      <td>5.000000</td>\n",
       "    </tr>\n",
       "    <tr>\n",
       "      <th>max</th>\n",
       "      <td>63.877674</td>\n",
       "      <td>115.164407</td>\n",
       "      <td>NaN</td>\n",
       "      <td>NaN</td>\n",
       "      <td>10.000000</td>\n",
       "    </tr>\n",
       "  </tbody>\n",
       "</table>\n",
       "</div>"
      ],
      "text/plain": [
       "           latitude     longitude  reviews_doRecommend  reviews_id  \\\n",
       "count  35826.000000  35826.000000                  0.0         0.0   \n",
       "mean      37.285008    -85.725758                  NaN         NaN   \n",
       "std        6.996544     33.062263                  NaN         NaN   \n",
       "min      -25.436750   -166.559040                  NaN         NaN   \n",
       "25%       33.827340   -104.868200                  NaN         NaN   \n",
       "50%       37.936026    -86.822972                  NaN         NaN   \n",
       "75%       41.672491    -77.044550                  NaN         NaN   \n",
       "max       63.877674    115.164407                  NaN         NaN   \n",
       "\n",
       "       reviews_rating  \n",
       "count    35050.000000  \n",
       "mean         3.776431  \n",
       "std          1.416195  \n",
       "min          0.000000  \n",
       "25%          3.000000  \n",
       "50%          4.000000  \n",
       "75%          5.000000  \n",
       "max         10.000000  "
      ]
     },
     "execution_count": 10,
     "metadata": {},
     "output_type": "execute_result"
    }
   ],
   "source": [
    "#display descriptive statistics\n",
    "corpus.describe()"
   ]
  },
  {
   "cell_type": "code",
   "execution_count": 11,
   "metadata": {
    "colab": {
     "base_uri": "https://localhost:8080/"
    },
    "id": "Mri3IEHw_4yn",
    "outputId": "9056c8e4-5e6c-4c2d-9ebc-9983543c336c"
   },
   "outputs": [
    {
     "name": "stdout",
     "output_type": "stream",
     "text": [
      "Mean of hotel reviews:  4\n"
     ]
    }
   ],
   "source": [
    "\n",
    "print('Mean of hotel reviews: ', round(corpus['reviews_rating'].mean()))"
   ]
  },
  {
   "cell_type": "code",
   "execution_count": 12,
   "metadata": {
    "colab": {
     "base_uri": "https://localhost:8080/"
    },
    "id": "nfAZ1rrNE-ZJ",
    "outputId": "9d53245d-3aba-4a4d-ba64-fd08f3a81a7e"
   },
   "outputs": [
    {
     "data": {
      "text/plain": [
       "address                     0\n",
       "categories                  0\n",
       "city                        0\n",
       "country                     0\n",
       "latitude                   86\n",
       "longitude                  86\n",
       "name                        0\n",
       "postalCode                 55\n",
       "province                    0\n",
       "reviews_date              259\n",
       "reviews_dateAdded           0\n",
       "reviews_doRecommend     35912\n",
       "reviews_id              35912\n",
       "reviews_rating            862\n",
       "reviews_text               22\n",
       "reviews_title            1622\n",
       "reviews_userCity        19649\n",
       "reviews_username           43\n",
       "reviews_userProvince    18394\n",
       "dtype: int64"
      ]
     },
     "execution_count": 12,
     "metadata": {},
     "output_type": "execute_result"
    }
   ],
   "source": [
    "#Check for missing values in the dataset\n",
    "corpus.isnull().sum(axis=0)"
   ]
  },
  {
   "cell_type": "code",
   "execution_count": 13,
   "metadata": {
    "colab": {
     "base_uri": "https://localhost:8080/",
     "height": 184
    },
    "id": "7S6fDuxXdGoN",
    "outputId": "50ed2d08-3744-4225-f844-0d13876a5ec7"
   },
   "outputs": [
    {
     "name": "stdout",
     "output_type": "stream",
     "text": [
      "Count and percentage of missing value for the columns:\n"
     ]
    },
    {
     "data": {
      "text/html": [
       "<div>\n",
       "<style scoped>\n",
       "    .dataframe tbody tr th:only-of-type {\n",
       "        vertical-align: middle;\n",
       "    }\n",
       "\n",
       "    .dataframe tbody tr th {\n",
       "        vertical-align: top;\n",
       "    }\n",
       "\n",
       "    .dataframe thead th {\n",
       "        text-align: right;\n",
       "    }\n",
       "</style>\n",
       "<table border=\"1\" class=\"dataframe\">\n",
       "  <thead>\n",
       "    <tr style=\"text-align: right;\">\n",
       "      <th></th>\n",
       "      <th>Count</th>\n",
       "      <th>Percentage</th>\n",
       "    </tr>\n",
       "  </thead>\n",
       "  <tbody>\n",
       "    <tr>\n",
       "      <th>reviews_id</th>\n",
       "      <td>35912</td>\n",
       "      <td>100.000000</td>\n",
       "    </tr>\n",
       "    <tr>\n",
       "      <th>reviews_doRecommend</th>\n",
       "      <td>35912</td>\n",
       "      <td>100.000000</td>\n",
       "    </tr>\n",
       "    <tr>\n",
       "      <th>reviews_userCity</th>\n",
       "      <td>19649</td>\n",
       "      <td>54.714302</td>\n",
       "    </tr>\n",
       "    <tr>\n",
       "      <th>reviews_userProvince</th>\n",
       "      <td>18394</td>\n",
       "      <td>51.219648</td>\n",
       "    </tr>\n",
       "  </tbody>\n",
       "</table>\n",
       "</div>"
      ],
      "text/plain": [
       "                      Count  Percentage\n",
       "reviews_id            35912  100.000000\n",
       "reviews_doRecommend   35912  100.000000\n",
       "reviews_userCity      19649   54.714302\n",
       "reviews_userProvince  18394   51.219648"
      ]
     },
     "execution_count": 13,
     "metadata": {},
     "output_type": "execute_result"
    }
   ],
   "source": [
    "#Checking Missing value in the dataset and printing the percentage for missing value for each column\n",
    "count = corpus.isnull().sum().sort_values(ascending=False)\n",
    "percentage = (corpus.isnull().sum()/corpus.isnull().count()).sort_values(ascending=False)\n",
    "missing_data = pd.concat([count, percentage], axis=1,\n",
    "keys=['Count', 'Percentage'])\n",
    "\n",
    "print('Count and percentage of missing value for the columns:')\n",
    "missing_data['Percentage']=missing_data['Percentage'].apply(lambda x: x*100)\n",
    "missing_data.loc[missing_data['Percentage'] > 10][:10]\n"
   ]
  },
  {
   "cell_type": "code",
   "execution_count": 14,
   "metadata": {},
   "outputs": [
    {
     "data": {
      "text/html": [
       "<div>\n",
       "<style scoped>\n",
       "    .dataframe tbody tr th:only-of-type {\n",
       "        vertical-align: middle;\n",
       "    }\n",
       "\n",
       "    .dataframe tbody tr th {\n",
       "        vertical-align: top;\n",
       "    }\n",
       "\n",
       "    .dataframe thead th {\n",
       "        text-align: right;\n",
       "    }\n",
       "</style>\n",
       "<table border=\"1\" class=\"dataframe\">\n",
       "  <thead>\n",
       "    <tr style=\"text-align: right;\">\n",
       "      <th></th>\n",
       "      <th>reviews_rating</th>\n",
       "      <th>No of Users</th>\n",
       "    </tr>\n",
       "  </thead>\n",
       "  <tbody>\n",
       "    <tr>\n",
       "      <th>0</th>\n",
       "      <td>5.0</td>\n",
       "      <td>12671</td>\n",
       "    </tr>\n",
       "    <tr>\n",
       "      <th>1</th>\n",
       "      <td>4.0</td>\n",
       "      <td>9755</td>\n",
       "    </tr>\n",
       "    <tr>\n",
       "      <th>2</th>\n",
       "      <td>3.0</td>\n",
       "      <td>5708</td>\n",
       "    </tr>\n",
       "    <tr>\n",
       "      <th>3</th>\n",
       "      <td>1.0</td>\n",
       "      <td>3068</td>\n",
       "    </tr>\n",
       "    <tr>\n",
       "      <th>4</th>\n",
       "      <td>2.0</td>\n",
       "      <td>2979</td>\n",
       "    </tr>\n",
       "    <tr>\n",
       "      <th>5</th>\n",
       "      <td>0.0</td>\n",
       "      <td>337</td>\n",
       "    </tr>\n",
       "    <tr>\n",
       "      <th>6</th>\n",
       "      <td>10.0</td>\n",
       "      <td>101</td>\n",
       "    </tr>\n",
       "    <tr>\n",
       "      <th>7</th>\n",
       "      <td>9.6</td>\n",
       "      <td>53</td>\n",
       "    </tr>\n",
       "    <tr>\n",
       "      <th>8</th>\n",
       "      <td>9.2</td>\n",
       "      <td>49</td>\n",
       "    </tr>\n",
       "    <tr>\n",
       "      <th>9</th>\n",
       "      <td>4.3</td>\n",
       "      <td>26</td>\n",
       "    </tr>\n",
       "    <tr>\n",
       "      <th>10</th>\n",
       "      <td>8.3</td>\n",
       "      <td>25</td>\n",
       "    </tr>\n",
       "    <tr>\n",
       "      <th>11</th>\n",
       "      <td>4.8</td>\n",
       "      <td>25</td>\n",
       "    </tr>\n",
       "    <tr>\n",
       "      <th>12</th>\n",
       "      <td>7.9</td>\n",
       "      <td>24</td>\n",
       "    </tr>\n",
       "    <tr>\n",
       "      <th>13</th>\n",
       "      <td>8.8</td>\n",
       "      <td>24</td>\n",
       "    </tr>\n",
       "    <tr>\n",
       "      <th>14</th>\n",
       "      <td>7.5</td>\n",
       "      <td>24</td>\n",
       "    </tr>\n",
       "    <tr>\n",
       "      <th>15</th>\n",
       "      <td>4.2</td>\n",
       "      <td>22</td>\n",
       "    </tr>\n",
       "    <tr>\n",
       "      <th>16</th>\n",
       "      <td>3.4</td>\n",
       "      <td>17</td>\n",
       "    </tr>\n",
       "    <tr>\n",
       "      <th>17</th>\n",
       "      <td>6.3</td>\n",
       "      <td>14</td>\n",
       "    </tr>\n",
       "    <tr>\n",
       "      <th>18</th>\n",
       "      <td>4.1</td>\n",
       "      <td>14</td>\n",
       "    </tr>\n",
       "    <tr>\n",
       "      <th>19</th>\n",
       "      <td>7.1</td>\n",
       "      <td>13</td>\n",
       "    </tr>\n",
       "    <tr>\n",
       "      <th>20</th>\n",
       "      <td>4.5</td>\n",
       "      <td>13</td>\n",
       "    </tr>\n",
       "    <tr>\n",
       "      <th>21</th>\n",
       "      <td>6.7</td>\n",
       "      <td>12</td>\n",
       "    </tr>\n",
       "    <tr>\n",
       "      <th>22</th>\n",
       "      <td>5.4</td>\n",
       "      <td>9</td>\n",
       "    </tr>\n",
       "    <tr>\n",
       "      <th>23</th>\n",
       "      <td>4.6</td>\n",
       "      <td>7</td>\n",
       "    </tr>\n",
       "    <tr>\n",
       "      <th>24</th>\n",
       "      <td>3.1</td>\n",
       "      <td>7</td>\n",
       "    </tr>\n",
       "    <tr>\n",
       "      <th>25</th>\n",
       "      <td>5.8</td>\n",
       "      <td>6</td>\n",
       "    </tr>\n",
       "    <tr>\n",
       "      <th>26</th>\n",
       "      <td>4.9</td>\n",
       "      <td>6</td>\n",
       "    </tr>\n",
       "    <tr>\n",
       "      <th>27</th>\n",
       "      <td>3.3</td>\n",
       "      <td>6</td>\n",
       "    </tr>\n",
       "    <tr>\n",
       "      <th>28</th>\n",
       "      <td>4.4</td>\n",
       "      <td>6</td>\n",
       "    </tr>\n",
       "    <tr>\n",
       "      <th>29</th>\n",
       "      <td>4.7</td>\n",
       "      <td>6</td>\n",
       "    </tr>\n",
       "    <tr>\n",
       "      <th>30</th>\n",
       "      <td>2.4</td>\n",
       "      <td>4</td>\n",
       "    </tr>\n",
       "    <tr>\n",
       "      <th>31</th>\n",
       "      <td>3.8</td>\n",
       "      <td>3</td>\n",
       "    </tr>\n",
       "    <tr>\n",
       "      <th>32</th>\n",
       "      <td>2.5</td>\n",
       "      <td>3</td>\n",
       "    </tr>\n",
       "    <tr>\n",
       "      <th>33</th>\n",
       "      <td>3.7</td>\n",
       "      <td>2</td>\n",
       "    </tr>\n",
       "    <tr>\n",
       "      <th>34</th>\n",
       "      <td>3.2</td>\n",
       "      <td>2</td>\n",
       "    </tr>\n",
       "    <tr>\n",
       "      <th>35</th>\n",
       "      <td>3.9</td>\n",
       "      <td>2</td>\n",
       "    </tr>\n",
       "    <tr>\n",
       "      <th>36</th>\n",
       "      <td>2.9</td>\n",
       "      <td>1</td>\n",
       "    </tr>\n",
       "    <tr>\n",
       "      <th>37</th>\n",
       "      <td>2.8</td>\n",
       "      <td>1</td>\n",
       "    </tr>\n",
       "    <tr>\n",
       "      <th>38</th>\n",
       "      <td>7.0</td>\n",
       "      <td>1</td>\n",
       "    </tr>\n",
       "    <tr>\n",
       "      <th>39</th>\n",
       "      <td>1.5</td>\n",
       "      <td>1</td>\n",
       "    </tr>\n",
       "    <tr>\n",
       "      <th>40</th>\n",
       "      <td>1.3</td>\n",
       "      <td>1</td>\n",
       "    </tr>\n",
       "    <tr>\n",
       "      <th>41</th>\n",
       "      <td>9.5</td>\n",
       "      <td>1</td>\n",
       "    </tr>\n",
       "    <tr>\n",
       "      <th>42</th>\n",
       "      <td>6.0</td>\n",
       "      <td>1</td>\n",
       "    </tr>\n",
       "  </tbody>\n",
       "</table>\n",
       "</div>"
      ],
      "text/plain": [
       "    reviews_rating  No of Users\n",
       "0              5.0        12671\n",
       "1              4.0         9755\n",
       "2              3.0         5708\n",
       "3              1.0         3068\n",
       "4              2.0         2979\n",
       "5              0.0          337\n",
       "6             10.0          101\n",
       "7              9.6           53\n",
       "8              9.2           49\n",
       "9              4.3           26\n",
       "10             8.3           25\n",
       "11             4.8           25\n",
       "12             7.9           24\n",
       "13             8.8           24\n",
       "14             7.5           24\n",
       "15             4.2           22\n",
       "16             3.4           17\n",
       "17             6.3           14\n",
       "18             4.1           14\n",
       "19             7.1           13\n",
       "20             4.5           13\n",
       "21             6.7           12\n",
       "22             5.4            9\n",
       "23             4.6            7\n",
       "24             3.1            7\n",
       "25             5.8            6\n",
       "26             4.9            6\n",
       "27             3.3            6\n",
       "28             4.4            6\n",
       "29             4.7            6\n",
       "30             2.4            4\n",
       "31             3.8            3\n",
       "32             2.5            3\n",
       "33             3.7            2\n",
       "34             3.2            2\n",
       "35             3.9            2\n",
       "36             2.9            1\n",
       "37             2.8            1\n",
       "38             7.0            1\n",
       "39             1.5            1\n",
       "40             1.3            1\n",
       "41             9.5            1\n",
       "42             6.0            1"
      ]
     },
     "execution_count": 14,
     "metadata": {},
     "output_type": "execute_result"
    }
   ],
   "source": [
    "#check sum of each reviews_rating\n",
    "review=pd.DataFrame(corpus.groupby('reviews_rating').size().sort_values(ascending=False).rename('No of Users').reset_index())\n",
    "review"
   ]
  },
  {
   "cell_type": "code",
   "execution_count": 15,
   "metadata": {},
   "outputs": [
    {
     "data": {
      "text/plain": [
       "array([ 4. ,  5. ,  3. ,  1. ,  2. ,  0. ,  4.1,  nan,  4.9,  4.8,  3.4,\n",
       "        2.4,  3.1,  3.2,  3.3,  9.6, 10. ,  8.3,  8.8,  9.2,  7.5,  7.9,\n",
       "        7.1,  3.8,  5.8,  6.7,  6.3,  4.2,  4.5,  3.9,  1.3,  4.3,  4.7,\n",
       "        2.8,  4.4,  1.5,  4.6,  3.7,  5.4,  2.5,  6. ,  2.9,  7. ,  9.5])"
      ]
     },
     "execution_count": 15,
     "metadata": {},
     "output_type": "execute_result"
    }
   ],
   "source": [
    "#check value unique rating\n",
    "corpus['reviews_rating'].unique()"
   ]
  },
  {
   "cell_type": "markdown",
   "metadata": {},
   "source": [
    "# Feature Engineering"
   ]
  },
  {
   "cell_type": "code",
   "execution_count": 16,
   "metadata": {},
   "outputs": [],
   "source": [
    "#feature engineering, choose reviews_rating = 4 as neutal rating and set it = 0\n",
    "corpus.loc[(corpus ['reviews_rating'] == 4)] = np.nan\n",
    "reviews_rating = corpus['reviews_rating']\n",
    "reviews_rating.fillna(value=0, inplace =True)"
   ]
  },
  {
   "cell_type": "code",
   "execution_count": 17,
   "metadata": {},
   "outputs": [],
   "source": [
    "#delete features that are not needed in data\n",
    "corpus.drop(['latitude','longitude','reviews_doRecommend', 'reviews_dateAdded', 'reviews_date', 'province', 'postalCode','reviews_userProvince', 'reviews_id', 'reviews_userCity'],axis=1,inplace=True)"
   ]
  },
  {
   "cell_type": "code",
   "execution_count": 18,
   "metadata": {},
   "outputs": [
    {
     "data": {
      "text/plain": [
       "array([ 0. ,  5. ,  3. ,  1. ,  2. ,  4.1,  4.9,  4.8,  3.4,  2.4,  3.1,\n",
       "        3.2,  3.3,  9.6, 10. ,  8.3,  8.8,  9.2,  7.5,  7.9,  7.1,  3.8,\n",
       "        5.8,  6.7,  6.3,  4.2,  4.5,  3.9,  1.3,  4.3,  4.7,  2.8,  4.4,\n",
       "        1.5,  4.6,  3.7,  5.4,  2.5,  6. ,  2.9,  7. ,  9.5])"
      ]
     },
     "execution_count": 18,
     "metadata": {},
     "output_type": "execute_result"
    }
   ],
   "source": [
    "corpus['reviews_rating'].unique()"
   ]
  },
  {
   "cell_type": "code",
   "execution_count": 19,
   "metadata": {},
   "outputs": [],
   "source": [
    "# feature engineering by create rating implicit and explicit\n",
    "ratings_explicit= corpus[corpus['reviews_rating'] != 0]\n",
    "ratings_implicit= corpus[corpus['reviews_rating'] == 0]"
   ]
  },
  {
   "cell_type": "code",
   "execution_count": 20,
   "metadata": {},
   "outputs": [],
   "source": [
    "# set corpus as dataframe of ratings_explicit\n",
    "corpus = ratings_explicit"
   ]
  },
  {
   "cell_type": "code",
   "execution_count": 21,
   "metadata": {},
   "outputs": [
    {
     "data": {
      "image/png": "[encoded data removed]",
      "text/plain": [
       "<Figure size 720x720 with 1 Axes>"
      ]
     },
     "metadata": {},
     "output_type": "display_data"
    }
   ],
   "source": [
    "#create visualization ratings_explicit of reviews_rating distribution\n",
    "sns.set_style('darkgrid')\n",
    "sns.countplot(data= ratings_explicit , x='reviews_rating')\n",
    "plt.show()"
   ]
  },
  {
   "cell_type": "code",
   "execution_count": 22,
   "metadata": {
    "colab": {
     "base_uri": "https://localhost:8080/"
    },
    "id": "nlK2PleBWIlm",
    "outputId": "eb9206f2-e832-45ea-ac52-28c2aa71e14f"
   },
   "outputs": [
    {
     "name": "stderr",
     "output_type": "stream",
     "text": [
      "C:\\Users\\Lenovo\\anaconda\\lib\\site-packages\\ipykernel_launcher.py:3: SettingWithCopyWarning: \n",
      "A value is trying to be set on a copy of a slice from a DataFrame\n",
      "\n",
      "See the caveats in the documentation: https://pandas.pydata.org/pandas-docs/stable/user_guide/indexing.html#returning-a-view-versus-a-copy\n",
      "  This is separate from the ipykernel package so we can avoid doing imports until\n"
     ]
    }
   ],
   "source": [
    "for i in range(0,len(corpus)-1):\n",
    "    if type(corpus.iloc[i]['reviews_text']) != str:\n",
    "        corpus.iloc[i]['reviews_text'] = str(corpus.iloc[i]['reviews_text'])"
   ]
  },
  {
   "cell_type": "code",
   "execution_count": 23,
   "metadata": {
    "colab": {
     "base_uri": "https://localhost:8080/",
     "height": 467
    },
    "id": "riOocqvsY5q6",
    "outputId": "050aef8c-06d5-4639-9437-4a726eb4b110"
   },
   "outputs": [
    {
     "data": {
      "text/html": [
       "<div>\n",
       "<style scoped>\n",
       "    .dataframe tbody tr th:only-of-type {\n",
       "        vertical-align: middle;\n",
       "    }\n",
       "\n",
       "    .dataframe tbody tr th {\n",
       "        vertical-align: top;\n",
       "    }\n",
       "\n",
       "    .dataframe thead th {\n",
       "        text-align: right;\n",
       "    }\n",
       "</style>\n",
       "<table border=\"1\" class=\"dataframe\">\n",
       "  <thead>\n",
       "    <tr style=\"text-align: right;\">\n",
       "      <th></th>\n",
       "      <th>address</th>\n",
       "      <th>categories</th>\n",
       "      <th>city</th>\n",
       "      <th>country</th>\n",
       "      <th>name</th>\n",
       "      <th>reviews_rating</th>\n",
       "      <th>reviews_text</th>\n",
       "      <th>reviews_title</th>\n",
       "      <th>reviews_username</th>\n",
       "      <th>response</th>\n",
       "    </tr>\n",
       "  </thead>\n",
       "  <tbody>\n",
       "    <tr>\n",
       "      <th>1</th>\n",
       "      <td>Riviera San Nicol 11/a</td>\n",
       "      <td>Hotels</td>\n",
       "      <td>Mableton</td>\n",
       "      <td>US</td>\n",
       "      <td>Hotel Russo Palace</td>\n",
       "      <td>5.0</td>\n",
       "      <td>Really lovely hotel. Stayed on the very top fl...</td>\n",
       "      <td>Great hotel with Jacuzzi bath!</td>\n",
       "      <td>A Traveler</td>\n",
       "      <td>positive</td>\n",
       "    </tr>\n",
       "    <tr>\n",
       "      <th>2</th>\n",
       "      <td>Riviera San Nicol 11/a</td>\n",
       "      <td>Hotels</td>\n",
       "      <td>Mableton</td>\n",
       "      <td>US</td>\n",
       "      <td>Hotel Russo Palace</td>\n",
       "      <td>5.0</td>\n",
       "      <td>Ett mycket bra hotell. Det som drog ner betyge...</td>\n",
       "      <td>Lugnt l��ge</td>\n",
       "      <td>Maud</td>\n",
       "      <td>positive</td>\n",
       "    </tr>\n",
       "    <tr>\n",
       "      <th>3</th>\n",
       "      <td>Riviera San Nicol 11/a</td>\n",
       "      <td>Hotels</td>\n",
       "      <td>Mableton</td>\n",
       "      <td>US</td>\n",
       "      <td>Hotel Russo Palace</td>\n",
       "      <td>5.0</td>\n",
       "      <td>We stayed here for four nights in October. The...</td>\n",
       "      <td>Good location on the Lido.</td>\n",
       "      <td>Julie</td>\n",
       "      <td>positive</td>\n",
       "    </tr>\n",
       "    <tr>\n",
       "      <th>4</th>\n",
       "      <td>Riviera San Nicol 11/a</td>\n",
       "      <td>Hotels</td>\n",
       "      <td>Mableton</td>\n",
       "      <td>US</td>\n",
       "      <td>Hotel Russo Palace</td>\n",
       "      <td>5.0</td>\n",
       "      <td>We stayed here for four nights in October. The...</td>\n",
       "      <td>������ ���������������</td>\n",
       "      <td>sungchul</td>\n",
       "      <td>positive</td>\n",
       "    </tr>\n",
       "    <tr>\n",
       "      <th>5</th>\n",
       "      <td>Riviera San Nicol 11/a</td>\n",
       "      <td>Hotels</td>\n",
       "      <td>Mableton</td>\n",
       "      <td>US</td>\n",
       "      <td>Hotel Russo Palace</td>\n",
       "      <td>5.0</td>\n",
       "      <td>We loved staying on the island of Lido! You ne...</td>\n",
       "      <td>Very nice hotel</td>\n",
       "      <td>A Traveler</td>\n",
       "      <td>positive</td>\n",
       "    </tr>\n",
       "  </tbody>\n",
       "</table>\n",
       "</div>"
      ],
      "text/plain": [
       "                  address categories      city country                name  \\\n",
       "1  Riviera San Nicol 11/a     Hotels  Mableton      US  Hotel Russo Palace   \n",
       "2  Riviera San Nicol 11/a     Hotels  Mableton      US  Hotel Russo Palace   \n",
       "3  Riviera San Nicol 11/a     Hotels  Mableton      US  Hotel Russo Palace   \n",
       "4  Riviera San Nicol 11/a     Hotels  Mableton      US  Hotel Russo Palace   \n",
       "5  Riviera San Nicol 11/a     Hotels  Mableton      US  Hotel Russo Palace   \n",
       "\n",
       "   reviews_rating                                       reviews_text  \\\n",
       "1             5.0  Really lovely hotel. Stayed on the very top fl...   \n",
       "2             5.0  Ett mycket bra hotell. Det som drog ner betyge...   \n",
       "3             5.0  We stayed here for four nights in October. The...   \n",
       "4             5.0  We stayed here for four nights in October. The...   \n",
       "5             5.0  We loved staying on the island of Lido! You ne...   \n",
       "\n",
       "                    reviews_title reviews_username  response  \n",
       "1  Great hotel with Jacuzzi bath!       A Traveler  positive  \n",
       "2                     Lugnt l��ge             Maud  positive  \n",
       "3      Good location on the Lido.            Julie  positive  \n",
       "4          ������ ���������������         sungchul  positive  \n",
       "5                 Very nice hotel       A Traveler  positive  "
      ]
     },
     "execution_count": 23,
     "metadata": {},
     "output_type": "execute_result"
    }
   ],
   "source": [
    "#labeling data\n",
    "def sentiment(n):\n",
    "    return 'positive' if n >= 5 else 'negative'\n",
    "corpus['response'] = corpus['reviews_rating'].apply(sentiment)\n",
    "corpus.head()"
   ]
  },
  {
   "cell_type": "code",
   "execution_count": 24,
   "metadata": {
    "colab": {
     "base_uri": "https://localhost:8080/",
     "height": 567
    },
    "id": "cD7BNiWrZQBy",
    "outputId": "e7f12953-b9d3-4aeb-fef0-c5b8b407911c"
   },
   "outputs": [
    {
     "data": {
      "text/html": [
       "<div>\n",
       "<style scoped>\n",
       "    .dataframe tbody tr th:only-of-type {\n",
       "        vertical-align: middle;\n",
       "    }\n",
       "\n",
       "    .dataframe tbody tr th {\n",
       "        vertical-align: top;\n",
       "    }\n",
       "\n",
       "    .dataframe thead th {\n",
       "        text-align: right;\n",
       "    }\n",
       "</style>\n",
       "<table border=\"1\" class=\"dataframe\">\n",
       "  <thead>\n",
       "    <tr style=\"text-align: right;\">\n",
       "      <th></th>\n",
       "      <th>reviews_text</th>\n",
       "      <th>response</th>\n",
       "    </tr>\n",
       "  </thead>\n",
       "  <tbody>\n",
       "    <tr>\n",
       "      <th>1</th>\n",
       "      <td>Really lovely hotel. Stayed on the very top fl...</td>\n",
       "      <td>positive</td>\n",
       "    </tr>\n",
       "    <tr>\n",
       "      <th>2</th>\n",
       "      <td>Ett mycket bra hotell. Det som drog ner betyge...</td>\n",
       "      <td>positive</td>\n",
       "    </tr>\n",
       "    <tr>\n",
       "      <th>3</th>\n",
       "      <td>We stayed here for four nights in October. The...</td>\n",
       "      <td>positive</td>\n",
       "    </tr>\n",
       "    <tr>\n",
       "      <th>4</th>\n",
       "      <td>We stayed here for four nights in October. The...</td>\n",
       "      <td>positive</td>\n",
       "    </tr>\n",
       "    <tr>\n",
       "      <th>5</th>\n",
       "      <td>We loved staying on the island of Lido! You ne...</td>\n",
       "      <td>positive</td>\n",
       "    </tr>\n",
       "    <tr>\n",
       "      <th>...</th>\n",
       "      <td>...</td>\n",
       "      <td>...</td>\n",
       "    </tr>\n",
       "    <tr>\n",
       "      <th>35905</th>\n",
       "      <td>We truly enjoyed staying at the Elk Springs re...</td>\n",
       "      <td>positive</td>\n",
       "    </tr>\n",
       "    <tr>\n",
       "      <th>35906</th>\n",
       "      <td>We were here for a 2nd time the last weekend o...</td>\n",
       "      <td>positive</td>\n",
       "    </tr>\n",
       "    <tr>\n",
       "      <th>35907</th>\n",
       "      <td>Best of the Best!!!! My family and I stayed in...</td>\n",
       "      <td>positive</td>\n",
       "    </tr>\n",
       "    <tr>\n",
       "      <th>35908</th>\n",
       "      <td>Amazing Vacation in Beautiful Cabin We stayed ...</td>\n",
       "      <td>positive</td>\n",
       "    </tr>\n",
       "    <tr>\n",
       "      <th>35909</th>\n",
       "      <td>My husband and I stayed at Tree Tops which is ...</td>\n",
       "      <td>positive</td>\n",
       "    </tr>\n",
       "  </tbody>\n",
       "</table>\n",
       "<p>24958 rows × 2 columns</p>\n",
       "</div>"
      ],
      "text/plain": [
       "                                            reviews_text  response\n",
       "1      Really lovely hotel. Stayed on the very top fl...  positive\n",
       "2      Ett mycket bra hotell. Det som drog ner betyge...  positive\n",
       "3      We stayed here for four nights in October. The...  positive\n",
       "4      We stayed here for four nights in October. The...  positive\n",
       "5      We loved staying on the island of Lido! You ne...  positive\n",
       "...                                                  ...       ...\n",
       "35905  We truly enjoyed staying at the Elk Springs re...  positive\n",
       "35906  We were here for a 2nd time the last weekend o...  positive\n",
       "35907  Best of the Best!!!! My family and I stayed in...  positive\n",
       "35908  Amazing Vacation in Beautiful Cabin We stayed ...  positive\n",
       "35909  My husband and I stayed at Tree Tops which is ...  positive\n",
       "\n",
       "[24958 rows x 2 columns]"
      ]
     },
     "execution_count": 24,
     "metadata": {},
     "output_type": "execute_result"
    }
   ],
   "source": [
    "#check corpus\n",
    "corpus[['reviews_text','response']]"
   ]
  },
  {
   "cell_type": "code",
   "execution_count": 25,
   "metadata": {
    "colab": {
     "base_uri": "https://localhost:8080/",
     "height": 917
    },
    "id": "-8hgCyXwZof6",
    "outputId": "2905be34-1349-4a4d-e1f6-e62618ae1360"
   },
   "outputs": [
    {
     "data": {
      "text/html": [
       "<div>\n",
       "<style scoped>\n",
       "    .dataframe tbody tr th:only-of-type {\n",
       "        vertical-align: middle;\n",
       "    }\n",
       "\n",
       "    .dataframe tbody tr th {\n",
       "        vertical-align: top;\n",
       "    }\n",
       "\n",
       "    .dataframe thead th {\n",
       "        text-align: right;\n",
       "    }\n",
       "</style>\n",
       "<table border=\"1\" class=\"dataframe\">\n",
       "  <thead>\n",
       "    <tr style=\"text-align: right;\">\n",
       "      <th></th>\n",
       "      <th>address</th>\n",
       "      <th>categories</th>\n",
       "      <th>city</th>\n",
       "      <th>country</th>\n",
       "      <th>name</th>\n",
       "      <th>reviews_rating</th>\n",
       "      <th>reviews_text</th>\n",
       "      <th>reviews_title</th>\n",
       "      <th>reviews_username</th>\n",
       "      <th>response</th>\n",
       "    </tr>\n",
       "  </thead>\n",
       "  <tbody>\n",
       "    <tr>\n",
       "      <th>25252</th>\n",
       "      <td>7865 Perry Hwy</td>\n",
       "      <td>Hotels,Hotels &amp; Motels,Hotel</td>\n",
       "      <td>Erie</td>\n",
       "      <td>US</td>\n",
       "      <td>Red Roof Inn Erie</td>\n",
       "      <td>5.0</td>\n",
       "      <td>The room was nice. It was pretty quiet, even t...</td>\n",
       "      <td>Pretty good, and good price</td>\n",
       "      <td>Susan C</td>\n",
       "      <td>positive</td>\n",
       "    </tr>\n",
       "    <tr>\n",
       "      <th>10857</th>\n",
       "      <td>703 S Negley Ave</td>\n",
       "      <td>Bed &amp; Breakfasts,Weekend Getaway Hotels,Hotels...</td>\n",
       "      <td>Pittsburgh</td>\n",
       "      <td>US</td>\n",
       "      <td>The Inn On Negley</td>\n",
       "      <td>5.0</td>\n",
       "      <td>I had the very good fortune of visiting Pittsb...</td>\n",
       "      <td>My favorite BB!!</td>\n",
       "      <td>carnetdevoyage</td>\n",
       "      <td>positive</td>\n",
       "    </tr>\n",
       "    <tr>\n",
       "      <th>11989</th>\n",
       "      <td>Via Pirandello 81</td>\n",
       "      <td>Hotels</td>\n",
       "      <td>Medina</td>\n",
       "      <td>US</td>\n",
       "      <td>Villa Carlotta</td>\n",
       "      <td>5.0</td>\n",
       "      <td>Fantastic welcoming. Beautiful rooms amazing b...</td>\n",
       "      <td>Just wonderful</td>\n",
       "      <td>A Traveler</td>\n",
       "      <td>positive</td>\n",
       "    </tr>\n",
       "    <tr>\n",
       "      <th>1752</th>\n",
       "      <td>926 J St</td>\n",
       "      <td>Hotels,Hotel</td>\n",
       "      <td>Sacramento</td>\n",
       "      <td>US</td>\n",
       "      <td>The Citizen Hotel, Autograph Collection</td>\n",
       "      <td>5.0</td>\n",
       "      <td>This is a gorgeous hotel! We had our wedding h...</td>\n",
       "      <td>NaN</td>\n",
       "      <td>knschroeder</td>\n",
       "      <td>positive</td>\n",
       "    </tr>\n",
       "    <tr>\n",
       "      <th>24828</th>\n",
       "      <td>125 W 26th St</td>\n",
       "      <td>Conventions Conferences &amp; Trade Shows,Wedding ...</td>\n",
       "      <td>New York</td>\n",
       "      <td>US</td>\n",
       "      <td>Holiday Inn Manhattan 6th Ave - Chelsea</td>\n",
       "      <td>3.0</td>\n",
       "      <td>Take a room in the upper floors, breathtaking ...</td>\n",
       "      <td>NaN</td>\n",
       "      <td>Manuel Enrico</td>\n",
       "      <td>negative</td>\n",
       "    </tr>\n",
       "    <tr>\n",
       "      <th>15431</th>\n",
       "      <td>95 Route 17k</td>\n",
       "      <td>Hotels</td>\n",
       "      <td>Newburgh</td>\n",
       "      <td>US</td>\n",
       "      <td>Howard Johnson Inn - Newburgh</td>\n",
       "      <td>2.0</td>\n",
       "      <td>It was ok, they definitely need new towels.</td>\n",
       "      <td>We had expected much more from Howard Johnson</td>\n",
       "      <td>A verified traveler</td>\n",
       "      <td>negative</td>\n",
       "    </tr>\n",
       "    <tr>\n",
       "      <th>7228</th>\n",
       "      <td>2707 Veterans Ave</td>\n",
       "      <td>Travel &amp; Transport,Hotels,Hotels &amp; Motels</td>\n",
       "      <td>Vandalia</td>\n",
       "      <td>US</td>\n",
       "      <td>Ramada Vandalia</td>\n",
       "      <td>2.0</td>\n",
       "      <td>They could not find my reservation therefore I...</td>\n",
       "      <td>They could not find my reservation . Double ch...</td>\n",
       "      <td>Paul</td>\n",
       "      <td>negative</td>\n",
       "    </tr>\n",
       "    <tr>\n",
       "      <th>6403</th>\n",
       "      <td>3614 W Garriott Rd</td>\n",
       "      <td>Hotels</td>\n",
       "      <td>Enid</td>\n",
       "      <td>US</td>\n",
       "      <td>Baymont Inn and Suites Enid</td>\n",
       "      <td>1.0</td>\n",
       "      <td>The rooms are very average, but the main reaso...</td>\n",
       "      <td>Worst manager in the history of Hotels!</td>\n",
       "      <td>Gail</td>\n",
       "      <td>negative</td>\n",
       "    </tr>\n",
       "    <tr>\n",
       "      <th>35402</th>\n",
       "      <td>1350 W Atlantic St</td>\n",
       "      <td>Wedding Sites,Hotels,Hotels &amp; Motels,Meeting F...</td>\n",
       "      <td>Emporia</td>\n",
       "      <td>US</td>\n",
       "      <td>Holiday Inn Express Hotel &amp; Suites Emporia</td>\n",
       "      <td>5.0</td>\n",
       "      <td>Just a stop point on way home</td>\n",
       "      <td>Nice respite.</td>\n",
       "      <td>Lawrence A</td>\n",
       "      <td>positive</td>\n",
       "    </tr>\n",
       "    <tr>\n",
       "      <th>15333</th>\n",
       "      <td>95 Route 17k</td>\n",
       "      <td>Hotels</td>\n",
       "      <td>Newburgh</td>\n",
       "      <td>US</td>\n",
       "      <td>Howard Johnson Inn - Newburgh</td>\n",
       "      <td>3.0</td>\n",
       "      <td>I stayed here cause the rate was right but whe...</td>\n",
       "      <td>Only ok nothing great</td>\n",
       "      <td>JANEEN N</td>\n",
       "      <td>negative</td>\n",
       "    </tr>\n",
       "  </tbody>\n",
       "</table>\n",
       "</div>"
      ],
      "text/plain": [
       "                  address                                         categories  \\\n",
       "25252      7865 Perry Hwy                       Hotels,Hotels & Motels,Hotel   \n",
       "10857    703 S Negley Ave  Bed & Breakfasts,Weekend Getaway Hotels,Hotels...   \n",
       "11989   Via Pirandello 81                                             Hotels   \n",
       "1752             926 J St                                       Hotels,Hotel   \n",
       "24828       125 W 26th St  Conventions Conferences & Trade Shows,Wedding ...   \n",
       "15431        95 Route 17k                                             Hotels   \n",
       "7228    2707 Veterans Ave          Travel & Transport,Hotels,Hotels & Motels   \n",
       "6403   3614 W Garriott Rd                                             Hotels   \n",
       "35402  1350 W Atlantic St  Wedding Sites,Hotels,Hotels & Motels,Meeting F...   \n",
       "15333        95 Route 17k                                             Hotels   \n",
       "\n",
       "             city country                                        name  \\\n",
       "25252        Erie      US                           Red Roof Inn Erie   \n",
       "10857  Pittsburgh      US                           The Inn On Negley   \n",
       "11989      Medina      US                              Villa Carlotta   \n",
       "1752   Sacramento      US     The Citizen Hotel, Autograph Collection   \n",
       "24828    New York      US     Holiday Inn Manhattan 6th Ave - Chelsea   \n",
       "15431    Newburgh      US               Howard Johnson Inn - Newburgh   \n",
       "7228     Vandalia      US                             Ramada Vandalia   \n",
       "6403         Enid      US                 Baymont Inn and Suites Enid   \n",
       "35402     Emporia      US  Holiday Inn Express Hotel & Suites Emporia   \n",
       "15333    Newburgh      US               Howard Johnson Inn - Newburgh   \n",
       "\n",
       "       reviews_rating                                       reviews_text  \\\n",
       "25252             5.0  The room was nice. It was pretty quiet, even t...   \n",
       "10857             5.0  I had the very good fortune of visiting Pittsb...   \n",
       "11989             5.0  Fantastic welcoming. Beautiful rooms amazing b...   \n",
       "1752              5.0  This is a gorgeous hotel! We had our wedding h...   \n",
       "24828             3.0  Take a room in the upper floors, breathtaking ...   \n",
       "15431             2.0        It was ok, they definitely need new towels.   \n",
       "7228              2.0  They could not find my reservation therefore I...   \n",
       "6403              1.0  The rooms are very average, but the main reaso...   \n",
       "35402             5.0                      Just a stop point on way home   \n",
       "15333             3.0  I stayed here cause the rate was right but whe...   \n",
       "\n",
       "                                           reviews_title     reviews_username  \\\n",
       "25252                        Pretty good, and good price              Susan C   \n",
       "10857                                   My favorite BB!!       carnetdevoyage   \n",
       "11989                                     Just wonderful           A Traveler   \n",
       "1752                                                 NaN          knschroeder   \n",
       "24828                                                NaN        Manuel Enrico   \n",
       "15431      We had expected much more from Howard Johnson  A verified traveler   \n",
       "7228   They could not find my reservation . Double ch...                 Paul   \n",
       "6403             Worst manager in the history of Hotels!                 Gail   \n",
       "35402                                      Nice respite.           Lawrence A   \n",
       "15333                              Only ok nothing great             JANEEN N   \n",
       "\n",
       "       response  \n",
       "25252  positive  \n",
       "10857  positive  \n",
       "11989  positive  \n",
       "1752   positive  \n",
       "24828  negative  \n",
       "15431  negative  \n",
       "7228   negative  \n",
       "6403   negative  \n",
       "35402  positive  \n",
       "15333  negative  "
      ]
     },
     "execution_count": 25,
     "metadata": {},
     "output_type": "execute_result"
    }
   ],
   "source": [
    "corpus.sample(10)"
   ]
  },
  {
   "cell_type": "code",
   "execution_count": 26,
   "metadata": {
    "colab": {
     "base_uri": "https://localhost:8080/",
     "height": 407
    },
    "id": "sop8DHturmvK",
    "outputId": "77ab8ea3-48f8-4c2b-927c-6d896e484a27"
   },
   "outputs": [
    {
     "data": {
      "text/html": [
       "<div>\n",
       "<style scoped>\n",
       "    .dataframe tbody tr th:only-of-type {\n",
       "        vertical-align: middle;\n",
       "    }\n",
       "\n",
       "    .dataframe tbody tr th {\n",
       "        vertical-align: top;\n",
       "    }\n",
       "\n",
       "    .dataframe thead th {\n",
       "        text-align: right;\n",
       "    }\n",
       "</style>\n",
       "<table border=\"1\" class=\"dataframe\">\n",
       "  <thead>\n",
       "    <tr style=\"text-align: right;\">\n",
       "      <th></th>\n",
       "      <th>reviews_text</th>\n",
       "      <th>response</th>\n",
       "    </tr>\n",
       "  </thead>\n",
       "  <tbody>\n",
       "    <tr>\n",
       "      <th>1</th>\n",
       "      <td>Really lovely hotel. Stayed on the very top fl...</td>\n",
       "      <td>positive</td>\n",
       "    </tr>\n",
       "    <tr>\n",
       "      <th>2</th>\n",
       "      <td>Ett mycket bra hotell. Det som drog ner betyge...</td>\n",
       "      <td>positive</td>\n",
       "    </tr>\n",
       "    <tr>\n",
       "      <th>3</th>\n",
       "      <td>We stayed here for four nights in October. The...</td>\n",
       "      <td>positive</td>\n",
       "    </tr>\n",
       "    <tr>\n",
       "      <th>4</th>\n",
       "      <td>We stayed here for four nights in October. The...</td>\n",
       "      <td>positive</td>\n",
       "    </tr>\n",
       "    <tr>\n",
       "      <th>5</th>\n",
       "      <td>We loved staying on the island of Lido! You ne...</td>\n",
       "      <td>positive</td>\n",
       "    </tr>\n",
       "    <tr>\n",
       "      <th>...</th>\n",
       "      <td>...</td>\n",
       "      <td>...</td>\n",
       "    </tr>\n",
       "    <tr>\n",
       "      <th>35905</th>\n",
       "      <td>We truly enjoyed staying at the Elk Springs re...</td>\n",
       "      <td>positive</td>\n",
       "    </tr>\n",
       "    <tr>\n",
       "      <th>35906</th>\n",
       "      <td>We were here for a 2nd time the last weekend o...</td>\n",
       "      <td>positive</td>\n",
       "    </tr>\n",
       "    <tr>\n",
       "      <th>35907</th>\n",
       "      <td>Best of the Best!!!! My family and I stayed in...</td>\n",
       "      <td>positive</td>\n",
       "    </tr>\n",
       "    <tr>\n",
       "      <th>35908</th>\n",
       "      <td>Amazing Vacation in Beautiful Cabin We stayed ...</td>\n",
       "      <td>positive</td>\n",
       "    </tr>\n",
       "    <tr>\n",
       "      <th>35909</th>\n",
       "      <td>My husband and I stayed at Tree Tops which is ...</td>\n",
       "      <td>positive</td>\n",
       "    </tr>\n",
       "  </tbody>\n",
       "</table>\n",
       "<p>24958 rows × 2 columns</p>\n",
       "</div>"
      ],
      "text/plain": [
       "                                            reviews_text  response\n",
       "1      Really lovely hotel. Stayed on the very top fl...  positive\n",
       "2      Ett mycket bra hotell. Det som drog ner betyge...  positive\n",
       "3      We stayed here for four nights in October. The...  positive\n",
       "4      We stayed here for four nights in October. The...  positive\n",
       "5      We loved staying on the island of Lido! You ne...  positive\n",
       "...                                                  ...       ...\n",
       "35905  We truly enjoyed staying at the Elk Springs re...  positive\n",
       "35906  We were here for a 2nd time the last weekend o...  positive\n",
       "35907  Best of the Best!!!! My family and I stayed in...  positive\n",
       "35908  Amazing Vacation in Beautiful Cabin We stayed ...  positive\n",
       "35909  My husband and I stayed at Tree Tops which is ...  positive\n",
       "\n",
       "[24958 rows x 2 columns]"
      ]
     },
     "execution_count": 26,
     "metadata": {},
     "output_type": "execute_result"
    }
   ],
   "source": [
    "corpus[['reviews_text','response']]"
   ]
  },
  {
   "cell_type": "code",
   "execution_count": 27,
   "metadata": {
    "colab": {
     "base_uri": "https://localhost:8080/"
    },
    "id": "FqzCOXZtBiTQ",
    "outputId": "7c6204af-aef5-4841-8e70-ccb80480c870"
   },
   "outputs": [
    {
     "name": "stdout",
     "output_type": "stream",
     "text": [
      "Positive Reviews :  13028\n",
      "Negative Reviews :  11930\n"
     ]
    }
   ],
   "source": [
    "review_positif = len([x for x in corpus['response'] if x == 'positive'])\n",
    "review_negatif = len([x for x in corpus['response'] if x == 'negative'])\n",
    "print('Positive Reviews : ',review_positif)\n",
    "print('Negative Reviews : ',review_negatif)"
   ]
  },
  {
   "cell_type": "code",
   "execution_count": 28,
   "metadata": {
    "colab": {
     "base_uri": "https://localhost:8080/",
     "height": 622
    },
    "id": "XqlQ0QtGCr9S",
    "outputId": "0fa5779b-0118-41df-9e60-32225c26a8ce"
   },
   "outputs": [
    {
     "data": {
      "image/png": "[encoded data removed]",
      "text/plain": [
       "<Figure size 720x720 with 1 Axes>"
      ]
     },
     "metadata": {},
     "output_type": "display_data"
    }
   ],
   "source": [
    "#show the sentiment distribution\n",
    "f = sns.countplot(x='response', data=corpus)\n",
    "f.set_title(\"Sentiment Distribution\")\n",
    "f.set_xticklabels(['Positive', 'Negative'])\n",
    "plt.xlabel(\"\");"
   ]
  },
  {
   "cell_type": "markdown",
   "metadata": {
    "id": "5WSr2C75uGr7"
   },
   "source": [
    "# Text Cleaning"
   ]
  },
  {
   "cell_type": "code",
   "execution_count": 29,
   "metadata": {
    "id": "7lwfl4yHGmPE"
   },
   "outputs": [],
   "source": [
    "#Regular Expression method to search for matching texts\n",
    "tokenizer = WordPunctTokenizer()\n",
    "review_handle = r'@[A-Za-z0-9_]+'                         # remove review handle (@username)\n",
    "url_handle = r'http[^ ]+'                                  # remove website URLs that start with 'https?://'\n",
    "combined_handle = r'|'.join((review_handle, url_handle))  # join\n",
    "www_handle = r'www.[^ ]+'                                  # remove website URLs that start with 'www.'\n",
    "punctuation_handle = r'\\W+'"
   ]
  },
  {
   "cell_type": "code",
   "execution_count": 30,
   "metadata": {
    "id": "EJ4ZZOP_padJ"
   },
   "outputs": [],
   "source": [
    "#import text file of stop words, stop words are the most common words in a language that adds no semantics meaning to a sentence\n",
    "stopwords = set(pd.read_csv('./stop-word-list.txt', sep='\\n', header=0).stopword)"
   ]
  },
  {
   "cell_type": "code",
   "execution_count": 31,
   "metadata": {
    "id": "aAEJ9GKSvOjD"
   },
   "outputs": [],
   "source": [
    "#define a function called process_text to process the text using the methods listed\n",
    "# case folding\n",
    "# remove punctuation\n",
    "# stopword removal\n",
    "# remove review handle (@username)\n",
    "# remove website URLs that start with 'https?://'\n",
    "# remove website URLs that start with 'www.'\n",
    "# tokenization\n",
    "import lxml\n",
    "\n",
    "def process_text(text):\n",
    "    soup = BeautifulSoup(text, 'lxml')\n",
    "    souped = soup.get_text()\n",
    "\n",
    "    try:\n",
    "        text = souped.decode(\"utf-8-sig\").replace(u\"\\ufffd\", \"?\")\n",
    "    except:\n",
    "        text = souped\n",
    "\n",
    "    cleaned_text = re.sub(punctuation_handle, \" \",(re.sub(www_handle, '', re.sub(combined_handle, '', text)).lower()))\n",
    "    cleaned_text = ' '.join([word for word in cleaned_text.split() if word not in stopwords])\n",
    "\n",
    "    return (\" \".join([word for word in tokenizer.tokenize(cleaned_text) if len(word) > 1])).strip()"
   ]
  },
  {
   "cell_type": "code",
   "execution_count": 32,
   "metadata": {},
   "outputs": [],
   "source": [
    "word = \"cause youre strong, you are wise\""
   ]
  },
  {
   "cell_type": "code",
   "execution_count": 33,
   "metadata": {
    "colab": {
     "base_uri": "https://localhost:8080/",
     "height": 85
    },
    "id": "C7EbhHmiz1Ue",
    "outputId": "01c96954-60d4-47c1-a68b-9f3b99ccee69"
   },
   "outputs": [
    {
     "data": {
      "text/plain": [
       "'stayed parents wife twin toddlers triple rooms hotel easy reach rooms placed furnished best feature extremely friendly helpful staff particularly ms annalucia ms anna ready listen help big smiles breakfasts good good spread guests welcome sit eat leisure important toddlers surely venice happily stay russo palace'"
      ]
     },
     "execution_count": 33,
     "metadata": {},
     "output_type": "execute_result"
    }
   ],
   "source": [
    "#test the above text cleaning method\n",
    "import lxml\n",
    "example_text = \"Stayed with parents, wife twin toddlers in two triple rooms. The hotel is easy to reach and the rooms were well placed well furnished. The best feature was extremely friendly helpful staff, particularly Ms. Annalucia Ms. Anna who were always ready to listen help out with big smiles. The breakfasts were very good, with good spread and the guests were made welcome to sit and eat at leisure (more important when you are with toddlers!) Would surely go back to Venice would happily stay again at Russo Palace.\"\n",
    "\n",
    "process_text(example_text)"
   ]
  },
  {
   "cell_type": "code",
   "execution_count": null,
   "metadata": {
    "id": "P6HSbwMjLRl-"
   },
   "outputs": [],
   "source": [
    "cleaned_text = []\n",
    "for text in corpus.reviews_text:\n",
    "  cleaned_text.append(process_text(text))\n",
    "  clean_text = pd.DataFrame({'clean_text' : cleaned_text})\n",
    "  corpus = pd.concat([corpus, clean_text], axis = 1)\n",
    "  corpus.sample(5)"
   ]
  },
  {
   "cell_type": "markdown",
   "metadata": {
    "id": "9nuAC5LxCFX9"
   },
   "source": [
    "# Splitting Train Data"
   ]
  },
  {
   "cell_type": "code",
   "execution_count": null,
   "metadata": {
    "id": "Y_QCw0XQNSa9"
   },
   "outputs": [],
   "source": [
    "from sklearn.model_selection import train_test_split\n",
    "\n",
    "attribute = corpus.clean_text\n",
    "target = corpus.reviews_text"
   ]
  },
  {
   "cell_type": "code",
   "execution_count": null,
   "metadata": {
    "id": "z17fketjDRjX"
   },
   "outputs": [],
   "source": [
    "attribute_train, attribute_test, target_train, target_test = train_test_split(attribute, target, test_size = 0.1, random_state = 225)\n",
    "\n",
    "print('attribute_train :', len(attribute_train))\n",
    "print('attribute_test  :', len(attribute_test))\n",
    "print('target_train :', len(target_train))\n",
    "print('target_test  :', len(target_test))"
   ]
  },
  {
   "cell_type": "markdown",
   "metadata": {
    "id": "3FJh89p4O4Yo"
   },
   "source": [
    "# Support Vector Machine"
   ]
  },
  {
   "cell_type": "code",
   "execution_count": null,
   "metadata": {
    "id": "08jBW-7yPMoT"
   },
   "outputs": [],
   "source": [
    "#importing lib\n",
    "import pandas as pd\n",
    "from sklearn import metrics\n",
    "from sklearn.model_selection import train_test_split\n",
    "from sklearn.feature_extraction.text import CountVectorizer\n",
    "from sklearn.svm import LinearSVC\n",
    "from sklearn.naive_bayes import MultinomialNB\n",
    "import seaborn as sns\n",
    "import pickle\n",
    "\n",
    "get_ipython().run_line_magic('matplotlib', 'inline')"
   ]
  },
  {
   "cell_type": "code",
   "execution_count": null,
   "metadata": {},
   "outputs": [],
   "source": [
    "#read data\n",
    "corpus = pd.read_csv('D:/MATA KULIAH/SEMESTER 7/PBA/Proyek/7282_1.csv')"
   ]
  },
  {
   "cell_type": "code",
   "execution_count": null,
   "metadata": {},
   "outputs": [],
   "source": [
    "def sentiment(n):\n",
    "    return 'positive' if n >= 4 else 'negative'\n",
    "corpus['response'] = corpus['reviews_rating'].apply(sentiment)\n",
    "corpus.head()"
   ]
  },
  {
   "cell_type": "code",
   "execution_count": null,
   "metadata": {
    "scrolled": true
   },
   "outputs": [],
   "source": [
    "#cek review pos dan neg dalam corpus\n",
    "review_positif = len([x for x in corpus['response'] if x == 'positive'])\n",
    "review_negatif = len([x for x in corpus['response'] if x == 'negative'])\n",
    "print('Review Positif : ',review_positif)\n",
    "print('Review Negatif : ',review_negatif)\n"
   ]
  },
  {
   "cell_type": "code",
   "execution_count": null,
   "metadata": {},
   "outputs": [],
   "source": [
    "import string\n",
    "#remove punctuation\n",
    "no_punctuations=[]\n",
    "i=0\n",
    "for word in corpus['reviews_text']:\n",
    "    for punctuation in string.punctuation:\n",
    "        text = text.replace(punctuation,\"\")\n",
    "    for number in '1234567890':\n",
    "        text = text.replace(number,\"\")\n",
    "    corpus['reviews_text'][i] = word\n",
    "    i = i+1\n",
    "    \n",
    "corpus['reviews_text'].head()\n",
    "    "
   ]
  },
  {
   "cell_type": "code",
   "execution_count": null,
   "metadata": {},
   "outputs": [],
   "source": [
    "\n",
    "x = corpus['reviews_text']\n",
    "y = corpus['response']\n"
   ]
  },
  {
   "cell_type": "code",
   "execution_count": null,
   "metadata": {},
   "outputs": [],
   "source": [
    "#stopword remove, dan tokenisasi\n",
    "vect = CountVectorizer(stop_words='english', ngram_range = (1,1), max_df = .80, min_df = 4)\n",
    "\n",
    "\n",
    "# In[10]:\n",
    "\n",
    "\n",
    "#create X_train, X_test, y_train, y_test\n",
    "X_train, X_test, y_train, y_test = train_test_split(x,y,random_state=1, test_size= 0.2)\n",
    "\n",
    "\n",
    "# In[11]:\n",
    "\n",
    "\n",
    "#Using training data to transform text into counts of features for each review\n",
    "vect.fit(X_train)\n",
    "\n",
    "\n",
    "# In[12]:\n",
    "\n",
    "\n",
    "X_train_dtm = vect.transform(X_train) \n",
    "\n",
    "\n",
    "# In[13]:\n",
    "\n",
    "\n",
    "X_test_dtm = vect.transform(X_test)\n",
    "\n",
    "\n",
    "# In[14]:\n",
    "\n",
    "\n",
    "#Creating model using multinomial naive bayes\n",
    "NB = MultinomialNB()\n",
    "NB.fit(X_train_dtm, y_train)\n",
    "y_pred = NB.predict(X_test_dtm)\n",
    "\n",
    "\n",
    "# In[15]:\n",
    "\n",
    "\n",
    "#Check the pos vs neg review\n",
    "tokens_words = vect.get_feature_names()\n",
    "print('Analysis')\n",
    "print('No. of tokens: ',len(tokens_words))\n",
    "counts = NB.feature_count_\n",
    "df_table = {'Token':tokens_words,'Negative': counts[0,:],'Positive': counts[1,:]}\n",
    "tokens = pd.DataFrame(df_table, columns= ['Token','Positive','Negative'])\n",
    "positives = len(tokens[tokens['Positive']>tokens['Negative']])\n",
    "negatives = len(tokens_words)-positives\n",
    "print('No. of positive tokens: ',positives)\n",
    "print('No. of negative tokens: ',negatives)\n",
    "\n",
    "\n",
    "# In[16]:\n",
    "\n",
    "\n",
    "#Accuracy SVM\n",
    "SVM = LinearSVC()\n",
    "SVM.fit(X_train_dtm, y_train)\n",
    "y_pred = SVM.predict(X_test_dtm)\n",
    "print('Support Vector Machine')\n",
    "print('Accuracy Score: ',metrics.accuracy_score(y_test,y_pred)*100,'%',sep='')\n",
    "\n"
   ]
  },
  {
   "cell_type": "code",
   "execution_count": null,
   "metadata": {},
   "outputs": [],
   "source": []
  },
  {
   "cell_type": "code",
   "execution_count": null,
   "metadata": {},
   "outputs": [],
   "source": []
  },
  {
   "cell_type": "code",
   "execution_count": null,
   "metadata": {},
   "outputs": [],
   "source": []
  }
 ],
 "metadata": {
  "colab": {
   "collapsed_sections": [],
   "name": "Sentiment Analysis Hotel Based on Review with Comparing Naive Bayes and SVM.ipynb",
   "provenance": []
  },
  "kernelspec": {
   "display_name": "Python 3",
   "language": "python",
   "name": "python3"
  },
  "language_info": {
   "codemirror_mode": {
    "name": "ipython",
    "version": 3
   },
   "file_extension": ".py",
   "mimetype": "text/x-python",
   "name": "python",
   "nbconvert_exporter": "python",
   "pygments_lexer": "ipython3",
   "version": "3.6.5"
  }
 },
 "nbformat": 4,
 "nbformat_minor": 1
}
